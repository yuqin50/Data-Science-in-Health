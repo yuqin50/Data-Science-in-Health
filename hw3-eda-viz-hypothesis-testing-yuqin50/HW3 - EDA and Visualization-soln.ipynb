{
 "cells": [
  {
   "cell_type": "markdown",
   "metadata": {},
   "source": [
    "# HW3 - Exploratory Data Analysis, Visualization, Hypothesis Testing"
   ]
  },
  {
   "cell_type": "markdown",
   "metadata": {},
   "source": [
    "In this homework, we are going to pick up exactly where we left off last time. "
   ]
  },
  {
   "cell_type": "code",
   "execution_count": 1,
   "metadata": {},
   "outputs": [],
   "source": [
    "import pandas as pd\n",
    "import matplotlib.pyplot as plt\n",
    "import seaborn as sns\n",
    "import numpy as np\n",
    "%matplotlib inline"
   ]
  },
  {
   "cell_type": "markdown",
   "metadata": {},
   "source": [
    "In this assignment, we will be using the same diabetes dataset as before. Just like last time, create a data folder and place the data inside. Add a `.gitignore` file just like last time to prevent yourself from committing the file:"
   ]
  },
  {
   "cell_type": "code",
   "execution_count": 2,
   "metadata": {
    "scrolled": true
   },
   "outputs": [
    {
     "data": {
      "text/html": [
       "<div>\n",
       "<style scoped>\n",
       "    .dataframe tbody tr th:only-of-type {\n",
       "        vertical-align: middle;\n",
       "    }\n",
       "\n",
       "    .dataframe tbody tr th {\n",
       "        vertical-align: top;\n",
       "    }\n",
       "\n",
       "    .dataframe thead th {\n",
       "        text-align: right;\n",
       "    }\n",
       "</style>\n",
       "<table border=\"1\" class=\"dataframe\">\n",
       "  <thead>\n",
       "    <tr style=\"text-align: right;\">\n",
       "      <th></th>\n",
       "      <th>encounter_id</th>\n",
       "      <th>patient_nbr</th>\n",
       "      <th>race</th>\n",
       "      <th>gender</th>\n",
       "      <th>age</th>\n",
       "      <th>weight</th>\n",
       "      <th>admission_type_id</th>\n",
       "      <th>discharge_disposition_id</th>\n",
       "      <th>admission_source_id</th>\n",
       "      <th>time_in_hospital</th>\n",
       "      <th>...</th>\n",
       "      <th>citoglipton</th>\n",
       "      <th>insulin</th>\n",
       "      <th>glyburide-metformin</th>\n",
       "      <th>glipizide-metformin</th>\n",
       "      <th>glimepiride-pioglitazone</th>\n",
       "      <th>metformin-rosiglitazone</th>\n",
       "      <th>metformin-pioglitazone</th>\n",
       "      <th>change</th>\n",
       "      <th>diabetesMed</th>\n",
       "      <th>readmitted</th>\n",
       "    </tr>\n",
       "  </thead>\n",
       "  <tbody>\n",
       "    <tr>\n",
       "      <th>0</th>\n",
       "      <td>2278392</td>\n",
       "      <td>8222157</td>\n",
       "      <td>Caucasian</td>\n",
       "      <td>Female</td>\n",
       "      <td>[0-10)</td>\n",
       "      <td>?</td>\n",
       "      <td>6</td>\n",
       "      <td>25</td>\n",
       "      <td>1</td>\n",
       "      <td>1</td>\n",
       "      <td>...</td>\n",
       "      <td>No</td>\n",
       "      <td>No</td>\n",
       "      <td>No</td>\n",
       "      <td>No</td>\n",
       "      <td>No</td>\n",
       "      <td>No</td>\n",
       "      <td>No</td>\n",
       "      <td>No</td>\n",
       "      <td>No</td>\n",
       "      <td>NO</td>\n",
       "    </tr>\n",
       "    <tr>\n",
       "      <th>1</th>\n",
       "      <td>149190</td>\n",
       "      <td>55629189</td>\n",
       "      <td>Caucasian</td>\n",
       "      <td>Female</td>\n",
       "      <td>[10-20)</td>\n",
       "      <td>?</td>\n",
       "      <td>1</td>\n",
       "      <td>1</td>\n",
       "      <td>7</td>\n",
       "      <td>3</td>\n",
       "      <td>...</td>\n",
       "      <td>No</td>\n",
       "      <td>Up</td>\n",
       "      <td>No</td>\n",
       "      <td>No</td>\n",
       "      <td>No</td>\n",
       "      <td>No</td>\n",
       "      <td>No</td>\n",
       "      <td>Ch</td>\n",
       "      <td>Yes</td>\n",
       "      <td>&gt;30</td>\n",
       "    </tr>\n",
       "    <tr>\n",
       "      <th>2</th>\n",
       "      <td>64410</td>\n",
       "      <td>86047875</td>\n",
       "      <td>AfricanAmerican</td>\n",
       "      <td>Female</td>\n",
       "      <td>[20-30)</td>\n",
       "      <td>?</td>\n",
       "      <td>1</td>\n",
       "      <td>1</td>\n",
       "      <td>7</td>\n",
       "      <td>2</td>\n",
       "      <td>...</td>\n",
       "      <td>No</td>\n",
       "      <td>No</td>\n",
       "      <td>No</td>\n",
       "      <td>No</td>\n",
       "      <td>No</td>\n",
       "      <td>No</td>\n",
       "      <td>No</td>\n",
       "      <td>No</td>\n",
       "      <td>Yes</td>\n",
       "      <td>NO</td>\n",
       "    </tr>\n",
       "    <tr>\n",
       "      <th>3</th>\n",
       "      <td>500364</td>\n",
       "      <td>82442376</td>\n",
       "      <td>Caucasian</td>\n",
       "      <td>Male</td>\n",
       "      <td>[30-40)</td>\n",
       "      <td>?</td>\n",
       "      <td>1</td>\n",
       "      <td>1</td>\n",
       "      <td>7</td>\n",
       "      <td>2</td>\n",
       "      <td>...</td>\n",
       "      <td>No</td>\n",
       "      <td>Up</td>\n",
       "      <td>No</td>\n",
       "      <td>No</td>\n",
       "      <td>No</td>\n",
       "      <td>No</td>\n",
       "      <td>No</td>\n",
       "      <td>Ch</td>\n",
       "      <td>Yes</td>\n",
       "      <td>NO</td>\n",
       "    </tr>\n",
       "    <tr>\n",
       "      <th>4</th>\n",
       "      <td>16680</td>\n",
       "      <td>42519267</td>\n",
       "      <td>Caucasian</td>\n",
       "      <td>Male</td>\n",
       "      <td>[40-50)</td>\n",
       "      <td>?</td>\n",
       "      <td>1</td>\n",
       "      <td>1</td>\n",
       "      <td>7</td>\n",
       "      <td>1</td>\n",
       "      <td>...</td>\n",
       "      <td>No</td>\n",
       "      <td>Steady</td>\n",
       "      <td>No</td>\n",
       "      <td>No</td>\n",
       "      <td>No</td>\n",
       "      <td>No</td>\n",
       "      <td>No</td>\n",
       "      <td>Ch</td>\n",
       "      <td>Yes</td>\n",
       "      <td>NO</td>\n",
       "    </tr>\n",
       "  </tbody>\n",
       "</table>\n",
       "<p>5 rows × 50 columns</p>\n",
       "</div>"
      ],
      "text/plain": [
       "   encounter_id  patient_nbr             race  gender      age weight  \\\n",
       "0       2278392      8222157        Caucasian  Female   [0-10)      ?   \n",
       "1        149190     55629189        Caucasian  Female  [10-20)      ?   \n",
       "2         64410     86047875  AfricanAmerican  Female  [20-30)      ?   \n",
       "3        500364     82442376        Caucasian    Male  [30-40)      ?   \n",
       "4         16680     42519267        Caucasian    Male  [40-50)      ?   \n",
       "\n",
       "   admission_type_id  discharge_disposition_id  admission_source_id  \\\n",
       "0                  6                        25                    1   \n",
       "1                  1                         1                    7   \n",
       "2                  1                         1                    7   \n",
       "3                  1                         1                    7   \n",
       "4                  1                         1                    7   \n",
       "\n",
       "   time_in_hospital    ...     citoglipton insulin  glyburide-metformin  \\\n",
       "0                 1    ...              No      No                   No   \n",
       "1                 3    ...              No      Up                   No   \n",
       "2                 2    ...              No      No                   No   \n",
       "3                 2    ...              No      Up                   No   \n",
       "4                 1    ...              No  Steady                   No   \n",
       "\n",
       "   glipizide-metformin  glimepiride-pioglitazone  metformin-rosiglitazone  \\\n",
       "0                   No                        No                       No   \n",
       "1                   No                        No                       No   \n",
       "2                   No                        No                       No   \n",
       "3                   No                        No                       No   \n",
       "4                   No                        No                       No   \n",
       "\n",
       "   metformin-pioglitazone  change diabetesMed readmitted  \n",
       "0                      No      No          No         NO  \n",
       "1                      No      Ch         Yes        >30  \n",
       "2                      No      No         Yes         NO  \n",
       "3                      No      Ch         Yes         NO  \n",
       "4                      No      Ch         Yes         NO  \n",
       "\n",
       "[5 rows x 50 columns]"
      ]
     },
     "execution_count": 2,
     "metadata": {},
     "output_type": "execute_result"
    }
   ],
   "source": [
    "diabetes_df = pd.read_csv('diabetic_data.csv')\n",
    "diabetes_df.head()"
   ]
  },
  {
   "cell_type": "markdown",
   "metadata": {},
   "source": [
    "# Finding outliers"
   ]
  },
  {
   "cell_type": "markdown",
   "metadata": {},
   "source": [
    "During exploratory data analysis, it is generally important to find out if there are any outliers in the data. Outliers can greatly affect certain estimates such as means and standard deviations. In addition, certain types of statistical models do not work well in the presence of outliers.\n",
    "\n",
    "The statistical way of defining an outlier is generally to see whether it falls outside of the following range:\n",
    "\n",
    "$$(Q_1 - 1.5 * IQR, Q_3 + 1.5 * IQR)$$,\n",
    "\n",
    "where $Q_1$ is the 25th percentile, $Q_3$ is the 75th percentile, and the $IQR$ is the difference between them. "
   ]
  },
  {
   "cell_type": "markdown",
   "metadata": {},
   "source": [
    "The columns that you will be working with for the following exercise are as follows:\n",
    "\n",
    " * `num_lab_procedures`\n",
    " * `num_procedures`\n",
    " * `num_medications`\n",
    " * `number_outpatient`\n",
    " * `number_emergency`\n",
    " * `number_inpatient`\n",
    " * `number_diagnoses`"
   ]
  },
  {
   "cell_type": "markdown",
   "metadata": {},
   "source": [
    "## For each of the above columns, plot a histogram of the values [5 pts]\n",
    "\n",
    "You can use any method that you would like"
   ]
  },
  {
   "cell_type": "code",
   "execution_count": 3,
   "metadata": {},
   "outputs": [
    {
     "data": {
      "image/png": "[encoded data removed]",
      "text/plain": [
       "<Figure size 432x288 with 1 Axes>"
      ]
     },
     "metadata": {
      "needs_background": "light"
     },
     "output_type": "display_data"
    },
    {
     "data": {
      "image/png": "[encoded data removed]",
      "text/plain": [
       "<Figure size 432x288 with 1 Axes>"
      ]
     },
     "metadata": {
      "needs_background": "light"
     },
     "output_type": "display_data"
    },
    {
     "data": {
      "image/png": "[encoded data removed]",
      "text/plain": [
       "<Figure size 432x288 with 1 Axes>"
      ]
     },
     "metadata": {
      "needs_background": "light"
     },
     "output_type": "display_data"
    },
    {
     "data": {
      "image/png": "[encoded data removed]",
      "text/plain": [
       "<Figure size 432x288 with 1 Axes>"
      ]
     },
     "metadata": {
      "needs_background": "light"
     },
     "output_type": "display_data"
    },
    {
     "data": {
      "image/png": "[encoded data removed]",
      "text/plain": [
       "<Figure size 432x288 with 1 Axes>"
      ]
     },
     "metadata": {
      "needs_background": "light"
     },
     "output_type": "display_data"
    },
    {
     "data": {
      "image/png": "[encoded data removed]",
      "text/plain": [
       "<Figure size 432x288 with 1 Axes>"
      ]
     },
     "metadata": {
      "needs_background": "light"
     },
     "output_type": "display_data"
    },
    {
     "data": {
      "image/png": "[encoded data removed]",
      "text/plain": [
       "<Figure size 432x288 with 1 Axes>"
      ]
     },
     "metadata": {
      "needs_background": "light"
     },
     "output_type": "display_data"
    }
   ],
   "source": [
    "array = ['num_lab_procedures','num_procedures','num_medications','number_outpatient','number_emergency','number_inpatient','number_diagnoses']\n",
    "for string in array:\n",
    "    fig, ax = plt.subplots()\n",
    "    diabetes_df.hist(string, ax = ax)"
   ]
  },
  {
   "cell_type": "markdown",
   "metadata": {},
   "source": [
    "## Find the encounter ids which are outliers in each of the columns listed above [15 pts]\n",
    "\n",
    "> In order to do this, first compute the bounds for outliers as noted above for each of the columns necessary. Then, find the `encounter_id`s which have outlier values for each column and display them.\n"
   ]
  },
  {
   "cell_type": "code",
   "execution_count": 4,
   "metadata": {},
   "outputs": [
    {
     "name": "stdout",
     "output_type": "stream",
     "text": [
      "336         3331848\n",
      "623         4936380\n",
      "823         6479016\n",
      "830         6494982\n",
      "1079        7978098\n",
      "1545       10503348\n",
      "1595       10754916\n",
      "2619       16956072\n",
      "2673       17227758\n",
      "2857       18283560\n",
      "2928       18743664\n",
      "3099       19673208\n",
      "3968       23417688\n",
      "5485       28454754\n",
      "6298       31398072\n",
      "6522       32176266\n",
      "6694       32760876\n",
      "6781       33120834\n",
      "7728       36074274\n",
      "7737       36089712\n",
      "8938       39644706\n",
      "9470       41263296\n",
      "10556      44614098\n",
      "10671      44964066\n",
      "11478      47484624\n",
      "11945      49014930\n",
      "12653      51226458\n",
      "13163      52701030\n",
      "13885      54665280\n",
      "15532      59536380\n",
      "            ...    \n",
      "79682     244835376\n",
      "84839     268003482\n",
      "85204     269689188\n",
      "85867     272400348\n",
      "86297     274455804\n",
      "88100     282524652\n",
      "88208     282942948\n",
      "88650     285351102\n",
      "89795     290795556\n",
      "90624     297903518\n",
      "90838     301361900\n",
      "91410     309003956\n",
      "91639     311932982\n",
      "91776     313754882\n",
      "92379     321347684\n",
      "92751     326641136\n",
      "93176     332007476\n",
      "94139     344811806\n",
      "94464     348481808\n",
      "94558     349640264\n",
      "95025     356032760\n",
      "95516     362671838\n",
      "96081     370766150\n",
      "96266     373122344\n",
      "99591     414997262\n",
      "100457    426109136\n",
      "100671    429083114\n",
      "101541    440811602\n",
      "101587    441462884\n",
      "101671    442606028\n",
      "Name: encounter_id, Length: 143, dtype: int64\n",
      "5             35754\n",
      "120         2087892\n",
      "147         2363592\n",
      "155         2466036\n",
      "221         2789766\n",
      "225         2798190\n",
      "237         2843922\n",
      "279         3043686\n",
      "281         3044688\n",
      "285         3051324\n",
      "297         3118128\n",
      "325         3291906\n",
      "362         3482724\n",
      "363         3483090\n",
      "375         3590394\n",
      "385         3629472\n",
      "386         3634938\n",
      "411         3782454\n",
      "428         3894402\n",
      "445         3982836\n",
      "458         4080900\n",
      "459         4084140\n",
      "464         4089042\n",
      "466         4099092\n",
      "489         4218042\n",
      "499         4253874\n",
      "505         4262964\n",
      "544         4488132\n",
      "564         4582062\n",
      "575         4664574\n",
      "            ...    \n",
      "101387    438536900\n",
      "101395    438559034\n",
      "101420    439040276\n",
      "101438    439122542\n",
      "101443    439141790\n",
      "101444    439148210\n",
      "101454    439602032\n",
      "101462    439630898\n",
      "101465    439638182\n",
      "101469    439687376\n",
      "101479    439723898\n",
      "101535    440774228\n",
      "101541    440811602\n",
      "101575    441383192\n",
      "101583    441450614\n",
      "101587    441462884\n",
      "101611    441950420\n",
      "101617    441968210\n",
      "101638    442050440\n",
      "101676    442629116\n",
      "101686    443110592\n",
      "101715    443226344\n",
      "101717    443237984\n",
      "101719    443256548\n",
      "101725    443699066\n",
      "101739    443775740\n",
      "101747    443804570\n",
      "101751    443835140\n",
      "101755    443842022\n",
      "101756    443842070\n",
      "Name: encounter_id, Length: 4954, dtype: int64\n",
      "149         2373468\n",
      "336         3331848\n",
      "361         3479946\n",
      "411         3782454\n",
      "466         4099092\n",
      "511         4329624\n",
      "657         5184162\n",
      "728         5593794\n",
      "757         5836536\n",
      "783         6094530\n",
      "816         6402138\n",
      "820         6463974\n",
      "854         6722676\n",
      "1079        7978098\n",
      "1082        7980534\n",
      "1128        8228502\n",
      "1166        8381406\n",
      "1191        8439372\n",
      "1298        9089646\n",
      "1299        9118542\n",
      "1415        9785502\n",
      "1483       10086672\n",
      "1515       10320138\n",
      "1576       10671636\n",
      "1684       11195616\n",
      "1692       11217222\n",
      "1765       11653992\n",
      "1790       11723160\n",
      "1823       11945154\n",
      "1875       12142584\n",
      "            ...    \n",
      "100272    423733844\n",
      "100323    424362710\n",
      "100396    425459786\n",
      "100474    426159566\n",
      "100515    426745298\n",
      "100606    428405960\n",
      "100647    429014294\n",
      "100689    429593120\n",
      "100772    430780628\n",
      "100786    430820624\n",
      "100815    431358680\n",
      "100863    431979830\n",
      "100874    431998226\n",
      "100884    432035432\n",
      "100945    432673982\n",
      "100950    433101896\n",
      "101011    433743440\n",
      "101061    434379458\n",
      "101314    437868344\n",
      "101324    437901938\n",
      "101353    438429074\n",
      "101439    439129376\n",
      "101443    439141790\n",
      "101540    440808020\n",
      "101541    440811602\n",
      "101572    441364850\n",
      "101587    441462884\n",
      "101619    441971366\n",
      "101715    443226344\n",
      "101751    443835140\n",
      "Name: encounter_id, Length: 2557, dtype: int64\n",
      "2             64410\n",
      "53           591996\n",
      "78          1069716\n",
      "82          1079592\n",
      "128         2140146\n",
      "130         2226870\n",
      "167         2530254\n",
      "246         2874540\n",
      "304         3156462\n",
      "538         4477266\n",
      "585         4734798\n",
      "733         5654628\n",
      "735         5657328\n",
      "744         5693046\n",
      "756         5835240\n",
      "843         6608874\n",
      "883         6896670\n",
      "940         7212504\n",
      "958         7292178\n",
      "991         7432920\n",
      "1114        8065074\n",
      "1213        8607732\n",
      "1300        9142626\n",
      "1304        9155802\n",
      "1305        9160878\n",
      "1318        9225600\n",
      "1519       10325892\n",
      "1550       10563816\n",
      "1582       10737954\n",
      "1586       10741938\n",
      "            ...    \n",
      "101594    441481382\n",
      "101605    441924596\n",
      "101614    441956810\n",
      "101617    441968210\n",
      "101625    441986012\n",
      "101626    441986030\n",
      "101636    442039472\n",
      "101640    442077494\n",
      "101643    442090892\n",
      "101648    442105448\n",
      "101650    442515896\n",
      "101655    442533620\n",
      "101656    442541672\n",
      "101658    442552658\n",
      "101666    442576412\n",
      "101670    442591346\n",
      "101673    442606676\n",
      "101677    442635584\n",
      "101702    443186306\n",
      "101705    443192912\n",
      "101714    443222108\n",
      "101721    443282564\n",
      "101736    443739152\n",
      "101739    443775740\n",
      "101743    443793668\n",
      "101746    443797298\n",
      "101756    443842070\n",
      "101759    443842778\n",
      "101760    443847176\n",
      "101763    443854148\n",
      "Name: encounter_id, Length: 16739, dtype: int64\n",
      "12            40926\n",
      "60           676422\n",
      "167         2530254\n",
      "175         2552952\n",
      "199         2652750\n",
      "246         2874540\n",
      "569         4654188\n",
      "673         5264082\n",
      "703         5357160\n",
      "734         5655186\n",
      "755         5828766\n",
      "776         6065928\n",
      "840         6582546\n",
      "883         6896670\n",
      "991         7432920\n",
      "1056        7908588\n",
      "1325        9251970\n",
      "1338        9338766\n",
      "1390        9618930\n",
      "1465        9939354\n",
      "1499       10213620\n",
      "1680       11191398\n",
      "1716       11326656\n",
      "1851       12090540\n",
      "2008       13026294\n",
      "2212       14462742\n",
      "2320       15183996\n",
      "2335       15358140\n",
      "2380       15642504\n",
      "2428       15890826\n",
      "            ...    \n",
      "101545    440813090\n",
      "101555    440852402\n",
      "101561    440879594\n",
      "101562    440882450\n",
      "101567    440926064\n",
      "101579    441412274\n",
      "101591    441473204\n",
      "101596    441488810\n",
      "101599    441502826\n",
      "101621    441979310\n",
      "101629    442000934\n",
      "101631    442012304\n",
      "101650    442515896\n",
      "101654    442533584\n",
      "101655    442533620\n",
      "101658    442552658\n",
      "101661    442558928\n",
      "101674    442621412\n",
      "101680    442647692\n",
      "101681    442650974\n",
      "101696    443149208\n",
      "101702    443186306\n",
      "101711    443207462\n",
      "101716    443237558\n",
      "101745    443797076\n",
      "101749    443816024\n",
      "101755    443842022\n",
      "101756    443842070\n",
      "101758    443842340\n",
      "101760    443847176\n",
      "Name: encounter_id, Length: 11383, dtype: int64\n",
      "172         2549268\n",
      "175         2552952\n",
      "304         3156462\n",
      "410         3781500\n",
      "644         5056230\n",
      "675         5266116\n",
      "703         5357160\n",
      "733         5654628\n",
      "773         6000072\n",
      "777         6068238\n",
      "940         7212504\n",
      "953         7284348\n",
      "1042        7825020\n",
      "1045        7836894\n",
      "1063        7946712\n",
      "1066        7955598\n",
      "1173        8392890\n",
      "1203        8565288\n",
      "1281        9043872\n",
      "1304        9155802\n",
      "1349        9358128\n",
      "1354        9369882\n",
      "1388        9615816\n",
      "1421        9797892\n",
      "1425        9803076\n",
      "1426        9804066\n",
      "1550       10563816\n",
      "1584       10739064\n",
      "1597       10757838\n",
      "1663       11120142\n",
      "            ...    \n",
      "101341    437963144\n",
      "101369    438459530\n",
      "101371    438468824\n",
      "101385    438529178\n",
      "101391    438545384\n",
      "101397    438566858\n",
      "101404    438988466\n",
      "101426    439061744\n",
      "101447    439574054\n",
      "101459    439620116\n",
      "101468    439675868\n",
      "101476    439709192\n",
      "101482    439728398\n",
      "101508    440237120\n",
      "101550    440836964\n",
      "101555    440852402\n",
      "101579    441412274\n",
      "101596    441488810\n",
      "101599    441502826\n",
      "101601    441503084\n",
      "101611    441950420\n",
      "101620    441971606\n",
      "101629    442000934\n",
      "101650    442515896\n",
      "101658    442552658\n",
      "101685    443102726\n",
      "101699    443168882\n",
      "101701    443185706\n",
      "101709    443198486\n",
      "101734    443730002\n",
      "Name: encounter_id, Length: 7049, dtype: int64\n",
      "0           2278392\n",
      "66           715086\n",
      "216         2735964\n",
      "263         2948334\n",
      "431         3902532\n",
      "455         4065138\n",
      "933         7178106\n",
      "968         7331322\n",
      "996         7500936\n",
      "1004        7568742\n",
      "1076        7976388\n",
      "1177        8397792\n",
      "1350        9361848\n",
      "1574       10666374\n",
      "1675       11173470\n",
      "1791       11737752\n",
      "1850       12082878\n",
      "2163       14056032\n",
      "2392       15676788\n",
      "2468       16176624\n",
      "2654       17130798\n",
      "2782       17785530\n",
      "2794       17844570\n",
      "2828       18072510\n",
      "2841       18172458\n",
      "2860       18298074\n",
      "2893       18476064\n",
      "3054       19420404\n",
      "3153       19897218\n",
      "3766       22583910\n",
      "            ...    \n",
      "97345     387368372\n",
      "97422     388487156\n",
      "97428     388506194\n",
      "97482     389106974\n",
      "97761     392590034\n",
      "97787     392660828\n",
      "98394     400265684\n",
      "98436     400859708\n",
      "98994     407922710\n",
      "99390     412649528\n",
      "99393     412690112\n",
      "99628     415548776\n",
      "99830     417979916\n",
      "99916     419114912\n",
      "100258    423267692\n",
      "100374    424949456\n",
      "100514    426737732\n",
      "100677    429120578\n",
      "100787    430828958\n",
      "101027    433819448\n",
      "101031    433830680\n",
      "101147    435554492\n",
      "101297    437391758\n",
      "101335    437939822\n",
      "101557    440860496\n",
      "101603    441510854\n",
      "101646    442098572\n",
      "101682    442680734\n",
      "101719    443256548\n",
      "101751    443835140\n",
      "Name: encounter_id, Length: 281, dtype: int64\n"
     ]
    }
   ],
   "source": [
    "lowerlist = []\n",
    "upperlist = []\n",
    "for string in array:\n",
    "    df = diabetes_df[string]\n",
    "    Q1, Q3= df.quantile([0.25,0.75])\n",
    "    IQR = Q3 - Q1\n",
    "    lower = Q1 - 1.5 * IQR\n",
    "    upper = Q3 + 1.5 * IQR\n",
    "    lowerlist.append(lower)\n",
    "    upperlist.append(upper)\n",
    "    print(diabetes_df.loc[(diabetes_df[string] > upper) | (diabetes_df[string]< lower) , 'encounter_id'])\n"
   ]
  },
  {
   "cell_type": "markdown",
   "metadata": {},
   "source": [
    "## Using the `seaborn.catplot` function, create a plot according to the following specifications:\n",
    "\n",
    " * Each of the columns listed above should be a subplot\n",
    " * For each, you should plot a boxplot\n",
    " * Each row of subplots should have 2 plots (except for the last one, since there are an odd number of plots)\n",
    " * Each row should not share a y-axis\n",
    " \n",
    "You can find the documentation for the catplot function [here](https://seaborn.pydata.org/generated/seaborn.catplot.html#seaborn.catplot)"
   ]
  },
  {
   "cell_type": "markdown",
   "metadata": {},
   "source": [
    "#### Create a subset of the diabetes dataframe that just contains those columns [2.5]"
   ]
  },
  {
   "cell_type": "code",
   "execution_count": 5,
   "metadata": {},
   "outputs": [
    {
     "data": {
      "text/html": [
       "<div>\n",
       "<style scoped>\n",
       "    .dataframe tbody tr th:only-of-type {\n",
       "        vertical-align: middle;\n",
       "    }\n",
       "\n",
       "    .dataframe tbody tr th {\n",
       "        vertical-align: top;\n",
       "    }\n",
       "\n",
       "    .dataframe thead th {\n",
       "        text-align: right;\n",
       "    }\n",
       "</style>\n",
       "<table border=\"1\" class=\"dataframe\">\n",
       "  <thead>\n",
       "    <tr style=\"text-align: right;\">\n",
       "      <th></th>\n",
       "      <th>num_lab_procedures</th>\n",
       "      <th>num_procedures</th>\n",
       "      <th>num_medications</th>\n",
       "      <th>number_outpatient</th>\n",
       "      <th>number_emergency</th>\n",
       "      <th>number_inpatient</th>\n",
       "      <th>number_diagnoses</th>\n",
       "    </tr>\n",
       "  </thead>\n",
       "  <tbody>\n",
       "    <tr>\n",
       "      <th>0</th>\n",
       "      <td>41</td>\n",
       "      <td>0</td>\n",
       "      <td>1</td>\n",
       "      <td>0</td>\n",
       "      <td>0</td>\n",
       "      <td>0</td>\n",
       "      <td>1</td>\n",
       "    </tr>\n",
       "    <tr>\n",
       "      <th>1</th>\n",
       "      <td>59</td>\n",
       "      <td>0</td>\n",
       "      <td>18</td>\n",
       "      <td>0</td>\n",
       "      <td>0</td>\n",
       "      <td>0</td>\n",
       "      <td>9</td>\n",
       "    </tr>\n",
       "    <tr>\n",
       "      <th>2</th>\n",
       "      <td>11</td>\n",
       "      <td>5</td>\n",
       "      <td>13</td>\n",
       "      <td>2</td>\n",
       "      <td>0</td>\n",
       "      <td>1</td>\n",
       "      <td>6</td>\n",
       "    </tr>\n",
       "    <tr>\n",
       "      <th>3</th>\n",
       "      <td>44</td>\n",
       "      <td>1</td>\n",
       "      <td>16</td>\n",
       "      <td>0</td>\n",
       "      <td>0</td>\n",
       "      <td>0</td>\n",
       "      <td>7</td>\n",
       "    </tr>\n",
       "    <tr>\n",
       "      <th>4</th>\n",
       "      <td>51</td>\n",
       "      <td>0</td>\n",
       "      <td>8</td>\n",
       "      <td>0</td>\n",
       "      <td>0</td>\n",
       "      <td>0</td>\n",
       "      <td>5</td>\n",
       "    </tr>\n",
       "  </tbody>\n",
       "</table>\n",
       "</div>"
      ],
      "text/plain": [
       "   num_lab_procedures  num_procedures  num_medications  number_outpatient  \\\n",
       "0                  41               0                1                  0   \n",
       "1                  59               0               18                  0   \n",
       "2                  11               5               13                  2   \n",
       "3                  44               1               16                  0   \n",
       "4                  51               0                8                  0   \n",
       "\n",
       "   number_emergency  number_inpatient  number_diagnoses  \n",
       "0                 0                 0                 1  \n",
       "1                 0                 0                 9  \n",
       "2                 0                 1                 6  \n",
       "3                 0                 0                 7  \n",
       "4                 0                 0                 5  "
      ]
     },
     "execution_count": 5,
     "metadata": {},
     "output_type": "execute_result"
    }
   ],
   "source": [
    "subdf= diabetes_df.loc[:,['num_lab_procedures','num_procedures','num_medications','number_outpatient','number_emergency','number_inpatient','number_diagnoses']]\n",
    "subdf.head()"
   ]
  },
  {
   "cell_type": "markdown",
   "metadata": {},
   "source": [
    "#### Currently, the dataframe is in wide-form. Instead, change the dataframe so that the category name is in one column, and all the values are stacked in another (melted) [7.5]"
   ]
  },
  {
   "cell_type": "code",
   "execution_count": 6,
   "metadata": {},
   "outputs": [
    {
     "data": {
      "text/html": [
       "<div>\n",
       "<style scoped>\n",
       "    .dataframe tbody tr th:only-of-type {\n",
       "        vertical-align: middle;\n",
       "    }\n",
       "\n",
       "    .dataframe tbody tr th {\n",
       "        vertical-align: top;\n",
       "    }\n",
       "\n",
       "    .dataframe thead th {\n",
       "        text-align: right;\n",
       "    }\n",
       "</style>\n",
       "<table border=\"1\" class=\"dataframe\">\n",
       "  <thead>\n",
       "    <tr style=\"text-align: right;\">\n",
       "      <th></th>\n",
       "      <th>variable</th>\n",
       "      <th>value</th>\n",
       "    </tr>\n",
       "  </thead>\n",
       "  <tbody>\n",
       "    <tr>\n",
       "      <th>0</th>\n",
       "      <td>num_lab_procedures</td>\n",
       "      <td>41</td>\n",
       "    </tr>\n",
       "    <tr>\n",
       "      <th>1</th>\n",
       "      <td>num_lab_procedures</td>\n",
       "      <td>59</td>\n",
       "    </tr>\n",
       "    <tr>\n",
       "      <th>2</th>\n",
       "      <td>num_lab_procedures</td>\n",
       "      <td>11</td>\n",
       "    </tr>\n",
       "    <tr>\n",
       "      <th>3</th>\n",
       "      <td>num_lab_procedures</td>\n",
       "      <td>44</td>\n",
       "    </tr>\n",
       "    <tr>\n",
       "      <th>4</th>\n",
       "      <td>num_lab_procedures</td>\n",
       "      <td>51</td>\n",
       "    </tr>\n",
       "  </tbody>\n",
       "</table>\n",
       "</div>"
      ],
      "text/plain": [
       "             variable  value\n",
       "0  num_lab_procedures     41\n",
       "1  num_lab_procedures     59\n",
       "2  num_lab_procedures     11\n",
       "3  num_lab_procedures     44\n",
       "4  num_lab_procedures     51"
      ]
     },
     "execution_count": 6,
     "metadata": {},
     "output_type": "execute_result"
    }
   ],
   "source": [
    "melted = pd.melt(subdf)\n",
    "melted.head()"
   ]
  },
  {
   "cell_type": "markdown",
   "metadata": {},
   "source": [
    "#### Use the catplot function to plot the graph. Make sure to adhere to each of the conditions listed above [10]"
   ]
  },
  {
   "cell_type": "code",
   "execution_count": 7,
   "metadata": {},
   "outputs": [
    {
     "data": {
      "image/png": "[encoded data removed]",
      "text/plain": [
       "<Figure size 720x1440 with 7 Axes>"
      ]
     },
     "metadata": {
      "needs_background": "light"
     },
     "output_type": "display_data"
    }
   ],
   "source": [
    "fig =sns.catplot(y='value',col='variable',data=melted, col_wrap=2,kind=\"box\",sharey=False)"
   ]
  },
  {
   "cell_type": "markdown",
   "metadata": {},
   "source": [
    "## Making cosmetic changes and Checking the boxplot outlier implementation:\n",
    "\n",
    "The *whiskers* of a boxplot often extend to the bounds for outliers. However, some boxplot implementations choose other bounds for the whiskers, such as the maximum and minimum values, or a set percentile (10th, 90th, etc). In this next step, you will utilize `matplotlib`'s `Axes` objects to change the subplots in some way."
   ]
  },
  {
   "cell_type": "markdown",
   "metadata": {},
   "source": [
    "Recall that Seaborn (and many other plotting libraries) are built off of `matplotlib` objects. Therefore, you can always modify these plots with all of the custom functions that are available in `matplotlib`'s interface. To access the `Axes` objects of your plot, save your plot to a variable, and call \n",
    "\n",
    "`variable.axes`"
   ]
  },
  {
   "cell_type": "markdown",
   "metadata": {},
   "source": [
    "You should see an array of `Axes` objects appear. These will be objects that you set attributes of in order to modify your plots.\n"
   ]
  },
  {
   "cell_type": "markdown",
   "metadata": {},
   "source": [
    "\n",
    "Note: You may have to copy your plot code from above into another cell because of the way jupyter handles plots."
   ]
  },
  {
   "cell_type": "markdown",
   "metadata": {},
   "source": [
    "### Clean up the titles for each graph so that they are either the name of the columns or a cleaner representation [10 pts]\n"
   ]
  },
  {
   "cell_type": "markdown",
   "metadata": {},
   "source": [
    "For example, rather than `variable = number_emergency`, you can set it to `number_emergency`, or `Number of Emergency Visits`."
   ]
  },
  {
   "cell_type": "markdown",
   "metadata": {},
   "source": [
    "you can do this by accessing the `Axes`, and using `set(title =)`. "
   ]
  },
  {
   "cell_type": "code",
   "execution_count": 8,
   "metadata": {},
   "outputs": [
    {
     "data": {
      "image/png": "[encoded data removed]",
      "text/plain": [
       "<Figure size 720x1440 with 7 Axes>"
      ]
     },
     "metadata": {
      "needs_background": "light"
     },
     "output_type": "display_data"
    }
   ],
   "source": [
    "fig = sns.catplot(y='value',col='variable',data=melted, col_wrap=2,kind=\"box\",sharey=False)\n",
    "for i in range(0,7):\n",
    "    string = array[i][:]\n",
    "    string = string.replace('_',' ')\n",
    "    string = string.title()\n",
    "    string = string.split(\" \",1)[1]\n",
    "    fig.axes[i].set(title='Number of ' + string)"
   ]
  },
  {
   "cell_type": "markdown",
   "metadata": {},
   "source": [
    "### Add dotted lines at each of the upper and lower outlier bounds. Pick a non-default color and linestyle of your choice for these [10 pts]"
   ]
  },
  {
   "cell_type": "markdown",
   "metadata": {},
   "source": [
    "To check if seaborn boxplots use the same outlier method for determining the bound of the whiskers, add a dotted line at the upper and lower bound of each of these columns with a non-default color and linestyle and see if they line up with the seaborn boxplot whiskers"
   ]
  },
  {
   "cell_type": "code",
   "execution_count": 9,
   "metadata": {},
   "outputs": [
    {
     "data": {
      "image/png": "[encoded data removed]",
      "text/plain": [
       "<Figure size 720x1440 with 7 Axes>"
      ]
     },
     "metadata": {
      "needs_background": "light"
     },
     "output_type": "display_data"
    }
   ],
   "source": [
    "fig = sns.catplot(y='value',col='variable',data=melted, col_wrap=2,kind=\"box\",sharey=False)\n",
    "for i in range(0,7):\n",
    "    string = array[i][:]\n",
    "    string = string.replace('_',' ')\n",
    "    string = string.title()\n",
    "    string = string.split(\" \",1)[1]\n",
    "    fig.axes[i].set(title='Number of ' + string)\n",
    "for i in range(0,7):\n",
    "    fig.axes[i].axhline(y=lowerlist[i],c = 'red',linestyle = (0,(0.1,2)),dash_capstyle = 'round',\n",
    "    linewidth = 2)\n",
    "    fig.axes[i].axhline(y=upperlist[i],c = 'green',linestyle = (0,(0.1,2)),dash_capstyle = 'round',\n",
    "    linewidth = 2)"
   ]
  },
  {
   "cell_type": "markdown",
   "metadata": {},
   "source": [
    "# Hypothesis testing"
   ]
  },
  {
   "cell_type": "markdown",
   "metadata": {},
   "source": [
    "In the [paper that produced the dataset](https://www.hindawi.com/journals/bmri/2014/781670/), the authors perform a series of hypothesis tests. However, as is common in the literature, they often do not provide confidence intervals or explain which hypothesis tests were performed. Here, we want to reproduce the results of the paper, but to generate confidence intervals so we have a better sense of the uncertainty behind their results."
   ]
  },
  {
   "cell_type": "markdown",
   "metadata": {},
   "source": [
    "### Test: \n",
    "\n",
    "> When an HbA1c was not obtained, 42.5% of patients had a medication change during the hospitalization, whereas those providers who ordered the test appear to have been somewhat more responsive as determined by changes in medication (55.0%, P < 0.001)."
   ]
  },
  {
   "cell_type": "markdown",
   "metadata": {},
   "source": [
    "Here, we can represent this statement as the following hyptothesis test:\n",
    "\n",
    "$$ H_0: p_1 = p_2 $$\n",
    "$$ H_1: p_1 \\neq p_2 $$\n",
    "\n",
    "Equivalently:\n",
    "\n",
    "$$ H_0: p_1 - p_2 = 0$$\n",
    "$$ H_1: p_1 - p_2 \\neq 0$$\n"
   ]
  },
  {
   "cell_type": "markdown",
   "metadata": {},
   "source": [
    "where p is the probability that a provider changed the medication (given by the `change` column)"
   ]
  },
  {
   "cell_type": "markdown",
   "metadata": {},
   "source": [
    "In order to test the equality of two proportions, the Z-test for 2 proportions is often used. In this setting, the test statistic is distributed according to the standard normal distribution: N(0, 1)"
   ]
  },
  {
   "cell_type": "markdown",
   "metadata": {},
   "source": [
    "$$ Z_t = \\frac{\\hat{p_1} - \\hat{p_2}}{\\hat{\\sigma_D}} $$"
   ]
  },
  {
   "cell_type": "markdown",
   "metadata": {},
   "source": [
    "Here, $\\hat{p_1}$ and $\\hat{p_2}$ are the observed proportions of a provider changing a medication."
   ]
  },
  {
   "cell_type": "markdown",
   "metadata": {},
   "source": [
    "Here, we will assume that the two populations have the same variance, meaning we can use what is known as a *pooled standard error*. The details of this are outside the scope of this course. "
   ]
  },
  {
   "cell_type": "markdown",
   "metadata": {},
   "source": [
    "$$\\hat{p} = \\frac{n_1\\hat{p_1} + n_2\\hat{p_2}}{n_1 + n_2} $$\n",
    "\n",
    "$$\\hat{\\sigma_D} = \\sqrt{\\hat{p}(1-\\hat{p})(\\frac{1}{n_1} + \\frac{1}{n_2})}$$\n",
    "\n",
    "where $n_1$ and $n_2$ are the sample sizes for groups 1 and 2, respectively"
   ]
  },
  {
   "cell_type": "markdown",
   "metadata": {},
   "source": [
    "In this case, the assumptions for the test are as follows:\n",
    "\n",
    " * The two populations are independent\n",
    " * They are sampled at random\n",
    " * There is enough data such that\n",
    "     * $np > 10$\n",
    "     * $n(1-p) > 10$\n",
    "     \n",
    "which we can assume holds in this case."
   ]
  },
  {
   "cell_type": "markdown",
   "metadata": {},
   "source": [
    "Compute $\\hat{p_1}$ and $\\hat{p_2}$ by checking the proportion of the time that the `change` column is equal to `Ch` when the A1C column is *not* None ($\\hat{p_1}$) versus when it is None ($\\hat{p_2}$). You can use `pd.isnull()` to check where a column is missing. Note that the numbers may be slightly off of the numbers from the paper due to the way that they remove certain encounters"
   ]
  },
  {
   "cell_type": "code",
   "execution_count": 25,
   "metadata": {},
   "outputs": [
    {
     "data": {
      "text/plain": [
       "No    54755\n",
       "Ch    47011\n",
       "Name: change, dtype: int64"
      ]
     },
     "execution_count": 25,
     "metadata": {},
     "output_type": "execute_result"
    }
   ],
   "source": [
    "diabetes_df['change'].value_counts() # Have no non-missing rows"
   ]
  },
  {
   "cell_type": "code",
   "execution_count": 26,
   "metadata": {},
   "outputs": [
    {
     "data": {
      "text/html": [
       "<div>\n",
       "<style scoped>\n",
       "    .dataframe tbody tr th:only-of-type {\n",
       "        vertical-align: middle;\n",
       "    }\n",
       "\n",
       "    .dataframe tbody tr th {\n",
       "        vertical-align: top;\n",
       "    }\n",
       "\n",
       "    .dataframe thead th {\n",
       "        text-align: right;\n",
       "    }\n",
       "</style>\n",
       "<table border=\"1\" class=\"dataframe\">\n",
       "  <thead>\n",
       "    <tr style=\"text-align: right;\">\n",
       "      <th></th>\n",
       "      <th>encounter_id</th>\n",
       "      <th>patient_nbr</th>\n",
       "      <th>race</th>\n",
       "      <th>gender</th>\n",
       "      <th>age</th>\n",
       "      <th>weight</th>\n",
       "      <th>admission_type_id</th>\n",
       "      <th>discharge_disposition_id</th>\n",
       "      <th>admission_source_id</th>\n",
       "      <th>time_in_hospital</th>\n",
       "      <th>...</th>\n",
       "      <th>citoglipton</th>\n",
       "      <th>insulin</th>\n",
       "      <th>glyburide-metformin</th>\n",
       "      <th>glipizide-metformin</th>\n",
       "      <th>glimepiride-pioglitazone</th>\n",
       "      <th>metformin-rosiglitazone</th>\n",
       "      <th>metformin-pioglitazone</th>\n",
       "      <th>change</th>\n",
       "      <th>diabetesMed</th>\n",
       "      <th>readmitted</th>\n",
       "    </tr>\n",
       "  </thead>\n",
       "  <tbody>\n",
       "  </tbody>\n",
       "</table>\n",
       "<p>0 rows × 50 columns</p>\n",
       "</div>"
      ],
      "text/plain": [
       "Empty DataFrame\n",
       "Columns: [encounter_id, patient_nbr, race, gender, age, weight, admission_type_id, discharge_disposition_id, admission_source_id, time_in_hospital, payer_code, medical_specialty, num_lab_procedures, num_procedures, num_medications, number_outpatient, number_emergency, number_inpatient, diag_1, diag_2, diag_3, number_diagnoses, max_glu_serum, A1Cresult, metformin, repaglinide, nateglinide, chlorpropamide, glimepiride, acetohexamide, glipizide, glyburide, tolbutamide, pioglitazone, rosiglitazone, acarbose, miglitol, troglitazone, tolazamide, examide, citoglipton, insulin, glyburide-metformin, glipizide-metformin, glimepiride-pioglitazone, metformin-rosiglitazone, metformin-pioglitazone, change, diabetesMed, readmitted]\n",
       "Index: []\n",
       "\n",
       "[0 rows x 50 columns]"
      ]
     },
     "execution_count": 26,
     "metadata": {},
     "output_type": "execute_result"
    }
   ],
   "source": [
    "diabetes_df[diabetes_df['change'].isnull()] # Have no non-missing rows"
   ]
  },
  {
   "cell_type": "code",
   "execution_count": 27,
   "metadata": {},
   "outputs": [
    {
     "data": {
      "text/plain": [
       "None    84748\n",
       ">8       8216\n",
       "Norm     4990\n",
       ">7       3812\n",
       "Name: A1Cresult, dtype: int64"
      ]
     },
     "execution_count": 27,
     "metadata": {},
     "output_type": "execute_result"
    }
   ],
   "source": [
    "diabetes_df['A1Cresult'].value_counts() # Have no non-missing rows"
   ]
  },
  {
   "cell_type": "code",
   "execution_count": 28,
   "metadata": {},
   "outputs": [
    {
     "data": {
      "text/html": [
       "<div>\n",
       "<style scoped>\n",
       "    .dataframe tbody tr th:only-of-type {\n",
       "        vertical-align: middle;\n",
       "    }\n",
       "\n",
       "    .dataframe tbody tr th {\n",
       "        vertical-align: top;\n",
       "    }\n",
       "\n",
       "    .dataframe thead th {\n",
       "        text-align: right;\n",
       "    }\n",
       "</style>\n",
       "<table border=\"1\" class=\"dataframe\">\n",
       "  <thead>\n",
       "    <tr style=\"text-align: right;\">\n",
       "      <th></th>\n",
       "      <th>encounter_id</th>\n",
       "      <th>patient_nbr</th>\n",
       "      <th>race</th>\n",
       "      <th>gender</th>\n",
       "      <th>age</th>\n",
       "      <th>weight</th>\n",
       "      <th>admission_type_id</th>\n",
       "      <th>discharge_disposition_id</th>\n",
       "      <th>admission_source_id</th>\n",
       "      <th>time_in_hospital</th>\n",
       "      <th>...</th>\n",
       "      <th>citoglipton</th>\n",
       "      <th>insulin</th>\n",
       "      <th>glyburide-metformin</th>\n",
       "      <th>glipizide-metformin</th>\n",
       "      <th>glimepiride-pioglitazone</th>\n",
       "      <th>metformin-rosiglitazone</th>\n",
       "      <th>metformin-pioglitazone</th>\n",
       "      <th>change</th>\n",
       "      <th>diabetesMed</th>\n",
       "      <th>readmitted</th>\n",
       "    </tr>\n",
       "  </thead>\n",
       "  <tbody>\n",
       "  </tbody>\n",
       "</table>\n",
       "<p>0 rows × 50 columns</p>\n",
       "</div>"
      ],
      "text/plain": [
       "Empty DataFrame\n",
       "Columns: [encounter_id, patient_nbr, race, gender, age, weight, admission_type_id, discharge_disposition_id, admission_source_id, time_in_hospital, payer_code, medical_specialty, num_lab_procedures, num_procedures, num_medications, number_outpatient, number_emergency, number_inpatient, diag_1, diag_2, diag_3, number_diagnoses, max_glu_serum, A1Cresult, metformin, repaglinide, nateglinide, chlorpropamide, glimepiride, acetohexamide, glipizide, glyburide, tolbutamide, pioglitazone, rosiglitazone, acarbose, miglitol, troglitazone, tolazamide, examide, citoglipton, insulin, glyburide-metformin, glipizide-metformin, glimepiride-pioglitazone, metformin-rosiglitazone, metformin-pioglitazone, change, diabetesMed, readmitted]\n",
       "Index: []\n",
       "\n",
       "[0 rows x 50 columns]"
      ]
     },
     "execution_count": 28,
     "metadata": {},
     "output_type": "execute_result"
    }
   ],
   "source": [
    "diabetes_df[diabetes_df['A1Cresult'].isnull()] # Have non-missing rows"
   ]
  },
  {
   "cell_type": "code",
   "execution_count": 29,
   "metadata": {},
   "outputs": [
    {
     "name": "stdout",
     "output_type": "stream",
     "text": [
      "p1_hat is 55.8%\n"
     ]
    }
   ],
   "source": [
    "a = diabetes_df[(diabetes_df['change']=='Ch') & (diabetes_df['A1Cresult']!='None')].shape[0]\n",
    "n1 = diabetes_df.shape[0] - diabetes_df['A1Cresult'].value_counts()[0]\n",
    "p1_hat = a/n1\n",
    "print('p1_hat is {:.1%}'.format(p1_hat))"
   ]
  },
  {
   "cell_type": "code",
   "execution_count": 30,
   "metadata": {},
   "outputs": [
    {
     "name": "stdout",
     "output_type": "stream",
     "text": [
      "p2_hat is 44.3%\n"
     ]
    }
   ],
   "source": [
    "c = diabetes_df[(diabetes_df['change']=='Ch') & (diabetes_df['A1Cresult']=='None')].shape[0]\n",
    "n2 = diabetes_df['A1Cresult'].value_counts()[0]\n",
    "p2_hat = c/n2\n",
    "print('p2_hat is {:.1%}'.format(p2_hat))"
   ]
  },
  {
   "cell_type": "markdown",
   "metadata": {},
   "source": [
    "#### Next, compute the value of the test statistic: [15 pts]"
   ]
  },
  {
   "cell_type": "markdown",
   "metadata": {},
   "source": [
    "Because the Z-statistic is distributed according to the standard Normal Distribution, we can find the p-value by using the `norm.cdf()` command. Remember, the p-value is just the probability that we would see a test-statistic as extreme or more extreme given that the null hypothesis was true.\n",
    "\n",
    "Because our alternative hypothesis is 2-sided, we can compute the p-value as follows:\n",
    "\n",
    "`norm.cdf(z) * 2`\n",
    "\n",
    "This is because we allow for our test statistic to be either greater than OR less than the critical values."
   ]
  },
  {
   "cell_type": "code",
   "execution_count": 31,
   "metadata": {},
   "outputs": [
    {
     "name": "stdout",
     "output_type": "stream",
     "text": [
      "p_hat is 46.2%\n"
     ]
    }
   ],
   "source": [
    "p_hat = (n1 * p1_hat + n2 * p2_hat)/(n1 + n2)\n",
    "print('p_hat is {:.1%}'.format(p_hat))"
   ]
  },
  {
   "cell_type": "code",
   "execution_count": 32,
   "metadata": {},
   "outputs": [
    {
     "data": {
      "text/plain": [
       "0.0041878517136400084"
      ]
     },
     "execution_count": 32,
     "metadata": {},
     "output_type": "execute_result"
    }
   ],
   "source": [
    "import math\n",
    "dev = math.sqrt(p_hat * (1 - p_hat) * (1/n1 + 1/n2))\n",
    "dev"
   ]
  },
  {
   "cell_type": "code",
   "execution_count": 33,
   "metadata": {},
   "outputs": [
    {
     "data": {
      "text/plain": [
       "27.438587305291865"
      ]
     },
     "execution_count": 33,
     "metadata": {},
     "output_type": "execute_result"
    }
   ],
   "source": [
    "z = (p1_hat -p2_hat)/dev\n",
    "z"
   ]
  },
  {
   "cell_type": "markdown",
   "metadata": {},
   "source": [
    "#### Compute the p-value [10 pts]"
   ]
  },
  {
   "cell_type": "code",
   "execution_count": 34,
   "metadata": {},
   "outputs": [
    {
     "data": {
      "text/plain": [
       "9.506951357707911e-166"
      ]
     },
     "execution_count": 34,
     "metadata": {},
     "output_type": "execute_result"
    }
   ],
   "source": [
    "from scipy.stats import norm\n",
    "p_value = norm.sf(z) * 2\n",
    "p_value"
   ]
  },
  {
   "cell_type": "markdown",
   "metadata": {},
   "source": [
    "#### Verify using the following method that your test statistic and p-value match [5 pts]"
   ]
  },
  {
   "cell_type": "code",
   "execution_count": 35,
   "metadata": {},
   "outputs": [
    {
     "name": "stdout",
     "output_type": "stream",
     "text": [
      "z_score: 27.438587305291865\n",
      "p_value: 9.506951357707911e-166\n"
     ]
    }
   ],
   "source": [
    "import statsmodels.api as sm\n",
    "z_score, p_value = sm.stats.proportions_ztest([a,c],[n1,n2]) # fill in the code here:\n",
    "# Resource: http://knowledgetack.com/python/statsmodels/proportions_ztest/\n",
    "print('z_score: {}'.format(z_score))\n",
    "print('p_value: {}'.format(p_value))"
   ]
  },
  {
   "cell_type": "markdown",
   "metadata": {},
   "source": [
    "#### An aside:\n",
    "\n",
    "To find the value of the test statistic that would give us exactly 0.05 significance, we can use:\n",
    "\n",
    "`normQuantile(0.025)`\n",
    "and\n",
    "`normQuantile(0.975)`\n",
    "\n",
    "(where the `normQuantile` function (which in scipy is `norm.ppf`) tells us what at what value the Cumulative Distribution Function is equal to the argument. The quantile function is the inverse of the Cumulative Distribution Function)\n",
    "\n",
    "\n",
    "As this gives us half of the 0.05 significance level on either side. \n",
    "\n",
    "For one sided tests, this would just be \n",
    "\n",
    "`normQuantile(0.05)` \n",
    "or\n",
    "`normQuantile(0.95)`\n",
    "depending on the direction of the alternative hypothesis"
   ]
  },
  {
   "cell_type": "markdown",
   "metadata": {},
   "source": [
    "### Confidence Interval"
   ]
  },
  {
   "cell_type": "markdown",
   "metadata": {},
   "source": [
    "Next, we're going to construct a confidence interval. The p-value just tells us that it is unlikely, given that the null hypothesis is true, that we would see data as extreme or more extreme than what we saw. In other words, if there were no difference in the way that physicians changed diabetes patients' medications depending on whether they tested for A1C or not, then it would be highly unlikely that we would see a pattern as extreme as we see in the data. "
   ]
  },
  {
   "cell_type": "markdown",
   "metadata": {},
   "source": [
    "However, this does not tell us *anything* about how different the values actually are. To generate a 95% confidence interval, we take the *observed* difference in proportions and construct it in the following way:"
   ]
  },
  {
   "cell_type": "markdown",
   "metadata": {},
   "source": [
    "$\\hat{p_1} - \\hat{p_2} \\pm Z_* \\sigma_D$\n",
    "\n",
    "Where $Z_*$ here is `normQuantile(0.975)` or `normQuantile(0.025)` (the only difference is the sign change)"
   ]
  },
  {
   "cell_type": "markdown",
   "metadata": {},
   "source": [
    "### Find the confidence interval for this test [10 pts]"
   ]
  },
  {
   "cell_type": "markdown",
   "metadata": {},
   "source": [
    "This tells us that in a specific example of this procedure being run, there is a 95% probability that the true difference between the means falls between the two bounds. Remember that this says nothing about whether the true difference is in these bounds or not!"
   ]
  },
  {
   "cell_type": "code",
   "execution_count": 23,
   "metadata": {},
   "outputs": [
    {
     "name": "stdout",
     "output_type": "stream",
     "text": [
      "Confidence interval: (10.7%,12.3%)\n"
     ]
    }
   ],
   "source": [
    "left = p1_hat - p2_hat - norm.ppf(0.975)* dev\n",
    "right = p1_hat - p2_hat + norm.ppf(0.975)* dev\n",
    "print('Confidence interval: ({:.1%},{:.1%})'.format(left, right))"
   ]
  }
 ],
 "metadata": {
  "kernelspec": {
   "display_name": "Python 3",
   "language": "python",
   "name": "python3"
  },
  "language_info": {
   "codemirror_mode": {
    "name": "ipython",
    "version": 3
   },
   "file_extension": ".py",
   "mimetype": "text/x-python",
   "name": "python",
   "nbconvert_exporter": "python",
   "pygments_lexer": "ipython3",
   "version": "3.6.8"
  }
 },
 "nbformat": 4,
 "nbformat_minor": 2
}
