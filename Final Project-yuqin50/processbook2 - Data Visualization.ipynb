{
 "cells": [
  {
   "cell_type": "markdown",
   "metadata": {
    "ExecuteTime": {
     "end_time": "2019-05-01T04:21:35.120483Z",
     "start_time": "2019-05-01T04:21:35.063530Z"
    },
    "colab_type": "text",
    "id": "g6tF4t7lvpfT"
   },
   "source": [
    "## Preliminary Data Exploration and Visualization"
   ]
  },
  {
   "cell_type": "code",
   "execution_count": 0,
   "metadata": {
    "ExecuteTime": {
     "end_time": "2019-05-02T22:35:26.000256Z",
     "start_time": "2019-05-02T22:35:25.792252Z"
    },
    "colab": {},
    "colab_type": "code",
    "id": "D8msIEdmvpfV"
   },
   "outputs": [],
   "source": [
    "import pandas as pd\n",
    "from tqdm import tqdm\n",
    "import sqlite3\n",
    "import matplotlib.pyplot as plt\n",
    "import numpy as np\n",
    "import seaborn as sns\n",
    "from IPython.display import display\n",
    "from colorama import Fore,Style\n",
    "from stat import *\n",
    "from scipy import stats\n",
    "from sklearn.manifold import TSNE\n",
    "import matplotlib.patheffects as PathEffects\n",
    "from sklearn.decomposition import PCA\n",
    "from sklearn.preprocessing import StandardScaler\n",
    "from sklearn.preprocessing import LabelEncoder"
   ]
  },
  {
   "cell_type": "code",
   "execution_count": 0,
   "metadata": {
    "ExecuteTime": {
     "end_time": "2019-05-02T22:35:26.137252Z",
     "start_time": "2019-05-02T22:35:26.005259Z"
    },
    "colab": {},
    "colab_type": "code",
    "id": "IULWV3dfvpfZ"
   },
   "outputs": [],
   "source": [
    "\n",
    "%matplotlib inline \n",
    "# This command figures show up in the notebook.  It's a \"magic\" command...\n",
    "# Typically, this now happens by default so it is often an unnecessary command, but is good for standardization.\n",
    "plt.rcParams['font.family'] = 'Times New Roman'\n",
    "\n",
    "plt.rcParams['axes.labelsize'] = 14\n",
    "plt.rcParams['xtick.labelsize'] = 12\n",
    "plt.rcParams['ytick.labelsize'] = 12\n",
    "plt.rcParams['axes.titlesize'] = 14\n",
    "plt.show()"
   ]
  },
  {
   "cell_type": "code",
   "execution_count": 0,
   "metadata": {
    "ExecuteTime": {
     "end_time": "2019-05-02T22:35:26.222254Z",
     "start_time": "2019-05-02T22:35:26.143255Z"
    },
    "colab": {},
    "colab_type": "code",
    "id": "ULrj4Ztjvpfr"
   },
   "outputs": [],
   "source": [
    "conn = sqlite3.connect(r\"D:\\Study\\mimic-code\\mimic.db\")\n",
    "cursor= conn.cursor()"
   ]
  },
  {
   "cell_type": "markdown",
   "metadata": {
    "ExecuteTime": {
     "end_time": "2019-05-01T01:44:32.975963Z",
     "start_time": "2019-05-01T01:44:31.821927Z"
    },
    "colab_type": "text",
    "id": "zwbukRacvpft"
   },
   "source": [
    "#### List the tables\n",
    "Here we list 15 tables we used in this project, and some tables are added after data preprocessed"
   ]
  },
  {
   "cell_type": "code",
   "execution_count": 0,
   "metadata": {
    "ExecuteTime": {
     "end_time": "2019-05-02T22:35:31.163310Z",
     "start_time": "2019-05-02T22:35:26.225256Z"
    },
    "colab": {},
    "colab_type": "code",
    "id": "UmaRwzzXvpfu",
    "outputId": "917c44ab-e68b-4a5b-89bc-40489b92530f"
   },
   "outputs": [
    {
     "data": {
      "text/html": [
       "<div>\n",
       "<style scoped>\n",
       "    .dataframe tbody tr th:only-of-type {\n",
       "        vertical-align: middle;\n",
       "    }\n",
       "\n",
       "    .dataframe tbody tr th {\n",
       "        vertical-align: top;\n",
       "    }\n",
       "\n",
       "    .dataframe thead th {\n",
       "        text-align: right;\n",
       "    }\n",
       "</style>\n",
       "<table border=\"1\" class=\"dataframe\">\n",
       "  <thead>\n",
       "    <tr style=\"text-align: right;\">\n",
       "      <th></th>\n",
       "      <th>type</th>\n",
       "      <th>name</th>\n",
       "      <th>tbl_name</th>\n",
       "      <th>rootpage</th>\n",
       "      <th>sql</th>\n",
       "    </tr>\n",
       "  </thead>\n",
       "  <tbody>\n",
       "    <tr>\n",
       "      <th>0</th>\n",
       "      <td>table</td>\n",
       "      <td>chartevent</td>\n",
       "      <td>chartevent</td>\n",
       "      <td>2</td>\n",
       "      <td>CREATE TABLE \"chartevent\" (\\n\"ROW_ID\" INTEGER,...</td>\n",
       "    </tr>\n",
       "    <tr>\n",
       "      <th>1</th>\n",
       "      <td>table</td>\n",
       "      <td>admission</td>\n",
       "      <td>admission</td>\n",
       "      <td>7463507</td>\n",
       "      <td>CREATE TABLE \"admission\" (\\n\"ROW_ID\" INTEGER,\\...</td>\n",
       "    </tr>\n",
       "    <tr>\n",
       "      <th>2</th>\n",
       "      <td>table</td>\n",
       "      <td>icustay</td>\n",
       "      <td>icustay</td>\n",
       "      <td>7466383</td>\n",
       "      <td>CREATE TABLE \"icustay\" (\\n\"ROW_ID\" INTEGER,\\n ...</td>\n",
       "    </tr>\n",
       "    <tr>\n",
       "      <th>3</th>\n",
       "      <td>table</td>\n",
       "      <td>service</td>\n",
       "      <td>service</td>\n",
       "      <td>7885894</td>\n",
       "      <td>CREATE TABLE \"service\" (\\n\"ROW_ID\" INTEGER,\\n ...</td>\n",
       "    </tr>\n",
       "    <tr>\n",
       "      <th>4</th>\n",
       "      <td>table</td>\n",
       "      <td>diagnosis</td>\n",
       "      <td>diagnosis</td>\n",
       "      <td>7886693</td>\n",
       "      <td>CREATE TABLE \"diagnosis\" (\\n\"ROW_ID\" INTEGER,\\...</td>\n",
       "    </tr>\n",
       "    <tr>\n",
       "      <th>5</th>\n",
       "      <td>table</td>\n",
       "      <td>patient</td>\n",
       "      <td>patient</td>\n",
       "      <td>7890810</td>\n",
       "      <td>CREATE TABLE \"patient\" (\\n\"ROW_ID\" INTEGER,\\n ...</td>\n",
       "    </tr>\n",
       "    <tr>\n",
       "      <th>6</th>\n",
       "      <td>table</td>\n",
       "      <td>output</td>\n",
       "      <td>output</td>\n",
       "      <td>7891447</td>\n",
       "      <td>CREATE TABLE \"output\" (\\n\"ROW_ID\" INTEGER,\\n  ...</td>\n",
       "    </tr>\n",
       "    <tr>\n",
       "      <th>7</th>\n",
       "      <td>table</td>\n",
       "      <td>labevents</td>\n",
       "      <td>labevents</td>\n",
       "      <td>7467812</td>\n",
       "      <td>CREATE TABLE \"labevents\" (\\n\"ROW_ID\" INTEGER,\\...</td>\n",
       "    </tr>\n",
       "    <tr>\n",
       "      <th>8</th>\n",
       "      <td>table</td>\n",
       "      <td>inputevents_mv</td>\n",
       "      <td>inputevents_mv</td>\n",
       "      <td>7975528</td>\n",
       "      <td>CREATE TABLE \"inputevents_mv\" (\\n\"ROW_ID\" INTE...</td>\n",
       "    </tr>\n",
       "    <tr>\n",
       "      <th>9</th>\n",
       "      <td>table</td>\n",
       "      <td>inputevents_cv</td>\n",
       "      <td>inputevents_cv</td>\n",
       "      <td>8186836</td>\n",
       "      <td>CREATE TABLE \"inputevents_cv\" (\\n\"ROW_ID\" INTE...</td>\n",
       "    </tr>\n",
       "    <tr>\n",
       "      <th>10</th>\n",
       "      <td>table</td>\n",
       "      <td>d_labitems</td>\n",
       "      <td>d_labitems</td>\n",
       "      <td>8685913</td>\n",
       "      <td>CREATE TABLE \"d_labitems\" (\\n\"ROW_ID\" INTEGER,...</td>\n",
       "    </tr>\n",
       "    <tr>\n",
       "      <th>11</th>\n",
       "      <td>table</td>\n",
       "      <td>d_items</td>\n",
       "      <td>d_items</td>\n",
       "      <td>8685924</td>\n",
       "      <td>CREATE TABLE \"d_items\" (\\n\"ROW_ID\" INTEGER,\\n ...</td>\n",
       "    </tr>\n",
       "    <tr>\n",
       "      <th>12</th>\n",
       "      <td>table</td>\n",
       "      <td>input_mv_adm</td>\n",
       "      <td>input_mv_adm</td>\n",
       "      <td>8974307</td>\n",
       "      <td>CREATE TABLE \"input_mv_adm\" (\\n\"SUBJECT_ID\" IN...</td>\n",
       "    </tr>\n",
       "    <tr>\n",
       "      <th>13</th>\n",
       "      <td>table</td>\n",
       "      <td>joinoutputevent</td>\n",
       "      <td>joinoutputevent</td>\n",
       "      <td>9041820</td>\n",
       "      <td>CREATE TABLE \"joinoutputevent\" (\\n\"SUBJECT_ID\"...</td>\n",
       "    </tr>\n",
       "    <tr>\n",
       "      <th>14</th>\n",
       "      <td>table</td>\n",
       "      <td>input_adm</td>\n",
       "      <td>input_adm</td>\n",
       "      <td>8686143</td>\n",
       "      <td>CREATE TABLE \"input_adm\" (\\n\"subject_id\" INTEG...</td>\n",
       "    </tr>\n",
       "    <tr>\n",
       "      <th>15</th>\n",
       "      <td>table</td>\n",
       "      <td>df_pat</td>\n",
       "      <td>df_pat</td>\n",
       "      <td>8717464</td>\n",
       "      <td>CREATE TABLE \"df_pat\" (\\n\"ROW_ID\" INTEGER,\\n  ...</td>\n",
       "    </tr>\n",
       "  </tbody>\n",
       "</table>\n",
       "</div>"
      ],
      "text/plain": [
       "     type             name         tbl_name  rootpage  \\\n",
       "0   table       chartevent       chartevent         2   \n",
       "1   table        admission        admission   7463507   \n",
       "2   table          icustay          icustay   7466383   \n",
       "3   table          service          service   7885894   \n",
       "4   table        diagnosis        diagnosis   7886693   \n",
       "5   table          patient          patient   7890810   \n",
       "6   table           output           output   7891447   \n",
       "7   table        labevents        labevents   7467812   \n",
       "8   table   inputevents_mv   inputevents_mv   7975528   \n",
       "9   table   inputevents_cv   inputevents_cv   8186836   \n",
       "10  table       d_labitems       d_labitems   8685913   \n",
       "11  table          d_items          d_items   8685924   \n",
       "12  table     input_mv_adm     input_mv_adm   8974307   \n",
       "13  table  joinoutputevent  joinoutputevent   9041820   \n",
       "14  table        input_adm        input_adm   8686143   \n",
       "15  table           df_pat           df_pat   8717464   \n",
       "\n",
       "                                                  sql  \n",
       "0   CREATE TABLE \"chartevent\" (\\n\"ROW_ID\" INTEGER,...  \n",
       "1   CREATE TABLE \"admission\" (\\n\"ROW_ID\" INTEGER,\\...  \n",
       "2   CREATE TABLE \"icustay\" (\\n\"ROW_ID\" INTEGER,\\n ...  \n",
       "3   CREATE TABLE \"service\" (\\n\"ROW_ID\" INTEGER,\\n ...  \n",
       "4   CREATE TABLE \"diagnosis\" (\\n\"ROW_ID\" INTEGER,\\...  \n",
       "5   CREATE TABLE \"patient\" (\\n\"ROW_ID\" INTEGER,\\n ...  \n",
       "6   CREATE TABLE \"output\" (\\n\"ROW_ID\" INTEGER,\\n  ...  \n",
       "7   CREATE TABLE \"labevents\" (\\n\"ROW_ID\" INTEGER,\\...  \n",
       "8   CREATE TABLE \"inputevents_mv\" (\\n\"ROW_ID\" INTE...  \n",
       "9   CREATE TABLE \"inputevents_cv\" (\\n\"ROW_ID\" INTE...  \n",
       "10  CREATE TABLE \"d_labitems\" (\\n\"ROW_ID\" INTEGER,...  \n",
       "11  CREATE TABLE \"d_items\" (\\n\"ROW_ID\" INTEGER,\\n ...  \n",
       "12  CREATE TABLE \"input_mv_adm\" (\\n\"SUBJECT_ID\" IN...  \n",
       "13  CREATE TABLE \"joinoutputevent\" (\\n\"SUBJECT_ID\"...  \n",
       "14  CREATE TABLE \"input_adm\" (\\n\"subject_id\" INTEG...  \n",
       "15  CREATE TABLE \"df_pat\" (\\n\"ROW_ID\" INTEGER,\\n  ...  "
      ]
     },
     "execution_count": 70,
     "metadata": {
      "tags": []
     },
     "output_type": "execute_result"
    }
   ],
   "source": [
    "tables = pd.read_sql(\"SELECT * FROM sqlite_master where type='table'\",conn)\n",
    "tables"
   ]
  },
  {
   "cell_type": "markdown",
   "metadata": {
    "ExecuteTime": {
     "end_time": "2019-05-01T02:14:07.767815Z",
     "start_time": "2019-05-01T02:14:07.735772Z"
    },
    "colab_type": "text",
    "id": "cOlt9EVSvpf4"
   },
   "source": [
    "#### Display first 3 rows of original tables from MIMIC"
   ]
  },
  {
   "cell_type": "markdown",
   "metadata": {
    "ExecuteTime": {
     "end_time": "2019-05-02T20:43:06.017477Z",
     "start_time": "2019-05-02T20:43:04.393029Z"
    },
    "colab_type": "text",
    "id": "IYJ79-Gbvpf5"
   },
   "source": [
    "First 3 rows of each table are listed below. "
   ]
  },
  {
   "cell_type": "code",
   "execution_count": 0,
   "metadata": {
    "ExecuteTime": {
     "end_time": "2019-05-02T22:35:33.361856Z",
     "start_time": "2019-05-02T22:35:31.165301Z"
    },
    "colab": {},
    "colab_type": "code",
    "id": "tERMjFrkvpf6",
    "outputId": "74e61d8c-b49a-45d6-91e2-ba15cb0287f3"
   },
   "outputs": [
    {
     "name": "stdout",
     "output_type": "stream",
     "text": [
      "Table: chartevent\n"
     ]
    },
    {
     "data": {
      "text/html": [
       "<div>\n",
       "<style scoped>\n",
       "    .dataframe tbody tr th:only-of-type {\n",
       "        vertical-align: middle;\n",
       "    }\n",
       "\n",
       "    .dataframe tbody tr th {\n",
       "        vertical-align: top;\n",
       "    }\n",
       "\n",
       "    .dataframe thead th {\n",
       "        text-align: right;\n",
       "    }\n",
       "</style>\n",
       "<table border=\"1\" class=\"dataframe\">\n",
       "  <thead>\n",
       "    <tr style=\"text-align: right;\">\n",
       "      <th></th>\n",
       "      <th>ROW_ID</th>\n",
       "      <th>SUBJECT_ID</th>\n",
       "      <th>HADM_ID</th>\n",
       "      <th>ICUSTAY_ID</th>\n",
       "      <th>ITEMID</th>\n",
       "      <th>CHARTTIME</th>\n",
       "      <th>STORETIME</th>\n",
       "      <th>CGID</th>\n",
       "      <th>VALUE</th>\n",
       "      <th>VALUENUM</th>\n",
       "      <th>VALUEUOM</th>\n",
       "      <th>WARNING</th>\n",
       "      <th>ERROR</th>\n",
       "      <th>RESULTSTATUS</th>\n",
       "      <th>STOPPED</th>\n",
       "    </tr>\n",
       "  </thead>\n",
       "  <tbody>\n",
       "    <tr>\n",
       "      <th>0</th>\n",
       "      <td>788</td>\n",
       "      <td>36</td>\n",
       "      <td>165660</td>\n",
       "      <td>241249</td>\n",
       "      <td>223834</td>\n",
       "      <td>2134-05-12 12:00:00</td>\n",
       "      <td>2134-05-12 13:56:00</td>\n",
       "      <td>17525</td>\n",
       "      <td>15.00</td>\n",
       "      <td>15.00</td>\n",
       "      <td>L/min</td>\n",
       "      <td>0</td>\n",
       "      <td>0</td>\n",
       "      <td>None</td>\n",
       "      <td>None</td>\n",
       "    </tr>\n",
       "    <tr>\n",
       "      <th>1</th>\n",
       "      <td>789</td>\n",
       "      <td>36</td>\n",
       "      <td>165660</td>\n",
       "      <td>241249</td>\n",
       "      <td>223835</td>\n",
       "      <td>2134-05-12 12:00:00</td>\n",
       "      <td>2134-05-12 13:56:00</td>\n",
       "      <td>17525</td>\n",
       "      <td>100.00</td>\n",
       "      <td>100.00</td>\n",
       "      <td>None</td>\n",
       "      <td>0</td>\n",
       "      <td>0</td>\n",
       "      <td>None</td>\n",
       "      <td>None</td>\n",
       "    </tr>\n",
       "    <tr>\n",
       "      <th>2</th>\n",
       "      <td>790</td>\n",
       "      <td>36</td>\n",
       "      <td>165660</td>\n",
       "      <td>241249</td>\n",
       "      <td>224328</td>\n",
       "      <td>2134-05-12 12:00:00</td>\n",
       "      <td>2134-05-12 12:18:00</td>\n",
       "      <td>20823</td>\n",
       "      <td>0.37</td>\n",
       "      <td>0.37</td>\n",
       "      <td>None</td>\n",
       "      <td>0</td>\n",
       "      <td>0</td>\n",
       "      <td>None</td>\n",
       "      <td>None</td>\n",
       "    </tr>\n",
       "  </tbody>\n",
       "</table>\n",
       "</div>"
      ],
      "text/plain": [
       "   ROW_ID  SUBJECT_ID  HADM_ID  ICUSTAY_ID  ITEMID            CHARTTIME  \\\n",
       "0     788          36   165660      241249  223834  2134-05-12 12:00:00   \n",
       "1     789          36   165660      241249  223835  2134-05-12 12:00:00   \n",
       "2     790          36   165660      241249  224328  2134-05-12 12:00:00   \n",
       "\n",
       "             STORETIME   CGID   VALUE  VALUENUM VALUEUOM  WARNING  ERROR  \\\n",
       "0  2134-05-12 13:56:00  17525   15.00     15.00    L/min        0      0   \n",
       "1  2134-05-12 13:56:00  17525  100.00    100.00     None        0      0   \n",
       "2  2134-05-12 12:18:00  20823    0.37      0.37     None        0      0   \n",
       "\n",
       "  RESULTSTATUS STOPPED  \n",
       "0         None    None  \n",
       "1         None    None  \n",
       "2         None    None  "
      ]
     },
     "metadata": {
      "tags": []
     },
     "output_type": "display_data"
    },
    {
     "name": "stdout",
     "output_type": "stream",
     "text": [
      "Table: admission\n"
     ]
    },
    {
     "data": {
      "text/html": [
       "<div>\n",
       "<style scoped>\n",
       "    .dataframe tbody tr th:only-of-type {\n",
       "        vertical-align: middle;\n",
       "    }\n",
       "\n",
       "    .dataframe tbody tr th {\n",
       "        vertical-align: top;\n",
       "    }\n",
       "\n",
       "    .dataframe thead th {\n",
       "        text-align: right;\n",
       "    }\n",
       "</style>\n",
       "<table border=\"1\" class=\"dataframe\">\n",
       "  <thead>\n",
       "    <tr style=\"text-align: right;\">\n",
       "      <th></th>\n",
       "      <th>ROW_ID</th>\n",
       "      <th>SUBJECT_ID</th>\n",
       "      <th>HADM_ID</th>\n",
       "      <th>ADMITTIME</th>\n",
       "      <th>DISCHTIME</th>\n",
       "      <th>DEATHTIME</th>\n",
       "      <th>ADMISSION_TYPE</th>\n",
       "      <th>ADMISSION_LOCATION</th>\n",
       "      <th>DISCHARGE_LOCATION</th>\n",
       "      <th>INSURANCE</th>\n",
       "      <th>LANGUAGE</th>\n",
       "      <th>RELIGION</th>\n",
       "      <th>MARITAL_STATUS</th>\n",
       "      <th>ETHNICITY</th>\n",
       "      <th>EDREGTIME</th>\n",
       "      <th>EDOUTTIME</th>\n",
       "      <th>DIAGNOSIS</th>\n",
       "      <th>HOSPITAL_EXPIRE_FLAG</th>\n",
       "      <th>HAS_CHARTEVENTS_DATA</th>\n",
       "    </tr>\n",
       "  </thead>\n",
       "  <tbody>\n",
       "    <tr>\n",
       "      <th>0</th>\n",
       "      <td>21</td>\n",
       "      <td>22</td>\n",
       "      <td>165315</td>\n",
       "      <td>2196-04-09 12:26:00</td>\n",
       "      <td>2196-04-10 15:54:00</td>\n",
       "      <td>None</td>\n",
       "      <td>EMERGENCY</td>\n",
       "      <td>EMERGENCY ROOM ADMIT</td>\n",
       "      <td>DISC-TRAN CANCER/CHLDRN H</td>\n",
       "      <td>Private</td>\n",
       "      <td>None</td>\n",
       "      <td>UNOBTAINABLE</td>\n",
       "      <td>MARRIED</td>\n",
       "      <td>WHITE</td>\n",
       "      <td>2196-04-09 10:06:00</td>\n",
       "      <td>2196-04-09 13:24:00</td>\n",
       "      <td>BENZODIAZEPINE OVERDOSE</td>\n",
       "      <td>0</td>\n",
       "      <td>1</td>\n",
       "    </tr>\n",
       "    <tr>\n",
       "      <th>1</th>\n",
       "      <td>22</td>\n",
       "      <td>23</td>\n",
       "      <td>152223</td>\n",
       "      <td>2153-09-03 07:15:00</td>\n",
       "      <td>2153-09-08 19:10:00</td>\n",
       "      <td>None</td>\n",
       "      <td>ELECTIVE</td>\n",
       "      <td>PHYS REFERRAL/NORMAL DELI</td>\n",
       "      <td>HOME HEALTH CARE</td>\n",
       "      <td>Medicare</td>\n",
       "      <td>None</td>\n",
       "      <td>CATHOLIC</td>\n",
       "      <td>MARRIED</td>\n",
       "      <td>WHITE</td>\n",
       "      <td>None</td>\n",
       "      <td>None</td>\n",
       "      <td>CORONARY ARTERY DISEASE\\CORONARY ARTERY BYPASS...</td>\n",
       "      <td>0</td>\n",
       "      <td>1</td>\n",
       "    </tr>\n",
       "    <tr>\n",
       "      <th>2</th>\n",
       "      <td>23</td>\n",
       "      <td>23</td>\n",
       "      <td>124321</td>\n",
       "      <td>2157-10-18 19:34:00</td>\n",
       "      <td>2157-10-25 14:00:00</td>\n",
       "      <td>None</td>\n",
       "      <td>EMERGENCY</td>\n",
       "      <td>TRANSFER FROM HOSP/EXTRAM</td>\n",
       "      <td>HOME HEALTH CARE</td>\n",
       "      <td>Medicare</td>\n",
       "      <td>ENGL</td>\n",
       "      <td>CATHOLIC</td>\n",
       "      <td>MARRIED</td>\n",
       "      <td>WHITE</td>\n",
       "      <td>None</td>\n",
       "      <td>None</td>\n",
       "      <td>BRAIN MASS</td>\n",
       "      <td>0</td>\n",
       "      <td>1</td>\n",
       "    </tr>\n",
       "  </tbody>\n",
       "</table>\n",
       "</div>"
      ],
      "text/plain": [
       "   ROW_ID  SUBJECT_ID  HADM_ID            ADMITTIME            DISCHTIME  \\\n",
       "0      21          22   165315  2196-04-09 12:26:00  2196-04-10 15:54:00   \n",
       "1      22          23   152223  2153-09-03 07:15:00  2153-09-08 19:10:00   \n",
       "2      23          23   124321  2157-10-18 19:34:00  2157-10-25 14:00:00   \n",
       "\n",
       "  DEATHTIME ADMISSION_TYPE         ADMISSION_LOCATION  \\\n",
       "0      None      EMERGENCY       EMERGENCY ROOM ADMIT   \n",
       "1      None       ELECTIVE  PHYS REFERRAL/NORMAL DELI   \n",
       "2      None      EMERGENCY  TRANSFER FROM HOSP/EXTRAM   \n",
       "\n",
       "          DISCHARGE_LOCATION INSURANCE LANGUAGE      RELIGION MARITAL_STATUS  \\\n",
       "0  DISC-TRAN CANCER/CHLDRN H   Private     None  UNOBTAINABLE        MARRIED   \n",
       "1           HOME HEALTH CARE  Medicare     None      CATHOLIC        MARRIED   \n",
       "2           HOME HEALTH CARE  Medicare     ENGL      CATHOLIC        MARRIED   \n",
       "\n",
       "  ETHNICITY            EDREGTIME            EDOUTTIME  \\\n",
       "0     WHITE  2196-04-09 10:06:00  2196-04-09 13:24:00   \n",
       "1     WHITE                 None                 None   \n",
       "2     WHITE                 None                 None   \n",
       "\n",
       "                                           DIAGNOSIS  HOSPITAL_EXPIRE_FLAG  \\\n",
       "0                            BENZODIAZEPINE OVERDOSE                     0   \n",
       "1  CORONARY ARTERY DISEASE\\CORONARY ARTERY BYPASS...                     0   \n",
       "2                                         BRAIN MASS                     0   \n",
       "\n",
       "   HAS_CHARTEVENTS_DATA  \n",
       "0                     1  \n",
       "1                     1  \n",
       "2                     1  "
      ]
     },
     "metadata": {
      "tags": []
     },
     "output_type": "display_data"
    },
    {
     "name": "stdout",
     "output_type": "stream",
     "text": [
      "Table: icustay\n"
     ]
    },
    {
     "data": {
      "text/html": [
       "<div>\n",
       "<style scoped>\n",
       "    .dataframe tbody tr th:only-of-type {\n",
       "        vertical-align: middle;\n",
       "    }\n",
       "\n",
       "    .dataframe tbody tr th {\n",
       "        vertical-align: top;\n",
       "    }\n",
       "\n",
       "    .dataframe thead th {\n",
       "        text-align: right;\n",
       "    }\n",
       "</style>\n",
       "<table border=\"1\" class=\"dataframe\">\n",
       "  <thead>\n",
       "    <tr style=\"text-align: right;\">\n",
       "      <th></th>\n",
       "      <th>ROW_ID</th>\n",
       "      <th>SUBJECT_ID</th>\n",
       "      <th>HADM_ID</th>\n",
       "      <th>ICUSTAY_ID</th>\n",
       "      <th>DBSOURCE</th>\n",
       "      <th>FIRST_CAREUNIT</th>\n",
       "      <th>LAST_CAREUNIT</th>\n",
       "      <th>FIRST_WARDID</th>\n",
       "      <th>LAST_WARDID</th>\n",
       "      <th>INTIME</th>\n",
       "      <th>OUTTIME</th>\n",
       "      <th>LOS</th>\n",
       "    </tr>\n",
       "  </thead>\n",
       "  <tbody>\n",
       "    <tr>\n",
       "      <th>0</th>\n",
       "      <td>365</td>\n",
       "      <td>268</td>\n",
       "      <td>110404</td>\n",
       "      <td>280836</td>\n",
       "      <td>carevue</td>\n",
       "      <td>MICU</td>\n",
       "      <td>MICU</td>\n",
       "      <td>52</td>\n",
       "      <td>52</td>\n",
       "      <td>2198-02-14 23:27:38</td>\n",
       "      <td>2198-02-18 05:26:11</td>\n",
       "      <td>3.2490</td>\n",
       "    </tr>\n",
       "    <tr>\n",
       "      <th>1</th>\n",
       "      <td>366</td>\n",
       "      <td>269</td>\n",
       "      <td>106296</td>\n",
       "      <td>206613</td>\n",
       "      <td>carevue</td>\n",
       "      <td>MICU</td>\n",
       "      <td>MICU</td>\n",
       "      <td>52</td>\n",
       "      <td>52</td>\n",
       "      <td>2170-11-05 11:05:29</td>\n",
       "      <td>2170-11-08 17:46:57</td>\n",
       "      <td>3.2788</td>\n",
       "    </tr>\n",
       "    <tr>\n",
       "      <th>2</th>\n",
       "      <td>367</td>\n",
       "      <td>270</td>\n",
       "      <td>188028</td>\n",
       "      <td>220345</td>\n",
       "      <td>carevue</td>\n",
       "      <td>CCU</td>\n",
       "      <td>CCU</td>\n",
       "      <td>57</td>\n",
       "      <td>57</td>\n",
       "      <td>2128-06-24 15:05:20</td>\n",
       "      <td>2128-06-27 12:32:29</td>\n",
       "      <td>2.8939</td>\n",
       "    </tr>\n",
       "  </tbody>\n",
       "</table>\n",
       "</div>"
      ],
      "text/plain": [
       "   ROW_ID  SUBJECT_ID  HADM_ID  ICUSTAY_ID DBSOURCE FIRST_CAREUNIT  \\\n",
       "0     365         268   110404      280836  carevue           MICU   \n",
       "1     366         269   106296      206613  carevue           MICU   \n",
       "2     367         270   188028      220345  carevue            CCU   \n",
       "\n",
       "  LAST_CAREUNIT  FIRST_WARDID  LAST_WARDID               INTIME  \\\n",
       "0          MICU            52           52  2198-02-14 23:27:38   \n",
       "1          MICU            52           52  2170-11-05 11:05:29   \n",
       "2           CCU            57           57  2128-06-24 15:05:20   \n",
       "\n",
       "               OUTTIME     LOS  \n",
       "0  2198-02-18 05:26:11  3.2490  \n",
       "1  2170-11-08 17:46:57  3.2788  \n",
       "2  2128-06-27 12:32:29  2.8939  "
      ]
     },
     "metadata": {
      "tags": []
     },
     "output_type": "display_data"
    },
    {
     "name": "stdout",
     "output_type": "stream",
     "text": [
      "Table: service\n"
     ]
    },
    {
     "data": {
      "text/html": [
       "<div>\n",
       "<style scoped>\n",
       "    .dataframe tbody tr th:only-of-type {\n",
       "        vertical-align: middle;\n",
       "    }\n",
       "\n",
       "    .dataframe tbody tr th {\n",
       "        vertical-align: top;\n",
       "    }\n",
       "\n",
       "    .dataframe thead th {\n",
       "        text-align: right;\n",
       "    }\n",
       "</style>\n",
       "<table border=\"1\" class=\"dataframe\">\n",
       "  <thead>\n",
       "    <tr style=\"text-align: right;\">\n",
       "      <th></th>\n",
       "      <th>ROW_ID</th>\n",
       "      <th>SUBJECT_ID</th>\n",
       "      <th>HADM_ID</th>\n",
       "      <th>TRANSFERTIME</th>\n",
       "      <th>PREV_SERVICE</th>\n",
       "      <th>CURR_SERVICE</th>\n",
       "    </tr>\n",
       "  </thead>\n",
       "  <tbody>\n",
       "    <tr>\n",
       "      <th>0</th>\n",
       "      <td>758</td>\n",
       "      <td>471</td>\n",
       "      <td>135879</td>\n",
       "      <td>2122-07-22 14:07:27</td>\n",
       "      <td>TSURG</td>\n",
       "      <td>MED</td>\n",
       "    </tr>\n",
       "    <tr>\n",
       "      <th>1</th>\n",
       "      <td>759</td>\n",
       "      <td>471</td>\n",
       "      <td>135879</td>\n",
       "      <td>2122-07-26 18:31:49</td>\n",
       "      <td>MED</td>\n",
       "      <td>TSURG</td>\n",
       "    </tr>\n",
       "    <tr>\n",
       "      <th>2</th>\n",
       "      <td>760</td>\n",
       "      <td>472</td>\n",
       "      <td>173064</td>\n",
       "      <td>2172-09-28 19:22:15</td>\n",
       "      <td>None</td>\n",
       "      <td>CMED</td>\n",
       "    </tr>\n",
       "  </tbody>\n",
       "</table>\n",
       "</div>"
      ],
      "text/plain": [
       "   ROW_ID  SUBJECT_ID  HADM_ID         TRANSFERTIME PREV_SERVICE CURR_SERVICE\n",
       "0     758         471   135879  2122-07-22 14:07:27        TSURG          MED\n",
       "1     759         471   135879  2122-07-26 18:31:49          MED        TSURG\n",
       "2     760         472   173064  2172-09-28 19:22:15         None         CMED"
      ]
     },
     "metadata": {
      "tags": []
     },
     "output_type": "display_data"
    },
    {
     "name": "stdout",
     "output_type": "stream",
     "text": [
      "Table: diagnosis\n"
     ]
    },
    {
     "data": {
      "text/html": [
       "<div>\n",
       "<style scoped>\n",
       "    .dataframe tbody tr th:only-of-type {\n",
       "        vertical-align: middle;\n",
       "    }\n",
       "\n",
       "    .dataframe tbody tr th {\n",
       "        vertical-align: top;\n",
       "    }\n",
       "\n",
       "    .dataframe thead th {\n",
       "        text-align: right;\n",
       "    }\n",
       "</style>\n",
       "<table border=\"1\" class=\"dataframe\">\n",
       "  <thead>\n",
       "    <tr style=\"text-align: right;\">\n",
       "      <th></th>\n",
       "      <th>ROW_ID</th>\n",
       "      <th>SUBJECT_ID</th>\n",
       "      <th>HADM_ID</th>\n",
       "      <th>SEQ_NUM</th>\n",
       "      <th>ICD9_CODE</th>\n",
       "    </tr>\n",
       "  </thead>\n",
       "  <tbody>\n",
       "    <tr>\n",
       "      <th>0</th>\n",
       "      <td>1297</td>\n",
       "      <td>109</td>\n",
       "      <td>172335</td>\n",
       "      <td>1.0</td>\n",
       "      <td>40301</td>\n",
       "    </tr>\n",
       "    <tr>\n",
       "      <th>1</th>\n",
       "      <td>1298</td>\n",
       "      <td>109</td>\n",
       "      <td>172335</td>\n",
       "      <td>2.0</td>\n",
       "      <td>486</td>\n",
       "    </tr>\n",
       "    <tr>\n",
       "      <th>2</th>\n",
       "      <td>1299</td>\n",
       "      <td>109</td>\n",
       "      <td>172335</td>\n",
       "      <td>3.0</td>\n",
       "      <td>58281</td>\n",
       "    </tr>\n",
       "  </tbody>\n",
       "</table>\n",
       "</div>"
      ],
      "text/plain": [
       "   ROW_ID  SUBJECT_ID  HADM_ID  SEQ_NUM ICD9_CODE\n",
       "0    1297         109   172335      1.0     40301\n",
       "1    1298         109   172335      2.0       486\n",
       "2    1299         109   172335      3.0     58281"
      ]
     },
     "metadata": {
      "tags": []
     },
     "output_type": "display_data"
    },
    {
     "name": "stdout",
     "output_type": "stream",
     "text": [
      "Table: patient\n"
     ]
    },
    {
     "data": {
      "text/html": [
       "<div>\n",
       "<style scoped>\n",
       "    .dataframe tbody tr th:only-of-type {\n",
       "        vertical-align: middle;\n",
       "    }\n",
       "\n",
       "    .dataframe tbody tr th {\n",
       "        vertical-align: top;\n",
       "    }\n",
       "\n",
       "    .dataframe thead th {\n",
       "        text-align: right;\n",
       "    }\n",
       "</style>\n",
       "<table border=\"1\" class=\"dataframe\">\n",
       "  <thead>\n",
       "    <tr style=\"text-align: right;\">\n",
       "      <th></th>\n",
       "      <th>ROW_ID</th>\n",
       "      <th>SUBJECT_ID</th>\n",
       "      <th>GENDER</th>\n",
       "      <th>DOB</th>\n",
       "      <th>DOD</th>\n",
       "      <th>DOD_HOSP</th>\n",
       "      <th>DOD_SSN</th>\n",
       "      <th>EXPIRE_FLAG</th>\n",
       "    </tr>\n",
       "  </thead>\n",
       "  <tbody>\n",
       "    <tr>\n",
       "      <th>0</th>\n",
       "      <td>234</td>\n",
       "      <td>249</td>\n",
       "      <td>F</td>\n",
       "      <td>2075-03-13 00:00:00</td>\n",
       "      <td>None</td>\n",
       "      <td>None</td>\n",
       "      <td>None</td>\n",
       "      <td>0</td>\n",
       "    </tr>\n",
       "    <tr>\n",
       "      <th>1</th>\n",
       "      <td>235</td>\n",
       "      <td>250</td>\n",
       "      <td>F</td>\n",
       "      <td>2164-12-27 00:00:00</td>\n",
       "      <td>2188-11-22 00:00:00</td>\n",
       "      <td>2188-11-22 00:00:00</td>\n",
       "      <td>None</td>\n",
       "      <td>1</td>\n",
       "    </tr>\n",
       "    <tr>\n",
       "      <th>2</th>\n",
       "      <td>236</td>\n",
       "      <td>251</td>\n",
       "      <td>M</td>\n",
       "      <td>2090-03-15 00:00:00</td>\n",
       "      <td>None</td>\n",
       "      <td>None</td>\n",
       "      <td>None</td>\n",
       "      <td>0</td>\n",
       "    </tr>\n",
       "  </tbody>\n",
       "</table>\n",
       "</div>"
      ],
      "text/plain": [
       "   ROW_ID  SUBJECT_ID GENDER                  DOB                  DOD  \\\n",
       "0     234         249      F  2075-03-13 00:00:00                 None   \n",
       "1     235         250      F  2164-12-27 00:00:00  2188-11-22 00:00:00   \n",
       "2     236         251      M  2090-03-15 00:00:00                 None   \n",
       "\n",
       "              DOD_HOSP DOD_SSN  EXPIRE_FLAG  \n",
       "0                 None    None            0  \n",
       "1  2188-11-22 00:00:00    None            1  \n",
       "2                 None    None            0  "
      ]
     },
     "metadata": {
      "tags": []
     },
     "output_type": "display_data"
    },
    {
     "name": "stdout",
     "output_type": "stream",
     "text": [
      "Table: output\n"
     ]
    },
    {
     "data": {
      "text/html": [
       "<div>\n",
       "<style scoped>\n",
       "    .dataframe tbody tr th:only-of-type {\n",
       "        vertical-align: middle;\n",
       "    }\n",
       "\n",
       "    .dataframe tbody tr th {\n",
       "        vertical-align: top;\n",
       "    }\n",
       "\n",
       "    .dataframe thead th {\n",
       "        text-align: right;\n",
       "    }\n",
       "</style>\n",
       "<table border=\"1\" class=\"dataframe\">\n",
       "  <thead>\n",
       "    <tr style=\"text-align: right;\">\n",
       "      <th></th>\n",
       "      <th>ROW_ID</th>\n",
       "      <th>SUBJECT_ID</th>\n",
       "      <th>HADM_ID</th>\n",
       "      <th>ICUSTAY_ID</th>\n",
       "      <th>CHARTTIME</th>\n",
       "      <th>ITEMID</th>\n",
       "      <th>VALUE</th>\n",
       "      <th>VALUEUOM</th>\n",
       "      <th>STORETIME</th>\n",
       "      <th>CGID</th>\n",
       "      <th>STOPPED</th>\n",
       "      <th>NEWBOTTLE</th>\n",
       "      <th>ISERROR</th>\n",
       "    </tr>\n",
       "  </thead>\n",
       "  <tbody>\n",
       "    <tr>\n",
       "      <th>0</th>\n",
       "      <td>344</td>\n",
       "      <td>21219</td>\n",
       "      <td>177991.0</td>\n",
       "      <td>225765.0</td>\n",
       "      <td>2142-09-08 10:00:00</td>\n",
       "      <td>40055</td>\n",
       "      <td>200.0</td>\n",
       "      <td>ml</td>\n",
       "      <td>2142-09-08 12:08:00</td>\n",
       "      <td>17269</td>\n",
       "      <td>None</td>\n",
       "      <td>None</td>\n",
       "      <td>None</td>\n",
       "    </tr>\n",
       "    <tr>\n",
       "      <th>1</th>\n",
       "      <td>345</td>\n",
       "      <td>21219</td>\n",
       "      <td>177991.0</td>\n",
       "      <td>225765.0</td>\n",
       "      <td>2142-09-08 12:00:00</td>\n",
       "      <td>40055</td>\n",
       "      <td>200.0</td>\n",
       "      <td>ml</td>\n",
       "      <td>2142-09-08 12:08:00</td>\n",
       "      <td>17269</td>\n",
       "      <td>None</td>\n",
       "      <td>None</td>\n",
       "      <td>None</td>\n",
       "    </tr>\n",
       "    <tr>\n",
       "      <th>2</th>\n",
       "      <td>346</td>\n",
       "      <td>21219</td>\n",
       "      <td>177991.0</td>\n",
       "      <td>225765.0</td>\n",
       "      <td>2142-09-08 13:00:00</td>\n",
       "      <td>40055</td>\n",
       "      <td>120.0</td>\n",
       "      <td>ml</td>\n",
       "      <td>2142-09-08 13:39:00</td>\n",
       "      <td>17269</td>\n",
       "      <td>None</td>\n",
       "      <td>None</td>\n",
       "      <td>None</td>\n",
       "    </tr>\n",
       "  </tbody>\n",
       "</table>\n",
       "</div>"
      ],
      "text/plain": [
       "   ROW_ID  SUBJECT_ID   HADM_ID  ICUSTAY_ID            CHARTTIME  ITEMID  \\\n",
       "0     344       21219  177991.0    225765.0  2142-09-08 10:00:00   40055   \n",
       "1     345       21219  177991.0    225765.0  2142-09-08 12:00:00   40055   \n",
       "2     346       21219  177991.0    225765.0  2142-09-08 13:00:00   40055   \n",
       "\n",
       "   VALUE VALUEUOM            STORETIME   CGID STOPPED NEWBOTTLE ISERROR  \n",
       "0  200.0       ml  2142-09-08 12:08:00  17269    None      None    None  \n",
       "1  200.0       ml  2142-09-08 12:08:00  17269    None      None    None  \n",
       "2  120.0       ml  2142-09-08 13:39:00  17269    None      None    None  "
      ]
     },
     "metadata": {
      "tags": []
     },
     "output_type": "display_data"
    },
    {
     "name": "stdout",
     "output_type": "stream",
     "text": [
      "Table: labevents\n"
     ]
    },
    {
     "data": {
      "text/html": [
       "<div>\n",
       "<style scoped>\n",
       "    .dataframe tbody tr th:only-of-type {\n",
       "        vertical-align: middle;\n",
       "    }\n",
       "\n",
       "    .dataframe tbody tr th {\n",
       "        vertical-align: top;\n",
       "    }\n",
       "\n",
       "    .dataframe thead th {\n",
       "        text-align: right;\n",
       "    }\n",
       "</style>\n",
       "<table border=\"1\" class=\"dataframe\">\n",
       "  <thead>\n",
       "    <tr style=\"text-align: right;\">\n",
       "      <th></th>\n",
       "      <th>ROW_ID</th>\n",
       "      <th>SUBJECT_ID</th>\n",
       "      <th>HADM_ID</th>\n",
       "      <th>ITEMID</th>\n",
       "      <th>CHARTTIME</th>\n",
       "      <th>VALUE</th>\n",
       "      <th>VALUENUM</th>\n",
       "      <th>VALUEUOM</th>\n",
       "      <th>FLAG</th>\n",
       "    </tr>\n",
       "  </thead>\n",
       "  <tbody>\n",
       "    <tr>\n",
       "      <th>0</th>\n",
       "      <td>281</td>\n",
       "      <td>3</td>\n",
       "      <td>None</td>\n",
       "      <td>50820</td>\n",
       "      <td>2101-10-12 16:07:00</td>\n",
       "      <td>7.39</td>\n",
       "      <td>7.39</td>\n",
       "      <td>units</td>\n",
       "      <td>None</td>\n",
       "    </tr>\n",
       "    <tr>\n",
       "      <th>1</th>\n",
       "      <td>282</td>\n",
       "      <td>3</td>\n",
       "      <td>None</td>\n",
       "      <td>50800</td>\n",
       "      <td>2101-10-12 18:17:00</td>\n",
       "      <td>ART</td>\n",
       "      <td>NaN</td>\n",
       "      <td>None</td>\n",
       "      <td>None</td>\n",
       "    </tr>\n",
       "    <tr>\n",
       "      <th>2</th>\n",
       "      <td>283</td>\n",
       "      <td>3</td>\n",
       "      <td>None</td>\n",
       "      <td>50802</td>\n",
       "      <td>2101-10-12 18:17:00</td>\n",
       "      <td>-1</td>\n",
       "      <td>-1.00</td>\n",
       "      <td>mEq/L</td>\n",
       "      <td>None</td>\n",
       "    </tr>\n",
       "  </tbody>\n",
       "</table>\n",
       "</div>"
      ],
      "text/plain": [
       "   ROW_ID  SUBJECT_ID HADM_ID  ITEMID            CHARTTIME VALUE  VALUENUM  \\\n",
       "0     281           3    None   50820  2101-10-12 16:07:00  7.39      7.39   \n",
       "1     282           3    None   50800  2101-10-12 18:17:00   ART       NaN   \n",
       "2     283           3    None   50802  2101-10-12 18:17:00    -1     -1.00   \n",
       "\n",
       "  VALUEUOM  FLAG  \n",
       "0    units  None  \n",
       "1     None  None  \n",
       "2    mEq/L  None  "
      ]
     },
     "metadata": {
      "tags": []
     },
     "output_type": "display_data"
    },
    {
     "name": "stdout",
     "output_type": "stream",
     "text": [
      "Table: inputevents_mv\n"
     ]
    },
    {
     "data": {
      "text/html": [
       "<div>\n",
       "<style scoped>\n",
       "    .dataframe tbody tr th:only-of-type {\n",
       "        vertical-align: middle;\n",
       "    }\n",
       "\n",
       "    .dataframe tbody tr th {\n",
       "        vertical-align: top;\n",
       "    }\n",
       "\n",
       "    .dataframe thead th {\n",
       "        text-align: right;\n",
       "    }\n",
       "</style>\n",
       "<table border=\"1\" class=\"dataframe\">\n",
       "  <thead>\n",
       "    <tr style=\"text-align: right;\">\n",
       "      <th></th>\n",
       "      <th>ROW_ID</th>\n",
       "      <th>SUBJECT_ID</th>\n",
       "      <th>HADM_ID</th>\n",
       "      <th>ICUSTAY_ID</th>\n",
       "      <th>STARTTIME</th>\n",
       "      <th>ENDTIME</th>\n",
       "      <th>ITEMID</th>\n",
       "      <th>AMOUNT</th>\n",
       "      <th>AMOUNTUOM</th>\n",
       "      <th>RATE</th>\n",
       "      <th>...</th>\n",
       "      <th>TOTALAMOUNTUOM</th>\n",
       "      <th>ISOPENBAG</th>\n",
       "      <th>CONTINUEINNEXTDEPT</th>\n",
       "      <th>CANCELREASON</th>\n",
       "      <th>STATUSDESCRIPTION</th>\n",
       "      <th>COMMENTS_EDITEDBY</th>\n",
       "      <th>COMMENTS_CANCELEDBY</th>\n",
       "      <th>COMMENTS_DATE</th>\n",
       "      <th>ORIGINALAMOUNT</th>\n",
       "      <th>ORIGINALRATE</th>\n",
       "    </tr>\n",
       "  </thead>\n",
       "  <tbody>\n",
       "    <tr>\n",
       "      <th>0</th>\n",
       "      <td>241</td>\n",
       "      <td>27063</td>\n",
       "      <td>139787</td>\n",
       "      <td>223259</td>\n",
       "      <td>2133-02-05 06:29:00</td>\n",
       "      <td>2133-02-05 08:45:00</td>\n",
       "      <td>225166</td>\n",
       "      <td>6.774532</td>\n",
       "      <td>mEq</td>\n",
       "      <td>NaN</td>\n",
       "      <td>...</td>\n",
       "      <td>ml</td>\n",
       "      <td>0</td>\n",
       "      <td>0</td>\n",
       "      <td>1</td>\n",
       "      <td>Rewritten</td>\n",
       "      <td>None</td>\n",
       "      <td>RN</td>\n",
       "      <td>2133-02-05 12:52:00</td>\n",
       "      <td>10.000000</td>\n",
       "      <td>0.050000</td>\n",
       "    </tr>\n",
       "    <tr>\n",
       "      <th>1</th>\n",
       "      <td>242</td>\n",
       "      <td>27063</td>\n",
       "      <td>139787</td>\n",
       "      <td>223259</td>\n",
       "      <td>2133-02-05 05:34:00</td>\n",
       "      <td>2133-02-05 06:30:00</td>\n",
       "      <td>225944</td>\n",
       "      <td>28.132997</td>\n",
       "      <td>ml</td>\n",
       "      <td>30.142497</td>\n",
       "      <td>...</td>\n",
       "      <td>ml</td>\n",
       "      <td>0</td>\n",
       "      <td>0</td>\n",
       "      <td>0</td>\n",
       "      <td>FinishedRunning</td>\n",
       "      <td>None</td>\n",
       "      <td>None</td>\n",
       "      <td>None</td>\n",
       "      <td>28.132998</td>\n",
       "      <td>30.255817</td>\n",
       "    </tr>\n",
       "    <tr>\n",
       "      <th>2</th>\n",
       "      <td>243</td>\n",
       "      <td>27063</td>\n",
       "      <td>139787</td>\n",
       "      <td>223259</td>\n",
       "      <td>2133-02-05 05:34:00</td>\n",
       "      <td>2133-02-05 06:30:00</td>\n",
       "      <td>225166</td>\n",
       "      <td>2.813300</td>\n",
       "      <td>mEq</td>\n",
       "      <td>NaN</td>\n",
       "      <td>...</td>\n",
       "      <td>ml</td>\n",
       "      <td>0</td>\n",
       "      <td>0</td>\n",
       "      <td>0</td>\n",
       "      <td>FinishedRunning</td>\n",
       "      <td>None</td>\n",
       "      <td>None</td>\n",
       "      <td>None</td>\n",
       "      <td>2.813300</td>\n",
       "      <td>0.050426</td>\n",
       "    </tr>\n",
       "  </tbody>\n",
       "</table>\n",
       "<p>3 rows × 31 columns</p>\n",
       "</div>"
      ],
      "text/plain": [
       "   ROW_ID  SUBJECT_ID  HADM_ID  ICUSTAY_ID            STARTTIME  \\\n",
       "0     241       27063   139787      223259  2133-02-05 06:29:00   \n",
       "1     242       27063   139787      223259  2133-02-05 05:34:00   \n",
       "2     243       27063   139787      223259  2133-02-05 05:34:00   \n",
       "\n",
       "               ENDTIME  ITEMID     AMOUNT AMOUNTUOM       RATE      ...       \\\n",
       "0  2133-02-05 08:45:00  225166   6.774532       mEq        NaN      ...        \n",
       "1  2133-02-05 06:30:00  225944  28.132997        ml  30.142497      ...        \n",
       "2  2133-02-05 06:30:00  225166   2.813300       mEq        NaN      ...        \n",
       "\n",
       "  TOTALAMOUNTUOM ISOPENBAG  CONTINUEINNEXTDEPT  CANCELREASON  \\\n",
       "0             ml         0                   0             1   \n",
       "1             ml         0                   0             0   \n",
       "2             ml         0                   0             0   \n",
       "\n",
       "   STATUSDESCRIPTION COMMENTS_EDITEDBY COMMENTS_CANCELEDBY  \\\n",
       "0          Rewritten              None                  RN   \n",
       "1    FinishedRunning              None                None   \n",
       "2    FinishedRunning              None                None   \n",
       "\n",
       "         COMMENTS_DATE ORIGINALAMOUNT  ORIGINALRATE  \n",
       "0  2133-02-05 12:52:00      10.000000      0.050000  \n",
       "1                 None      28.132998     30.255817  \n",
       "2                 None       2.813300      0.050426  \n",
       "\n",
       "[3 rows x 31 columns]"
      ]
     },
     "metadata": {
      "tags": []
     },
     "output_type": "display_data"
    },
    {
     "name": "stdout",
     "output_type": "stream",
     "text": [
      "Table: inputevents_cv\n"
     ]
    },
    {
     "data": {
      "text/html": [
       "<div>\n",
       "<style scoped>\n",
       "    .dataframe tbody tr th:only-of-type {\n",
       "        vertical-align: middle;\n",
       "    }\n",
       "\n",
       "    .dataframe tbody tr th {\n",
       "        vertical-align: top;\n",
       "    }\n",
       "\n",
       "    .dataframe thead th {\n",
       "        text-align: right;\n",
       "    }\n",
       "</style>\n",
       "<table border=\"1\" class=\"dataframe\">\n",
       "  <thead>\n",
       "    <tr style=\"text-align: right;\">\n",
       "      <th></th>\n",
       "      <th>ROW_ID</th>\n",
       "      <th>SUBJECT_ID</th>\n",
       "      <th>HADM_ID</th>\n",
       "      <th>ICUSTAY_ID</th>\n",
       "      <th>CHARTTIME</th>\n",
       "      <th>ITEMID</th>\n",
       "      <th>AMOUNT</th>\n",
       "      <th>AMOUNTUOM</th>\n",
       "      <th>RATE</th>\n",
       "      <th>RATEUOM</th>\n",
       "      <th>...</th>\n",
       "      <th>ORDERID</th>\n",
       "      <th>LINKORDERID</th>\n",
       "      <th>STOPPED</th>\n",
       "      <th>NEWBOTTLE</th>\n",
       "      <th>ORIGINALAMOUNT</th>\n",
       "      <th>ORIGINALAMOUNTUOM</th>\n",
       "      <th>ORIGINALROUTE</th>\n",
       "      <th>ORIGINALRATE</th>\n",
       "      <th>ORIGINALRATEUOM</th>\n",
       "      <th>ORIGINALSITE</th>\n",
       "    </tr>\n",
       "  </thead>\n",
       "  <tbody>\n",
       "    <tr>\n",
       "      <th>0</th>\n",
       "      <td>592</td>\n",
       "      <td>24457</td>\n",
       "      <td>184834.0</td>\n",
       "      <td>205776.0</td>\n",
       "      <td>2193-09-11 09:00:00</td>\n",
       "      <td>30056</td>\n",
       "      <td>100.0</td>\n",
       "      <td>ml</td>\n",
       "      <td>None</td>\n",
       "      <td>None</td>\n",
       "      <td>...</td>\n",
       "      <td>756654</td>\n",
       "      <td>9359133</td>\n",
       "      <td>None</td>\n",
       "      <td>None</td>\n",
       "      <td>None</td>\n",
       "      <td>ml</td>\n",
       "      <td>Oral</td>\n",
       "      <td>None</td>\n",
       "      <td>None</td>\n",
       "      <td>None</td>\n",
       "    </tr>\n",
       "    <tr>\n",
       "      <th>1</th>\n",
       "      <td>593</td>\n",
       "      <td>24457</td>\n",
       "      <td>184834.0</td>\n",
       "      <td>205776.0</td>\n",
       "      <td>2193-09-11 12:00:00</td>\n",
       "      <td>30056</td>\n",
       "      <td>200.0</td>\n",
       "      <td>ml</td>\n",
       "      <td>None</td>\n",
       "      <td>None</td>\n",
       "      <td>...</td>\n",
       "      <td>3564075</td>\n",
       "      <td>9359133</td>\n",
       "      <td>None</td>\n",
       "      <td>None</td>\n",
       "      <td>None</td>\n",
       "      <td>ml</td>\n",
       "      <td>Oral</td>\n",
       "      <td>None</td>\n",
       "      <td>None</td>\n",
       "      <td>None</td>\n",
       "    </tr>\n",
       "    <tr>\n",
       "      <th>2</th>\n",
       "      <td>594</td>\n",
       "      <td>24457</td>\n",
       "      <td>184834.0</td>\n",
       "      <td>205776.0</td>\n",
       "      <td>2193-09-11 16:00:00</td>\n",
       "      <td>30056</td>\n",
       "      <td>160.0</td>\n",
       "      <td>ml</td>\n",
       "      <td>None</td>\n",
       "      <td>None</td>\n",
       "      <td>...</td>\n",
       "      <td>422646</td>\n",
       "      <td>9359133</td>\n",
       "      <td>None</td>\n",
       "      <td>None</td>\n",
       "      <td>None</td>\n",
       "      <td>ml</td>\n",
       "      <td>Oral</td>\n",
       "      <td>None</td>\n",
       "      <td>None</td>\n",
       "      <td>None</td>\n",
       "    </tr>\n",
       "  </tbody>\n",
       "</table>\n",
       "<p>3 rows × 22 columns</p>\n",
       "</div>"
      ],
      "text/plain": [
       "   ROW_ID  SUBJECT_ID   HADM_ID  ICUSTAY_ID            CHARTTIME  ITEMID  \\\n",
       "0     592       24457  184834.0    205776.0  2193-09-11 09:00:00   30056   \n",
       "1     593       24457  184834.0    205776.0  2193-09-11 12:00:00   30056   \n",
       "2     594       24457  184834.0    205776.0  2193-09-11 16:00:00   30056   \n",
       "\n",
       "   AMOUNT AMOUNTUOM  RATE RATEUOM     ...       ORDERID  LINKORDERID  STOPPED  \\\n",
       "0   100.0        ml  None    None     ...        756654      9359133     None   \n",
       "1   200.0        ml  None    None     ...       3564075      9359133     None   \n",
       "2   160.0        ml  None    None     ...        422646      9359133     None   \n",
       "\n",
       "   NEWBOTTLE ORIGINALAMOUNT ORIGINALAMOUNTUOM ORIGINALROUTE ORIGINALRATE  \\\n",
       "0       None           None                ml          Oral         None   \n",
       "1       None           None                ml          Oral         None   \n",
       "2       None           None                ml          Oral         None   \n",
       "\n",
       "  ORIGINALRATEUOM ORIGINALSITE  \n",
       "0            None         None  \n",
       "1            None         None  \n",
       "2            None         None  \n",
       "\n",
       "[3 rows x 22 columns]"
      ]
     },
     "metadata": {
      "tags": []
     },
     "output_type": "display_data"
    },
    {
     "name": "stdout",
     "output_type": "stream",
     "text": [
      "Table: d_labitems\n"
     ]
    }
   ],
   "source": [
    "table_dict = {}\n",
    "k = 0\n",
    "for table in tables.tbl_name:\n",
    "    table_dict[table]=pd.read_sql(\"SELECT * FROM %s LIMIT 3\" % table, conn)\n",
    "    print('\\033[1m' + \"Table: %s\" % table )\n",
    "    if k==10:\n",
    "        break;\n",
    "    k += 1\n",
    "    display(table_dict[table])"
   ]
  },
  {
   "cell_type": "markdown",
   "metadata": {
    "ExecuteTime": {
     "end_time": "2019-05-01T02:14:07.767815Z",
     "start_time": "2019-05-01T02:14:07.735772Z"
    },
    "colab_type": "text",
    "id": "9KmnRrAsvpf-"
   },
   "source": [
    "### <span style=\"color:blue\">PATIENTS</span>"
   ]
  },
  {
   "cell_type": "markdown",
   "metadata": {
    "ExecuteTime": {
     "end_time": "2019-05-01T02:33:25.300749Z",
     "start_time": "2019-05-01T02:33:25.296710Z"
    },
    "colab_type": "text",
    "id": "AS5SEDzWvpf_"
   },
   "source": [
    "#### Total death patients"
   ]
  },
  {
   "cell_type": "code",
   "execution_count": 0,
   "metadata": {
    "ExecuteTime": {
     "end_time": "2019-05-02T22:35:33.461856Z",
     "start_time": "2019-05-02T22:35:33.364894Z"
    },
    "colab": {},
    "colab_type": "code",
    "id": "n5nAxMCivpgB",
    "outputId": "dee7a08d-74a9-4be8-8477-b7bebe4e1eaa"
   },
   "outputs": [
    {
     "data": {
      "text/html": [
       "<div>\n",
       "<style scoped>\n",
       "    .dataframe tbody tr th:only-of-type {\n",
       "        vertical-align: middle;\n",
       "    }\n",
       "\n",
       "    .dataframe tbody tr th {\n",
       "        vertical-align: top;\n",
       "    }\n",
       "\n",
       "    .dataframe thead th {\n",
       "        text-align: right;\n",
       "    }\n",
       "</style>\n",
       "<table border=\"1\" class=\"dataframe\">\n",
       "  <thead>\n",
       "    <tr style=\"text-align: right;\">\n",
       "      <th></th>\n",
       "      <th>total_death</th>\n",
       "    </tr>\n",
       "  </thead>\n",
       "  <tbody>\n",
       "    <tr>\n",
       "      <th>0</th>\n",
       "      <td>15759</td>\n",
       "    </tr>\n",
       "  </tbody>\n",
       "</table>\n",
       "</div>"
      ],
      "text/plain": [
       "   total_death\n",
       "0        15759"
      ]
     },
     "execution_count": 72,
     "metadata": {
      "tags": []
     },
     "output_type": "execute_result"
    }
   ],
   "source": [
    "pd.read_sql(\"SELECT COUNT(*) AS total_death FROM patient WHERE DOD IS NOT NULL\", conn)"
   ]
  },
  {
   "cell_type": "markdown",
   "metadata": {
    "ExecuteTime": {
     "end_time": "2019-05-01T02:33:25.300749Z",
     "start_time": "2019-05-01T02:33:25.296710Z"
    },
    "colab_type": "text",
    "id": "4qqBWNhbvpgG"
   },
   "source": [
    "#### Gender breakdown"
   ]
  },
  {
   "cell_type": "code",
   "execution_count": 0,
   "metadata": {
    "ExecuteTime": {
     "end_time": "2019-05-02T22:35:33.656858Z",
     "start_time": "2019-05-02T22:35:33.463861Z"
    },
    "colab": {},
    "colab_type": "code",
    "id": "kFU7cnPfvpgH",
    "outputId": "11cd1b79-56e5-4bef-83d3-a2a75f7d242d"
   },
   "outputs": [
    {
     "data": {
      "text/html": [
       "<div>\n",
       "<style scoped>\n",
       "    .dataframe tbody tr th:only-of-type {\n",
       "        vertical-align: middle;\n",
       "    }\n",
       "\n",
       "    .dataframe tbody tr th {\n",
       "        vertical-align: top;\n",
       "    }\n",
       "\n",
       "    .dataframe thead th {\n",
       "        text-align: right;\n",
       "    }\n",
       "</style>\n",
       "<table border=\"1\" class=\"dataframe\">\n",
       "  <thead>\n",
       "    <tr style=\"text-align: right;\">\n",
       "      <th></th>\n",
       "      <th>ROW_ID</th>\n",
       "      <th>SUBJECT_ID</th>\n",
       "      <th>GENDER</th>\n",
       "      <th>DOB</th>\n",
       "      <th>DOD</th>\n",
       "      <th>DOD_HOSP</th>\n",
       "      <th>DOD_SSN</th>\n",
       "      <th>EXPIRE_FLAG</th>\n",
       "    </tr>\n",
       "  </thead>\n",
       "  <tbody>\n",
       "    <tr>\n",
       "      <th>0</th>\n",
       "      <td>234</td>\n",
       "      <td>249</td>\n",
       "      <td>F</td>\n",
       "      <td>2075-03-13 00:00:00</td>\n",
       "      <td>None</td>\n",
       "      <td>None</td>\n",
       "      <td>None</td>\n",
       "      <td>0</td>\n",
       "    </tr>\n",
       "    <tr>\n",
       "      <th>1</th>\n",
       "      <td>235</td>\n",
       "      <td>250</td>\n",
       "      <td>F</td>\n",
       "      <td>2164-12-27 00:00:00</td>\n",
       "      <td>2188-11-22 00:00:00</td>\n",
       "      <td>2188-11-22 00:00:00</td>\n",
       "      <td>None</td>\n",
       "      <td>1</td>\n",
       "    </tr>\n",
       "  </tbody>\n",
       "</table>\n",
       "</div>"
      ],
      "text/plain": [
       "   ROW_ID  SUBJECT_ID GENDER                  DOB                  DOD  \\\n",
       "0     234         249      F  2075-03-13 00:00:00                 None   \n",
       "1     235         250      F  2164-12-27 00:00:00  2188-11-22 00:00:00   \n",
       "\n",
       "              DOD_HOSP DOD_SSN  EXPIRE_FLAG  \n",
       "0                 None    None            0  \n",
       "1  2188-11-22 00:00:00    None            1  "
      ]
     },
     "execution_count": 73,
     "metadata": {
      "tags": []
     },
     "output_type": "execute_result"
    }
   ],
   "source": [
    "df_pat = pd.read_sql(\"SELECT * FROM patient\",conn)\n",
    "df_pat.head(2)"
   ]
  },
  {
   "cell_type": "code",
   "execution_count": 0,
   "metadata": {
    "ExecuteTime": {
     "end_time": "2019-05-02T22:35:33.725895Z",
     "start_time": "2019-05-02T22:35:33.658857Z"
    },
    "colab": {},
    "colab_type": "code",
    "id": "O6X8cVOrvpgM",
    "outputId": "cebf0468-ef80-4359-8f49-c20cafd036ca"
   },
   "outputs": [
    {
     "data": {
      "text/html": [
       "<div>\n",
       "<style scoped>\n",
       "    .dataframe tbody tr th:only-of-type {\n",
       "        vertical-align: middle;\n",
       "    }\n",
       "\n",
       "    .dataframe tbody tr th {\n",
       "        vertical-align: top;\n",
       "    }\n",
       "\n",
       "    .dataframe thead th {\n",
       "        text-align: right;\n",
       "    }\n",
       "</style>\n",
       "<table border=\"1\" class=\"dataframe\">\n",
       "  <thead>\n",
       "    <tr style=\"text-align: right;\">\n",
       "      <th></th>\n",
       "      <th>GENDER</th>\n",
       "      <th>gender_count</th>\n",
       "    </tr>\n",
       "  </thead>\n",
       "  <tbody>\n",
       "    <tr>\n",
       "      <th>0</th>\n",
       "      <td>M</td>\n",
       "      <td>26121</td>\n",
       "    </tr>\n",
       "    <tr>\n",
       "      <th>1</th>\n",
       "      <td>F</td>\n",
       "      <td>20399</td>\n",
       "    </tr>\n",
       "  </tbody>\n",
       "</table>\n",
       "</div>"
      ],
      "text/plain": [
       "  GENDER  gender_count\n",
       "0      M         26121\n",
       "1      F         20399"
      ]
     },
     "execution_count": 74,
     "metadata": {
      "tags": []
     },
     "output_type": "execute_result"
    }
   ],
   "source": [
    "pd.read_sql(\"SELECT gender,COUNT(*) as gender_count FROM patient GROUP BY gender ORDER BY gender_count DESC \", conn)"
   ]
  },
  {
   "cell_type": "code",
   "execution_count": 0,
   "metadata": {
    "ExecuteTime": {
     "end_time": "2019-05-02T22:35:33.801279Z",
     "start_time": "2019-05-02T22:35:33.727855Z"
    },
    "colab": {},
    "colab_type": "code",
    "id": "YyqHs4D8vpgQ"
   },
   "outputs": [],
   "source": [
    "F_count = (df_pat['GENDER']=='F').sum()\n",
    "M_count = (df_pat['GENDER']=='M').sum()\n",
    "M_perc = M_count/df_pat['GENDER'].shape[0]\n",
    "F_perc = 1 - M_perc"
   ]
  },
  {
   "cell_type": "code",
   "execution_count": 0,
   "metadata": {
    "ExecuteTime": {
     "end_time": "2019-05-02T22:35:34.862665Z",
     "start_time": "2019-05-02T22:35:33.803264Z"
    },
    "colab": {},
    "colab_type": "code",
    "id": "RKBEvOOpvpgV",
    "outputId": "248a4f8b-3391-4bfc-bfbb-aac0cb88e928"
   },
   "outputs": [
    {
     "data": {
      "image/png": "[encoded data removed]",
      "text/plain": [
       "<Figure size 360x252 with 1 Axes>"
      ]
     },
     "metadata": {
      "needs_background": "light",
      "tags": []
     },
     "output_type": "display_data"
    }
   ],
   "source": [
    "plt.figure(figsize=(5,3.5))\n",
    "g=sns.countplot(df_pat['GENDER'],alpha=.8)\n",
    "plt.title('F: {}, {:.1%}       M: {}, {:.1%}'.format(F_count,F_perc,M_count,M_perc))\n",
    "plt.ylabel(\"Count\")\n",
    "plt.xlabel(\"Histogram of Admissions\")\n",
    "plt.savefig(\"image/f_m_ratio.svg\",bbox_inches='tight')"
   ]
  },
  {
   "cell_type": "markdown",
   "metadata": {
    "ExecuteTime": {
     "end_time": "2019-05-02T20:43:11.255721Z",
     "start_time": "2019-05-02T20:43:11.224524Z"
    },
    "colab_type": "text",
    "id": "Uwq-bA3Ovpgb"
   },
   "source": [
    "Of the 46520 patients that were admitted to the hospital, 43.8% are females and 56.2% are males."
   ]
  },
  {
   "cell_type": "code",
   "execution_count": 0,
   "metadata": {
    "ExecuteTime": {
     "end_time": "2019-05-02T22:35:34.878051Z",
     "start_time": "2019-05-02T22:35:34.865666Z"
    },
    "colab": {},
    "colab_type": "code",
    "id": "sqia7-JVvpgd"
   },
   "outputs": [],
   "source": [
    "df_pat['DOD']=df_pat['DOD'].fillna(0)"
   ]
  },
  {
   "cell_type": "code",
   "execution_count": 0,
   "metadata": {
    "ExecuteTime": {
     "end_time": "2019-05-02T22:35:34.918281Z",
     "start_time": "2019-05-02T22:35:34.880065Z"
    },
    "colab": {},
    "colab_type": "code",
    "id": "-FNmx-o3vpgh"
   },
   "outputs": [],
   "source": [
    "df_pat['DOD']=df_pat['DOD'].apply(lambda x: 0 if x==0 else 1)"
   ]
  },
  {
   "cell_type": "code",
   "execution_count": 0,
   "metadata": {
    "ExecuteTime": {
     "end_time": "2019-05-02T22:35:34.933275Z",
     "start_time": "2019-05-02T22:35:34.920272Z"
    },
    "colab": {},
    "colab_type": "code",
    "id": "xR85t_88vpgn",
    "outputId": "02c731af-c9b2-4eac-ed76-ca303dbe1645"
   },
   "outputs": [
    {
     "data": {
      "text/html": [
       "<div>\n",
       "<style scoped>\n",
       "    .dataframe tbody tr th:only-of-type {\n",
       "        vertical-align: middle;\n",
       "    }\n",
       "\n",
       "    .dataframe tbody tr th {\n",
       "        vertical-align: top;\n",
       "    }\n",
       "\n",
       "    .dataframe thead th {\n",
       "        text-align: right;\n",
       "    }\n",
       "</style>\n",
       "<table border=\"1\" class=\"dataframe\">\n",
       "  <thead>\n",
       "    <tr style=\"text-align: right;\">\n",
       "      <th></th>\n",
       "      <th>ROW_ID</th>\n",
       "      <th>SUBJECT_ID</th>\n",
       "      <th>GENDER</th>\n",
       "      <th>DOB</th>\n",
       "      <th>DOD</th>\n",
       "      <th>DOD_HOSP</th>\n",
       "      <th>DOD_SSN</th>\n",
       "      <th>EXPIRE_FLAG</th>\n",
       "    </tr>\n",
       "  </thead>\n",
       "  <tbody>\n",
       "    <tr>\n",
       "      <th>0</th>\n",
       "      <td>234</td>\n",
       "      <td>249</td>\n",
       "      <td>F</td>\n",
       "      <td>2075-03-13 00:00:00</td>\n",
       "      <td>0</td>\n",
       "      <td>None</td>\n",
       "      <td>None</td>\n",
       "      <td>0</td>\n",
       "    </tr>\n",
       "    <tr>\n",
       "      <th>1</th>\n",
       "      <td>235</td>\n",
       "      <td>250</td>\n",
       "      <td>F</td>\n",
       "      <td>2164-12-27 00:00:00</td>\n",
       "      <td>1</td>\n",
       "      <td>2188-11-22 00:00:00</td>\n",
       "      <td>None</td>\n",
       "      <td>1</td>\n",
       "    </tr>\n",
       "  </tbody>\n",
       "</table>\n",
       "</div>"
      ],
      "text/plain": [
       "   ROW_ID  SUBJECT_ID GENDER                  DOB  DOD             DOD_HOSP  \\\n",
       "0     234         249      F  2075-03-13 00:00:00    0                 None   \n",
       "1     235         250      F  2164-12-27 00:00:00    1  2188-11-22 00:00:00   \n",
       "\n",
       "  DOD_SSN  EXPIRE_FLAG  \n",
       "0    None            0  \n",
       "1    None            1  "
      ]
     },
     "execution_count": 79,
     "metadata": {
      "tags": []
     },
     "output_type": "execute_result"
    }
   ],
   "source": [
    "df_pat.head(2)"
   ]
  },
  {
   "cell_type": "code",
   "execution_count": 0,
   "metadata": {
    "ExecuteTime": {
     "end_time": "2019-05-02T22:35:36.226333Z",
     "start_time": "2019-05-02T22:35:34.936280Z"
    },
    "colab": {},
    "colab_type": "code",
    "id": "OQzBETGSvpgy"
   },
   "outputs": [],
   "source": [
    "df_pat.to_sql('df_pat', con=conn, if_exists='replace', index=False)"
   ]
  },
  {
   "cell_type": "code",
   "execution_count": 0,
   "metadata": {
    "ExecuteTime": {
     "end_time": "2019-05-02T22:35:36.265340Z",
     "start_time": "2019-05-02T22:35:36.228335Z"
    },
    "colab": {},
    "colab_type": "code",
    "id": "HmGIReMKvpg6"
   },
   "outputs": [],
   "source": [
    "homo_cnt=pd.read_sql(\"SELECT gender,COUNT(*) as gender_count ,dod FROM df_pat GROUP BY dod , gender ORDER BY gender_count DESC \", conn)"
   ]
  },
  {
   "cell_type": "code",
   "execution_count": 0,
   "metadata": {
    "ExecuteTime": {
     "end_time": "2019-05-02T22:35:36.278337Z",
     "start_time": "2019-05-02T22:35:36.269342Z"
    },
    "colab": {},
    "colab_type": "code",
    "id": "A2H8ouAWvphD",
    "outputId": "0ff52ca6-18ef-4d78-ad5d-bcb81de57ddc"
   },
   "outputs": [
    {
     "data": {
      "text/html": [
       "<div>\n",
       "<style scoped>\n",
       "    .dataframe tbody tr th:only-of-type {\n",
       "        vertical-align: middle;\n",
       "    }\n",
       "\n",
       "    .dataframe tbody tr th {\n",
       "        vertical-align: top;\n",
       "    }\n",
       "\n",
       "    .dataframe thead th {\n",
       "        text-align: right;\n",
       "    }\n",
       "</style>\n",
       "<table border=\"1\" class=\"dataframe\">\n",
       "  <thead>\n",
       "    <tr style=\"text-align: right;\">\n",
       "      <th></th>\n",
       "      <th>GENDER</th>\n",
       "      <th>gender_count</th>\n",
       "      <th>DOD</th>\n",
       "    </tr>\n",
       "  </thead>\n",
       "  <tbody>\n",
       "    <tr>\n",
       "      <th>0</th>\n",
       "      <td>M</td>\n",
       "      <td>17597</td>\n",
       "      <td>0</td>\n",
       "    </tr>\n",
       "    <tr>\n",
       "      <th>1</th>\n",
       "      <td>F</td>\n",
       "      <td>13164</td>\n",
       "      <td>0</td>\n",
       "    </tr>\n",
       "    <tr>\n",
       "      <th>2</th>\n",
       "      <td>M</td>\n",
       "      <td>8524</td>\n",
       "      <td>1</td>\n",
       "    </tr>\n",
       "    <tr>\n",
       "      <th>3</th>\n",
       "      <td>F</td>\n",
       "      <td>7235</td>\n",
       "      <td>1</td>\n",
       "    </tr>\n",
       "  </tbody>\n",
       "</table>\n",
       "</div>"
      ],
      "text/plain": [
       "  GENDER  gender_count  DOD\n",
       "0      M         17597    0\n",
       "1      F         13164    0\n",
       "2      M          8524    1\n",
       "3      F          7235    1"
      ]
     },
     "execution_count": 82,
     "metadata": {
      "tags": []
     },
     "output_type": "execute_result"
    }
   ],
   "source": [
    "homo_cnt.head()"
   ]
  },
  {
   "cell_type": "code",
   "execution_count": 0,
   "metadata": {
    "ExecuteTime": {
     "end_time": "2019-05-02T22:35:36.747792Z",
     "start_time": "2019-05-02T22:35:36.283337Z"
    },
    "colab": {},
    "colab_type": "code",
    "id": "dojwTOjxvphL",
    "outputId": "0ba817e5-3fb2-45f3-cf50-6f21748db5cf",
    "scrolled": true
   },
   "outputs": [
    {
     "data": {
      "image/png": "[encoded data removed]",
      "text/plain": [
       "<Figure size 347x360 with 1 Axes>"
      ]
     },
     "metadata": {
      "needs_background": "light",
      "tags": []
     },
     "output_type": "display_data"
    }
   ],
   "source": [
    "g = sns.catplot(x=\"DOD\", y=\"gender_count\",hue=\"GENDER\",kind=\"bar\", data=homo_cnt, saturation=.5,\\\n",
    "              ci=None, aspect=0.8,alpha=.8)\n",
    "(g.set_axis_labels(\"DOD\", \"Gender_count\")\\\n",
    "  .set_xticklabels([\"Survived\", \"Died\", \"Children\"])\\\n",
    "  .set_titles(\"{col_name} {col_var}\")\n",
    " .despine(left=True))\n",
    "plt.grid(linestyle='dotted')\n",
    "plt.title(\"General Review of Patients\")\n",
    "plt.savefig(\"image/death_ratio.svg\",bbox_inches='tight')"
   ]
  },
  {
   "cell_type": "markdown",
   "metadata": {
    "ExecuteTime": {
     "end_time": "2019-05-01T02:31:44.560835Z",
     "start_time": "2019-05-01T02:31:44.535831Z"
    },
    "colab_type": "text",
    "id": "lCidDNqmvphR"
   },
   "source": [
    "We divided the patients by gender and mortality status. Of 30761 patients who were survived,there were 17597 males and 13164 females. Of 15759 patients who were survived,there were 8524 males and 7235 females. "
   ]
  },
  {
   "cell_type": "markdown",
   "metadata": {
    "ExecuteTime": {
     "end_time": "2019-05-01T02:31:44.560835Z",
     "start_time": "2019-05-01T02:31:44.535831Z"
    },
    "colab_type": "text",
    "id": "6WaorzmPvphS"
   },
   "source": [
    "#### Death Analysis by Age"
   ]
  },
  {
   "cell_type": "code",
   "execution_count": 0,
   "metadata": {
    "ExecuteTime": {
     "end_time": "2019-05-02T22:35:36.818793Z",
     "start_time": "2019-05-02T22:35:36.752834Z"
    },
    "colab": {},
    "colab_type": "code",
    "id": "hV4SRXnjvphS"
   },
   "outputs": [],
   "source": [
    "df_death = pd.read_sql(\"SELECT * FROM patient WHERE DOD IS NOT NULL\",conn)"
   ]
  },
  {
   "cell_type": "code",
   "execution_count": 0,
   "metadata": {
    "ExecuteTime": {
     "end_time": "2019-05-02T22:35:37.641540Z",
     "start_time": "2019-05-02T22:35:36.821793Z"
    },
    "colab": {},
    "colab_type": "code",
    "id": "ehJe3SkAvphV"
   },
   "outputs": [],
   "source": [
    "df_death['DOD'] = pd.to_datetime(df_death['DOD'])\n",
    "df_death['DOB'] = pd.to_datetime(df_death['DOB'])\n",
    "df_death['Age'] = ((df_death['DOD'] - df_death['DOB']).dt.days)//360\n",
    "df_death =df_death[df_death['Age']>=0]"
   ]
  },
  {
   "cell_type": "code",
   "execution_count": 0,
   "metadata": {
    "ExecuteTime": {
     "end_time": "2019-05-02T22:35:39.007798Z",
     "start_time": "2019-05-02T22:35:37.641540Z"
    },
    "colab": {},
    "colab_type": "code",
    "id": "6Q1pC03OvphY"
   },
   "outputs": [],
   "source": [
    "df_death['DOD']=df_death['DOD'].fillna(0)\n",
    "df_death['DOD']=df_death['DOD'].apply(lambda x: 0 if x==0 else 1)"
   ]
  },
  {
   "cell_type": "code",
   "execution_count": 0,
   "metadata": {
    "ExecuteTime": {
     "end_time": "2019-05-02T22:35:39.084420Z",
     "start_time": "2019-05-02T22:35:39.007798Z"
    },
    "colab": {},
    "colab_type": "code",
    "id": "I9CKGNrcvphc",
    "outputId": "76274d69-3e98-4791-e7af-b66713931079"
   },
   "outputs": [
    {
     "data": {
      "text/html": [
       "<div>\n",
       "<style scoped>\n",
       "    .dataframe tbody tr th:only-of-type {\n",
       "        vertical-align: middle;\n",
       "    }\n",
       "\n",
       "    .dataframe tbody tr th {\n",
       "        vertical-align: top;\n",
       "    }\n",
       "\n",
       "    .dataframe thead th {\n",
       "        text-align: right;\n",
       "    }\n",
       "</style>\n",
       "<table border=\"1\" class=\"dataframe\">\n",
       "  <thead>\n",
       "    <tr style=\"text-align: right;\">\n",
       "      <th></th>\n",
       "      <th>ROW_ID</th>\n",
       "      <th>SUBJECT_ID</th>\n",
       "      <th>GENDER</th>\n",
       "      <th>DOB</th>\n",
       "      <th>DOD</th>\n",
       "      <th>DOD_HOSP</th>\n",
       "      <th>DOD_SSN</th>\n",
       "      <th>EXPIRE_FLAG</th>\n",
       "      <th>Age</th>\n",
       "    </tr>\n",
       "  </thead>\n",
       "  <tbody>\n",
       "    <tr>\n",
       "      <th>0</th>\n",
       "      <td>235</td>\n",
       "      <td>250</td>\n",
       "      <td>F</td>\n",
       "      <td>2164-12-27</td>\n",
       "      <td>1</td>\n",
       "      <td>2188-11-22 00:00:00</td>\n",
       "      <td>None</td>\n",
       "      <td>1</td>\n",
       "      <td>24</td>\n",
       "    </tr>\n",
       "    <tr>\n",
       "      <th>1</th>\n",
       "      <td>241</td>\n",
       "      <td>257</td>\n",
       "      <td>F</td>\n",
       "      <td>2031-04-03</td>\n",
       "      <td>1</td>\n",
       "      <td>2121-07-08 00:00:00</td>\n",
       "      <td>2121-07-08 00:00:00</td>\n",
       "      <td>1</td>\n",
       "      <td>91</td>\n",
       "    </tr>\n",
       "    <tr>\n",
       "      <th>2</th>\n",
       "      <td>244</td>\n",
       "      <td>261</td>\n",
       "      <td>M</td>\n",
       "      <td>2025-08-04</td>\n",
       "      <td>1</td>\n",
       "      <td>2102-06-29 00:00:00</td>\n",
       "      <td>2102-06-29 00:00:00</td>\n",
       "      <td>1</td>\n",
       "      <td>78</td>\n",
       "    </tr>\n",
       "    <tr>\n",
       "      <th>3</th>\n",
       "      <td>246</td>\n",
       "      <td>263</td>\n",
       "      <td>M</td>\n",
       "      <td>2104-06-18</td>\n",
       "      <td>1</td>\n",
       "      <td>2168-06-13 00:00:00</td>\n",
       "      <td>None</td>\n",
       "      <td>1</td>\n",
       "      <td>64</td>\n",
       "    </tr>\n",
       "    <tr>\n",
       "      <th>4</th>\n",
       "      <td>251</td>\n",
       "      <td>268</td>\n",
       "      <td>F</td>\n",
       "      <td>2132-02-21</td>\n",
       "      <td>1</td>\n",
       "      <td>2198-02-18 00:00:00</td>\n",
       "      <td>None</td>\n",
       "      <td>1</td>\n",
       "      <td>66</td>\n",
       "    </tr>\n",
       "  </tbody>\n",
       "</table>\n",
       "</div>"
      ],
      "text/plain": [
       "   ROW_ID  SUBJECT_ID GENDER        DOB  DOD             DOD_HOSP  \\\n",
       "0     235         250      F 2164-12-27    1  2188-11-22 00:00:00   \n",
       "1     241         257      F 2031-04-03    1  2121-07-08 00:00:00   \n",
       "2     244         261      M 2025-08-04    1  2102-06-29 00:00:00   \n",
       "3     246         263      M 2104-06-18    1  2168-06-13 00:00:00   \n",
       "4     251         268      F 2132-02-21    1  2198-02-18 00:00:00   \n",
       "\n",
       "               DOD_SSN  EXPIRE_FLAG  Age  \n",
       "0                 None            1   24  \n",
       "1  2121-07-08 00:00:00            1   91  \n",
       "2  2102-06-29 00:00:00            1   78  \n",
       "3                 None            1   64  \n",
       "4                 None            1   66  "
      ]
     },
     "execution_count": 87,
     "metadata": {
      "tags": []
     },
     "output_type": "execute_result"
    }
   ],
   "source": [
    "df_death.head()"
   ]
  },
  {
   "cell_type": "code",
   "execution_count": 0,
   "metadata": {
    "ExecuteTime": {
     "end_time": "2019-05-02T22:35:39.104377Z",
     "start_time": "2019-05-02T22:35:39.088375Z"
    },
    "colab": {},
    "colab_type": "code",
    "id": "jWX4IVddvphg"
   },
   "outputs": [],
   "source": [
    "f_death = df_death[df_death['GENDER']=='F'].shape[0]\n",
    "m_death = df_death[df_death['GENDER']=='M'].shape[0]"
   ]
  },
  {
   "cell_type": "code",
   "execution_count": 0,
   "metadata": {
    "ExecuteTime": {
     "end_time": "2019-05-02T22:35:39.684025Z",
     "start_time": "2019-05-02T22:35:39.110379Z"
    },
    "colab": {},
    "colab_type": "code",
    "id": "D7Ha4COavphj",
    "outputId": "ad6d9e58-9296-498b-9f82-9ba7f526e1f9"
   },
   "outputs": [
    {
     "data": {
      "image/png": "[encoded data removed]",
      "text/plain": [
       "<Figure size 360x252 with 1 Axes>"
      ]
     },
     "metadata": {
      "needs_background": "light",
      "tags": []
     },
     "output_type": "display_data"
    }
   ],
   "source": [
    "plt.figure(figsize=(5,3.5))\n",
    "plt.hist([df_death[df_death['GENDER']=='F'].Age,df_death[df_death['GENDER']=='M'].Age],alpha=.8,label=['F: %d'%f_death,'M: %d'%m_death])\n",
    "plt.legend(loc=2)\n",
    "plt.grid(linestyle='dotted')\n",
    "plt.xlabel(\"Age(/year)\")\n",
    "plt.ylabel(\"Death Counts\")\n",
    "plt.title(\" Age of Death by Gender\")\n",
    "plt.savefig(\"image/death_age.svg\",bbox_inches='tight')"
   ]
  },
  {
   "cell_type": "markdown",
   "metadata": {
    "ExecuteTime": {
     "end_time": "2019-05-01T02:31:44.560835Z",
     "start_time": "2019-05-01T02:31:44.535831Z"
    },
    "colab_type": "text",
    "id": "fd6tzb3nvpho"
   },
   "source": [
    "Here we divided the patients who were died by their age and gender. As we can see from the graph above, there are always fewer females died than males in each age range except for the 90-100 year old range. Most people died in between their 80s to 90s."
   ]
  },
  {
   "cell_type": "markdown",
   "metadata": {
    "ExecuteTime": {
     "end_time": "2019-05-01T02:31:44.560835Z",
     "start_time": "2019-05-01T02:31:44.535831Z"
    },
    "colab_type": "text",
    "id": "MY2A0WTnvpho"
   },
   "source": [
    "### <span style=\"color:blue\">ADMISSIONS</span>"
   ]
  },
  {
   "cell_type": "code",
   "execution_count": 0,
   "metadata": {
    "ExecuteTime": {
     "end_time": "2019-05-02T22:35:39.709025Z",
     "start_time": "2019-05-02T22:35:39.687024Z"
    },
    "colab": {},
    "colab_type": "code",
    "id": "Ax2gI4rDvphp",
    "outputId": "d502f9a5-1e23-40a5-c41f-8ede8a39b46e"
   },
   "outputs": [
    {
     "data": {
      "text/html": [
       "<div>\n",
       "<style scoped>\n",
       "    .dataframe tbody tr th:only-of-type {\n",
       "        vertical-align: middle;\n",
       "    }\n",
       "\n",
       "    .dataframe tbody tr th {\n",
       "        vertical-align: top;\n",
       "    }\n",
       "\n",
       "    .dataframe thead th {\n",
       "        text-align: right;\n",
       "    }\n",
       "</style>\n",
       "<table border=\"1\" class=\"dataframe\">\n",
       "  <thead>\n",
       "    <tr style=\"text-align: right;\">\n",
       "      <th></th>\n",
       "      <th>ROW_ID</th>\n",
       "      <th>SUBJECT_ID</th>\n",
       "      <th>HADM_ID</th>\n",
       "      <th>ADMITTIME</th>\n",
       "      <th>DISCHTIME</th>\n",
       "      <th>DEATHTIME</th>\n",
       "      <th>ADMISSION_TYPE</th>\n",
       "      <th>ADMISSION_LOCATION</th>\n",
       "      <th>DISCHARGE_LOCATION</th>\n",
       "      <th>INSURANCE</th>\n",
       "      <th>LANGUAGE</th>\n",
       "      <th>RELIGION</th>\n",
       "      <th>MARITAL_STATUS</th>\n",
       "      <th>ETHNICITY</th>\n",
       "      <th>EDREGTIME</th>\n",
       "      <th>EDOUTTIME</th>\n",
       "      <th>DIAGNOSIS</th>\n",
       "      <th>HOSPITAL_EXPIRE_FLAG</th>\n",
       "      <th>HAS_CHARTEVENTS_DATA</th>\n",
       "    </tr>\n",
       "  </thead>\n",
       "  <tbody>\n",
       "    <tr>\n",
       "      <th>0</th>\n",
       "      <td>21</td>\n",
       "      <td>22</td>\n",
       "      <td>165315</td>\n",
       "      <td>2196-04-09 12:26:00</td>\n",
       "      <td>2196-04-10 15:54:00</td>\n",
       "      <td>None</td>\n",
       "      <td>EMERGENCY</td>\n",
       "      <td>EMERGENCY ROOM ADMIT</td>\n",
       "      <td>DISC-TRAN CANCER/CHLDRN H</td>\n",
       "      <td>Private</td>\n",
       "      <td>None</td>\n",
       "      <td>UNOBTAINABLE</td>\n",
       "      <td>MARRIED</td>\n",
       "      <td>WHITE</td>\n",
       "      <td>2196-04-09 10:06:00</td>\n",
       "      <td>2196-04-09 13:24:00</td>\n",
       "      <td>BENZODIAZEPINE OVERDOSE</td>\n",
       "      <td>0</td>\n",
       "      <td>1</td>\n",
       "    </tr>\n",
       "    <tr>\n",
       "      <th>1</th>\n",
       "      <td>22</td>\n",
       "      <td>23</td>\n",
       "      <td>152223</td>\n",
       "      <td>2153-09-03 07:15:00</td>\n",
       "      <td>2153-09-08 19:10:00</td>\n",
       "      <td>None</td>\n",
       "      <td>ELECTIVE</td>\n",
       "      <td>PHYS REFERRAL/NORMAL DELI</td>\n",
       "      <td>HOME HEALTH CARE</td>\n",
       "      <td>Medicare</td>\n",
       "      <td>None</td>\n",
       "      <td>CATHOLIC</td>\n",
       "      <td>MARRIED</td>\n",
       "      <td>WHITE</td>\n",
       "      <td>None</td>\n",
       "      <td>None</td>\n",
       "      <td>CORONARY ARTERY DISEASE\\CORONARY ARTERY BYPASS...</td>\n",
       "      <td>0</td>\n",
       "      <td>1</td>\n",
       "    </tr>\n",
       "  </tbody>\n",
       "</table>\n",
       "</div>"
      ],
      "text/plain": [
       "   ROW_ID  SUBJECT_ID  HADM_ID            ADMITTIME            DISCHTIME  \\\n",
       "0      21          22   165315  2196-04-09 12:26:00  2196-04-10 15:54:00   \n",
       "1      22          23   152223  2153-09-03 07:15:00  2153-09-08 19:10:00   \n",
       "\n",
       "  DEATHTIME ADMISSION_TYPE         ADMISSION_LOCATION  \\\n",
       "0      None      EMERGENCY       EMERGENCY ROOM ADMIT   \n",
       "1      None       ELECTIVE  PHYS REFERRAL/NORMAL DELI   \n",
       "\n",
       "          DISCHARGE_LOCATION INSURANCE LANGUAGE      RELIGION MARITAL_STATUS  \\\n",
       "0  DISC-TRAN CANCER/CHLDRN H   Private     None  UNOBTAINABLE        MARRIED   \n",
       "1           HOME HEALTH CARE  Medicare     None      CATHOLIC        MARRIED   \n",
       "\n",
       "  ETHNICITY            EDREGTIME            EDOUTTIME  \\\n",
       "0     WHITE  2196-04-09 10:06:00  2196-04-09 13:24:00   \n",
       "1     WHITE                 None                 None   \n",
       "\n",
       "                                           DIAGNOSIS  HOSPITAL_EXPIRE_FLAG  \\\n",
       "0                            BENZODIAZEPINE OVERDOSE                     0   \n",
       "1  CORONARY ARTERY DISEASE\\CORONARY ARTERY BYPASS...                     0   \n",
       "\n",
       "   HAS_CHARTEVENTS_DATA  \n",
       "0                     1  \n",
       "1                     1  "
      ]
     },
     "execution_count": 90,
     "metadata": {
      "tags": []
     },
     "output_type": "execute_result"
    }
   ],
   "source": [
    "pd.read_sql(\"SELECT * FROM admission LIMIT 2\",conn)"
   ]
  },
  {
   "cell_type": "code",
   "execution_count": 0,
   "metadata": {
    "ExecuteTime": {
     "end_time": "2019-05-02T22:35:41.219077Z",
     "start_time": "2019-05-02T22:35:39.713026Z"
    },
    "colab": {},
    "colab_type": "code",
    "id": "J-C7T-Mmvpht"
   },
   "outputs": [],
   "source": [
    "df_ad = pd.read_sql(\"SELECT * FROM admission\",conn)"
   ]
  },
  {
   "cell_type": "markdown",
   "metadata": {
    "ExecuteTime": {
     "end_time": "2019-05-01T02:31:59.008311Z",
     "start_time": "2019-05-01T02:31:58.559807Z"
    },
    "colab_type": "text",
    "id": "YHv6lZ8ivphv"
   },
   "source": [
    "#### Unique Patients in Admissions"
   ]
  },
  {
   "cell_type": "code",
   "execution_count": 0,
   "metadata": {
    "ExecuteTime": {
     "end_time": "2019-05-02T22:35:41.314033Z",
     "start_time": "2019-05-02T22:35:41.223035Z"
    },
    "colab": {},
    "colab_type": "code",
    "id": "kWhafXnLvphw",
    "outputId": "53dad246-4615-454a-e424-af131a2bd993"
   },
   "outputs": [
    {
     "data": {
      "text/html": [
       "<div>\n",
       "<style scoped>\n",
       "    .dataframe tbody tr th:only-of-type {\n",
       "        vertical-align: middle;\n",
       "    }\n",
       "\n",
       "    .dataframe tbody tr th {\n",
       "        vertical-align: top;\n",
       "    }\n",
       "\n",
       "    .dataframe thead th {\n",
       "        text-align: right;\n",
       "    }\n",
       "</style>\n",
       "<table border=\"1\" class=\"dataframe\">\n",
       "  <thead>\n",
       "    <tr style=\"text-align: right;\">\n",
       "      <th></th>\n",
       "      <th>unique_patients</th>\n",
       "    </tr>\n",
       "  </thead>\n",
       "  <tbody>\n",
       "    <tr>\n",
       "      <th>0</th>\n",
       "      <td>46520</td>\n",
       "    </tr>\n",
       "  </tbody>\n",
       "</table>\n",
       "</div>"
      ],
      "text/plain": [
       "   unique_patients\n",
       "0            46520"
      ]
     },
     "execution_count": 92,
     "metadata": {
      "tags": []
     },
     "output_type": "execute_result"
    }
   ],
   "source": [
    "pd.read_sql(\"SELECT COUNT(DISTINCT subject_id) AS unique_patients FROM admission\",conn)"
   ]
  },
  {
   "cell_type": "markdown",
   "metadata": {
    "ExecuteTime": {
     "end_time": "2019-05-01T04:08:56.478236Z",
     "start_time": "2019-05-01T04:08:56.321246Z"
    },
    "colab_type": "text",
    "id": "9oqRYoOHvph2"
   },
   "source": [
    "#### Primary diagnoses (Diagnosis field) in order of their prevalence"
   ]
  },
  {
   "cell_type": "code",
   "execution_count": 0,
   "metadata": {
    "ExecuteTime": {
     "end_time": "2019-05-02T22:35:41.419067Z",
     "start_time": "2019-05-02T22:35:41.316031Z"
    },
    "colab": {},
    "colab_type": "code",
    "id": "dCoxG6cwvph2",
    "outputId": "3f5e2004-448a-4a34-849b-58b32869b8c9"
   },
   "outputs": [
    {
     "data": {
      "text/html": [
       "<div>\n",
       "<style scoped>\n",
       "    .dataframe tbody tr th:only-of-type {\n",
       "        vertical-align: middle;\n",
       "    }\n",
       "\n",
       "    .dataframe tbody tr th {\n",
       "        vertical-align: top;\n",
       "    }\n",
       "\n",
       "    .dataframe thead th {\n",
       "        text-align: right;\n",
       "    }\n",
       "</style>\n",
       "<table border=\"1\" class=\"dataframe\">\n",
       "  <thead>\n",
       "    <tr style=\"text-align: right;\">\n",
       "      <th></th>\n",
       "      <th>DIAGNOSIS</th>\n",
       "      <th>dia_count</th>\n",
       "    </tr>\n",
       "  </thead>\n",
       "  <tbody>\n",
       "    <tr>\n",
       "      <th>0</th>\n",
       "      <td>NEWBORN</td>\n",
       "      <td>7823</td>\n",
       "    </tr>\n",
       "    <tr>\n",
       "      <th>1</th>\n",
       "      <td>PNEUMONIA</td>\n",
       "      <td>1566</td>\n",
       "    </tr>\n",
       "    <tr>\n",
       "      <th>2</th>\n",
       "      <td>SEPSIS</td>\n",
       "      <td>1184</td>\n",
       "    </tr>\n",
       "  </tbody>\n",
       "</table>\n",
       "</div>"
      ],
      "text/plain": [
       "   DIAGNOSIS  dia_count\n",
       "0    NEWBORN       7823\n",
       "1  PNEUMONIA       1566\n",
       "2     SEPSIS       1184"
      ]
     },
     "execution_count": 93,
     "metadata": {
      "tags": []
     },
     "output_type": "execute_result"
    }
   ],
   "source": [
    "primary_diag = pd.read_sql(\"SELECT diagnosis,COUNT(*) as dia_count FROM admission GROUP BY diagnosis ORDER BY dia_count DESC\", conn)\n",
    "primary_diag.head(3)"
   ]
  },
  {
   "cell_type": "markdown",
   "metadata": {
    "ExecuteTime": {
     "end_time": "2019-05-01T04:10:17.996490Z",
     "start_time": "2019-05-01T04:10:17.952499Z"
    },
    "colab_type": "text",
    "id": "spMLo0kivph5"
   },
   "source": [
    "#### Primary diagosis for patients who died in their hospital stay"
   ]
  },
  {
   "cell_type": "code",
   "execution_count": 0,
   "metadata": {
    "ExecuteTime": {
     "end_time": "2019-05-02T22:35:41.460035Z",
     "start_time": "2019-05-02T22:35:41.421078Z"
    },
    "colab": {},
    "colab_type": "code",
    "id": "YDbkJbgNvph6",
    "outputId": "006e2490-5e99-463c-e4dc-21f3f530ab45"
   },
   "outputs": [
    {
     "data": {
      "text/html": [
       "<div>\n",
       "<style scoped>\n",
       "    .dataframe tbody tr th:only-of-type {\n",
       "        vertical-align: middle;\n",
       "    }\n",
       "\n",
       "    .dataframe tbody tr th {\n",
       "        vertical-align: top;\n",
       "    }\n",
       "\n",
       "    .dataframe thead th {\n",
       "        text-align: right;\n",
       "    }\n",
       "</style>\n",
       "<table border=\"1\" class=\"dataframe\">\n",
       "  <thead>\n",
       "    <tr style=\"text-align: right;\">\n",
       "      <th></th>\n",
       "      <th>DIAGNOSIS</th>\n",
       "      <th>diag_count</th>\n",
       "    </tr>\n",
       "  </thead>\n",
       "  <tbody>\n",
       "    <tr>\n",
       "      <th>0</th>\n",
       "      <td>SEPSIS</td>\n",
       "      <td>267</td>\n",
       "    </tr>\n",
       "    <tr>\n",
       "      <th>1</th>\n",
       "      <td>PNEUMONIA</td>\n",
       "      <td>264</td>\n",
       "    </tr>\n",
       "    <tr>\n",
       "      <th>2</th>\n",
       "      <td>INTRACRANIAL HEMORRHAGE</td>\n",
       "      <td>231</td>\n",
       "    </tr>\n",
       "    <tr>\n",
       "      <th>3</th>\n",
       "      <td>CONGESTIVE HEART FAILURE</td>\n",
       "      <td>126</td>\n",
       "    </tr>\n",
       "    <tr>\n",
       "      <th>4</th>\n",
       "      <td>ALTERED MENTAL STATUS</td>\n",
       "      <td>88</td>\n",
       "    </tr>\n",
       "  </tbody>\n",
       "</table>\n",
       "</div>"
      ],
      "text/plain": [
       "                  DIAGNOSIS  diag_count\n",
       "0                    SEPSIS         267\n",
       "1                 PNEUMONIA         264\n",
       "2   INTRACRANIAL HEMORRHAGE         231\n",
       "3  CONGESTIVE HEART FAILURE         126\n",
       "4     ALTERED MENTAL STATUS          88"
      ]
     },
     "execution_count": 94,
     "metadata": {
      "tags": []
     },
     "output_type": "execute_result"
    }
   ],
   "source": [
    "diag_count = pd.read_sql(\"SELECT diagnosis,COUNT(*) as diag_count FROM admission WHERE hospital_expire_flag =1 GROUP BY diagnosis ORDER BY diag_count DESC\", conn)\n",
    "diag_count.head()"
   ]
  },
  {
   "cell_type": "markdown",
   "metadata": {
    "ExecuteTime": {
     "end_time": "2019-05-02T21:45:09.601067Z",
     "start_time": "2019-05-02T21:45:09.596065Z"
    },
    "colab_type": "text",
    "id": "_SfhHwouvph-"
   },
   "source": [
    "Here we listed the five top diagnosis by their prevalence: Newborn, pneumonia, sepsis, congesitive heart failure, and coronary artery disease."
   ]
  },
  {
   "cell_type": "code",
   "execution_count": 0,
   "metadata": {
    "ExecuteTime": {
     "end_time": "2019-05-02T22:35:41.468036Z",
     "start_time": "2019-05-02T22:35:41.463037Z"
    },
    "colab": {},
    "colab_type": "code",
    "id": "8q9xE1Yyvph_"
   },
   "outputs": [],
   "source": [
    "colors=['#e6194b', '#3cb44b', '#ffe119', '#4363d8', '#f58231', '#911eb4', '#46f0f0', '#f032e6',\\\n",
    "            '#bcf60c', '#fabebe', '#008080', '#e6beff', '#9a6324', '#fffac8', '#800000', '#aaffc3', \\\n",
    "            '#808000', '#ffd8b1', '#000075', '#808080', '#6495ED', '#000000','#008000','#00FF00',\\\n",
    "            '#FFFF00','#000080','#00FFFF','#0000FF','#FF0000','#FF00FF','#800080','#C0C0C0','#F0FFFF']"
   ]
  },
  {
   "cell_type": "code",
   "execution_count": 0,
   "metadata": {
    "ExecuteTime": {
     "end_time": "2019-05-02T22:35:41.890493Z",
     "start_time": "2019-05-02T22:35:41.472032Z"
    },
    "colab": {},
    "colab_type": "code",
    "id": "LTeLjpfZvpiF",
    "outputId": "89f7dfa1-4ccf-4a5e-fdcc-ab77a46f3237"
   },
   "outputs": [
    {
     "data": {
      "image/png": "[encoded data removed]",
      "text/plain": [
       "<Figure size 432x288 with 1 Axes>"
      ]
     },
     "metadata": {
      "needs_background": "light",
      "tags": []
     },
     "output_type": "display_data"
    }
   ],
   "source": [
    "plt.barh(diag_count.DIAGNOSIS[:10], diag_count.diag_count[:10], align='center', alpha=0.8,color=colors[:10])\n",
    "plt.title(\"Bar Chart of Primary Diagnosis for Deaths\")\n",
    "plt.xlabel(\"Diagnosis Counts\")\n",
    "plt.grid(linestyle='dotted')\n",
    "plt.savefig(\"image/diagnosis_dist.svg\",bbox_inches='tight')"
   ]
  },
  {
   "cell_type": "markdown",
   "metadata": {
    "ExecuteTime": {
     "end_time": "2019-05-01T02:00:05.591996Z",
     "start_time": "2019-05-01T02:00:04.972966Z"
    },
    "colab_type": "text",
    "id": "WoaITDCDvpiK"
   },
   "source": [
    "Here we plotted the top 10 leading diagnosis of death by their counts. Sepsis is the # 1 cause of death."
   ]
  },
  {
   "cell_type": "markdown",
   "metadata": {
    "ExecuteTime": {
     "end_time": "2019-05-01T02:00:05.591996Z",
     "start_time": "2019-05-01T02:00:04.972966Z"
    },
    "colab_type": "text",
    "id": "0LwaUoqXvpiL"
   },
   "source": [
    "#### Analysis of admission type"
   ]
  },
  {
   "cell_type": "code",
   "execution_count": 0,
   "metadata": {
    "ExecuteTime": {
     "end_time": "2019-05-02T22:35:42.026490Z",
     "start_time": "2019-05-02T22:35:41.892457Z"
    },
    "colab": {},
    "colab_type": "code",
    "id": "3myAE0lyvpiM"
   },
   "outputs": [],
   "source": [
    "df_ad['DISCHTIME'] = pd.to_datetime(df_ad['DISCHTIME'])\n",
    "df_ad['ADMITTIME'] = pd.to_datetime(df_ad['ADMITTIME'])\n",
    "df_ad['len_stay'] = (df_ad['DISCHTIME'] - df_ad['ADMITTIME']).dt.days"
   ]
  },
  {
   "cell_type": "code",
   "execution_count": 0,
   "metadata": {
    "ExecuteTime": {
     "end_time": "2019-05-02T22:35:42.143455Z",
     "start_time": "2019-05-02T22:35:42.029494Z"
    },
    "colab": {},
    "colab_type": "code",
    "id": "SD_vw8JYvpiP",
    "outputId": "28c9a14a-575e-497b-e098-bf7c07c7f7be"
   },
   "outputs": [
    {
     "data": {
      "text/plain": [
       "EMERGENCY    42071\n",
       "NEWBORN       7863\n",
       "ELECTIVE      7706\n",
       "URGENT        1336\n",
       "Name: ADMISSION_TYPE, dtype: int64"
      ]
     },
     "execution_count": 98,
     "metadata": {
      "tags": []
     },
     "output_type": "execute_result"
    }
   ],
   "source": [
    "df_ad['ADMISSION_TYPE'].value_counts()"
   ]
  },
  {
   "cell_type": "code",
   "execution_count": 0,
   "metadata": {
    "ExecuteTime": {
     "end_time": "2019-05-02T22:35:43.569798Z",
     "start_time": "2019-05-02T22:35:42.149457Z"
    },
    "colab": {},
    "colab_type": "code",
    "id": "Y3gxecJjvpiS",
    "outputId": "4cddd63a-5754-46c5-eb41-c3c792226a8c"
   },
   "outputs": [
    {
     "data": {
      "text/plain": [
       "<Figure size 360x252 with 0 Axes>"
      ]
     },
     "metadata": {
      "tags": []
     },
     "output_type": "display_data"
    },
    {
     "data": {
      "image/png": "[encoded data removed]",
      "text/plain": [
       "<Figure size 432x288 with 1 Axes>"
      ]
     },
     "metadata": {
      "needs_background": "light",
      "tags": []
     },
     "output_type": "display_data"
    }
   ],
   "source": [
    "plt.figure(figsize=(5,3.5))\n",
    "df_ad.boxplot(column=['len_stay'], by='ADMISSION_TYPE')\n",
    "plt.suptitle(\"\")\n",
    "plt.title('Boxplot of Length of Stay grouped by Admission Type')\n",
    "plt.savefig('image/box_adm.svg',bbox_inches='tight')\n",
    "plt.show()"
   ]
  },
  {
   "cell_type": "markdown",
   "metadata": {
    "ExecuteTime": {
     "end_time": "2019-05-01T15:56:30.724264Z",
     "start_time": "2019-05-01T15:56:22.347426Z"
    },
    "colab_type": "text",
    "id": "NSOIVdP2vpiV"
   },
   "source": [
    "Most patients were admitted to the hospital in the emergency category (42071 out of 46520). The length of stay of each patient is also shown in the above boxplot. \"Urgent\" has the least but the most sparse average length of stay, and \"Emergency\" has the longest length of stay."
   ]
  },
  {
   "cell_type": "markdown",
   "metadata": {
    "ExecuteTime": {
     "end_time": "2019-05-01T15:56:30.724264Z",
     "start_time": "2019-05-01T15:56:22.347426Z"
    },
    "colab_type": "text",
    "id": "nyc8TZV9vpiV"
   },
   "source": [
    "#### Length of Stay & Count of Diagnosis Codes Analysis"
   ]
  },
  {
   "cell_type": "code",
   "execution_count": 0,
   "metadata": {
    "ExecuteTime": {
     "end_time": "2019-05-02T22:35:47.241867Z",
     "start_time": "2019-05-02T22:35:43.573171Z"
    },
    "colab": {},
    "colab_type": "code",
    "id": "v3jU4cFhvpiX",
    "outputId": "5e60828b-83ea-48e9-897e-6597e59660ed"
   },
   "outputs": [
    {
     "data": {
      "text/plain": [
       "(58976, 2)"
      ]
     },
     "execution_count": 100,
     "metadata": {
      "tags": []
     },
     "output_type": "execute_result"
    }
   ],
   "source": [
    "df_ad_code = pd.read_sql(\"SELECT admission.hadm_id, COUNT(icd9_code) AS Count_code FROM admission LEFT JOIN diagnosis on\\\n",
    "            admission.hadm_id = diagnosis.hadm_id GROUP BY admission.hadm_id \",conn)\n",
    "df_ad_code.shape"
   ]
  },
  {
   "cell_type": "code",
   "execution_count": 0,
   "metadata": {
    "ExecuteTime": {
     "end_time": "2019-05-02T22:35:47.386042Z",
     "start_time": "2019-05-02T22:35:47.243871Z"
    },
    "colab": {},
    "colab_type": "code",
    "id": "0XKIflqgvpib",
    "outputId": "3d3cf2b0-6f54-4735-bba0-eac475ff7ea7"
   },
   "outputs": [
    {
     "data": {
      "text/html": [
       "<div>\n",
       "<style scoped>\n",
       "    .dataframe tbody tr th:only-of-type {\n",
       "        vertical-align: middle;\n",
       "    }\n",
       "\n",
       "    .dataframe tbody tr th {\n",
       "        vertical-align: top;\n",
       "    }\n",
       "\n",
       "    .dataframe thead th {\n",
       "        text-align: right;\n",
       "    }\n",
       "</style>\n",
       "<table border=\"1\" class=\"dataframe\">\n",
       "  <thead>\n",
       "    <tr style=\"text-align: right;\">\n",
       "      <th></th>\n",
       "      <th>HADM_ID</th>\n",
       "      <th>len_stay</th>\n",
       "      <th>HOSPITAL_EXPIRE_FLAG</th>\n",
       "      <th>Count_code</th>\n",
       "    </tr>\n",
       "  </thead>\n",
       "  <tbody>\n",
       "    <tr>\n",
       "      <th>0</th>\n",
       "      <td>165315</td>\n",
       "      <td>1</td>\n",
       "      <td>0</td>\n",
       "      <td>7</td>\n",
       "    </tr>\n",
       "    <tr>\n",
       "      <th>1</th>\n",
       "      <td>152223</td>\n",
       "      <td>5</td>\n",
       "      <td>0</td>\n",
       "      <td>8</td>\n",
       "    </tr>\n",
       "    <tr>\n",
       "      <th>2</th>\n",
       "      <td>124321</td>\n",
       "      <td>6</td>\n",
       "      <td>0</td>\n",
       "      <td>10</td>\n",
       "    </tr>\n",
       "    <tr>\n",
       "      <th>3</th>\n",
       "      <td>161859</td>\n",
       "      <td>2</td>\n",
       "      <td>0</td>\n",
       "      <td>4</td>\n",
       "    </tr>\n",
       "    <tr>\n",
       "      <th>4</th>\n",
       "      <td>129635</td>\n",
       "      <td>3</td>\n",
       "      <td>0</td>\n",
       "      <td>4</td>\n",
       "    </tr>\n",
       "  </tbody>\n",
       "</table>\n",
       "</div>"
      ],
      "text/plain": [
       "   HADM_ID  len_stay  HOSPITAL_EXPIRE_FLAG  Count_code\n",
       "0   165315         1                     0           7\n",
       "1   152223         5                     0           8\n",
       "2   124321         6                     0          10\n",
       "3   161859         2                     0           4\n",
       "4   129635         3                     0           4"
      ]
     },
     "execution_count": 101,
     "metadata": {
      "tags": []
     },
     "output_type": "execute_result"
    }
   ],
   "source": [
    "df_adm = pd.merge(df_ad[['HADM_ID','len_stay','HOSPITAL_EXPIRE_FLAG']],df_ad_code[['HADM_ID','Count_code']],on='HADM_ID')\n",
    "df_adm.head()"
   ]
  },
  {
   "cell_type": "code",
   "execution_count": 0,
   "metadata": {
    "ExecuteTime": {
     "end_time": "2019-05-02T22:35:58.243564Z",
     "start_time": "2019-05-02T22:35:47.388040Z"
    },
    "colab": {},
    "colab_type": "code",
    "id": "5NQqpGhDvpif",
    "outputId": "c8441796-8c4a-4a44-c8bf-5ea6fbf9c95a"
   },
   "outputs": [
    {
     "data": {
      "image/png": "[encoded data removed]",
      "text/plain": [
       "<Figure size 360x252 with 1 Axes>"
      ]
     },
     "metadata": {
      "needs_background": "light",
      "tags": []
     },
     "output_type": "display_data"
    }
   ],
   "source": [
    "plt.figure(figsize=(5,3.5))\n",
    "ax = plt.subplot()\n",
    "plt.scatter(df_adm[df_adm['HOSPITAL_EXPIRE_FLAG']==0]['Count_code'], df_adm[df_adm['HOSPITAL_EXPIRE_FLAG']==0]['len_stay'],label= ' Survived',c='darkblue')  \n",
    "plt.scatter(df_adm[df_adm['HOSPITAL_EXPIRE_FLAG']==1]['Count_code'], df_adm[df_adm['HOSPITAL_EXPIRE_FLAG']==1]['len_stay'],label= ' Died',c='darkorange')  \n",
    "box = ax.get_position()\n",
    "ax.legend(loc=1)\n",
    "plt.xlabel('Count of code for an encounter')\n",
    "plt.ylabel('Length of Stay')\n",
    "plt.title('Count of Codes and Length of Stay Plot')\n",
    "plt.savefig('image/code_cnt_stay.svg',bbox_inches='tight')\n",
    "plt.show()"
   ]
  },
  {
   "cell_type": "markdown",
   "metadata": {
    "ExecuteTime": {
     "end_time": "2019-05-02T20:44:27.099377Z",
     "start_time": "2019-05-02T20:44:27.062636Z"
    },
    "colab_type": "text",
    "id": "hdHpYkw-vpil"
   },
   "source": [
    "There were 58976 distinct encounters in the database. We plotted the length of stay vs. count of code for an encounter by the mortality status. If an encounter has fewer code (below 20, meaning that it is probably less serious), the patient has a higher probability to survive. In average, people who survived has a longer length of stay than people who died, and this is reasonable since people who died had more serious problems. "
   ]
  },
  {
   "cell_type": "code",
   "execution_count": 0,
   "metadata": {
    "ExecuteTime": {
     "end_time": "2019-05-02T22:35:58.260874Z",
     "start_time": "2019-05-02T22:35:58.248874Z"
    },
    "colab": {},
    "colab_type": "code",
    "id": "lpG6of5Kvpil"
   },
   "outputs": [],
   "source": [
    "survived_code = df_adm[df_adm['HOSPITAL_EXPIRE_FLAG']==0]['Count_code']\n",
    "died_code = df_adm[df_adm['HOSPITAL_EXPIRE_FLAG']==1]['Count_code']"
   ]
  },
  {
   "cell_type": "code",
   "execution_count": 0,
   "metadata": {
    "ExecuteTime": {
     "end_time": "2019-05-02T22:36:23.145624Z",
     "start_time": "2019-05-02T22:35:58.265876Z"
    },
    "colab": {},
    "colab_type": "code",
    "id": "-WNOTyO2vpip",
    "outputId": "ec7dd737-84c9-44b5-ec1c-0108629c092b"
   },
   "outputs": [
    {
     "name": "stderr",
     "output_type": "stream",
     "text": [
      "D:\\Software\\Anaconda3\\lib\\site-packages\\scipy\\stats\\stats.py:1713: FutureWarning: Using a non-tuple sequence for multidimensional indexing is deprecated; use `arr[tuple(seq)]` instead of `arr[seq]`. In the future this will be interpreted as an array index, `arr[np.array(seq)]`, which will result either in an error or a different result.\n",
      "  return np.add.reduce(sorted[indexer] * weights, axis=axis) / sumval\n"
     ]
    },
    {
     "data": {
      "image/png": "[encoded data removed]",
      "text/plain": [
       "<Figure size 360x252 with 1 Axes>"
      ]
     },
     "metadata": {
      "needs_background": "light",
      "tags": []
     },
     "output_type": "display_data"
    }
   ],
   "source": [
    "plt.figure(figsize=(5,3.5))\n",
    "sns.distplot(survived_code,rug=True,hist=False,label='Survived',color='darkblue')\n",
    "sns.distplot(died_code,rug=True,hist=False,label='Died',color='darkorange')\n",
    "plt.axvline(np.mean(survived_code), linestyle=':',c = 'darkblue', linewidth=2,label = 'Survied_mean: %d' % np.mean(survived_code))\n",
    "plt.axvline(np.mean(died_code), linestyle=':',c = 'darkorange', linewidth=2,label = 'Died_mean: %d' % np.mean(died_code))\n",
    "plt.legend(loc=1)\n",
    "plt.title('Kernel Density Plot of Survived vs Died')\n",
    "plt.savefig('image/kde_code.svg',bbox_inches='tight')\n",
    "plt.show()"
   ]
  },
  {
   "cell_type": "markdown",
   "metadata": {
    "ExecuteTime": {
     "end_time": "2019-05-01T05:43:41.670141Z",
     "start_time": "2019-05-01T05:43:41.343107Z"
    },
    "colab_type": "text",
    "id": "vfsa3zZxvpit"
   },
   "source": [
    "Here we plotted the kernel density of patients divided by their count of code and the mortality status. Kernel density estimation (KDE) is a way to estimate the probability density function of a random variable, and is used here to better visualize the previous plot. Again, people died often carried more code than people who survived. "
   ]
  },
  {
   "cell_type": "markdown",
   "metadata": {
    "ExecuteTime": {
     "end_time": "2019-05-01T05:43:41.670141Z",
     "start_time": "2019-05-01T05:43:41.343107Z"
    },
    "colab_type": "text",
    "id": "AQAJy5Fxvpiu"
   },
   "source": [
    "### <span style=\"color:blue\">ICUSTAYS</span>"
   ]
  },
  {
   "cell_type": "markdown",
   "metadata": {
    "ExecuteTime": {
     "end_time": "2019-05-02T02:49:52.798461Z",
     "start_time": "2019-05-02T02:49:52.469583Z"
    },
    "colab_type": "text",
    "id": "g8PVGBqCvpiu"
   },
   "source": [
    "#### ICU_Stay Length Analysis"
   ]
  },
  {
   "cell_type": "code",
   "execution_count": 0,
   "metadata": {
    "ExecuteTime": {
     "end_time": "2019-05-02T22:36:24.780935Z",
     "start_time": "2019-05-02T22:36:23.147626Z"
    },
    "colab": {},
    "colab_type": "code",
    "id": "w_sC6Pozvpiv",
    "outputId": "92aeaae1-762e-4aae-8a02-f2373fff8456"
   },
   "outputs": [
    {
     "data": {
      "text/html": [
       "<div>\n",
       "<style scoped>\n",
       "    .dataframe tbody tr th:only-of-type {\n",
       "        vertical-align: middle;\n",
       "    }\n",
       "\n",
       "    .dataframe tbody tr th {\n",
       "        vertical-align: top;\n",
       "    }\n",
       "\n",
       "    .dataframe thead th {\n",
       "        text-align: right;\n",
       "    }\n",
       "</style>\n",
       "<table border=\"1\" class=\"dataframe\">\n",
       "  <thead>\n",
       "    <tr style=\"text-align: right;\">\n",
       "      <th></th>\n",
       "      <th>ROW_ID</th>\n",
       "      <th>SUBJECT_ID</th>\n",
       "      <th>HADM_ID</th>\n",
       "      <th>ICUSTAY_ID</th>\n",
       "      <th>DBSOURCE</th>\n",
       "      <th>FIRST_CAREUNIT</th>\n",
       "      <th>LAST_CAREUNIT</th>\n",
       "      <th>FIRST_WARDID</th>\n",
       "      <th>LAST_WARDID</th>\n",
       "      <th>INTIME</th>\n",
       "      <th>OUTTIME</th>\n",
       "      <th>LOS</th>\n",
       "    </tr>\n",
       "  </thead>\n",
       "  <tbody>\n",
       "    <tr>\n",
       "      <th>0</th>\n",
       "      <td>365</td>\n",
       "      <td>268</td>\n",
       "      <td>110404</td>\n",
       "      <td>280836</td>\n",
       "      <td>carevue</td>\n",
       "      <td>MICU</td>\n",
       "      <td>MICU</td>\n",
       "      <td>52</td>\n",
       "      <td>52</td>\n",
       "      <td>2198-02-14 23:27:38</td>\n",
       "      <td>2198-02-18 05:26:11</td>\n",
       "      <td>3.2490</td>\n",
       "    </tr>\n",
       "    <tr>\n",
       "      <th>1</th>\n",
       "      <td>366</td>\n",
       "      <td>269</td>\n",
       "      <td>106296</td>\n",
       "      <td>206613</td>\n",
       "      <td>carevue</td>\n",
       "      <td>MICU</td>\n",
       "      <td>MICU</td>\n",
       "      <td>52</td>\n",
       "      <td>52</td>\n",
       "      <td>2170-11-05 11:05:29</td>\n",
       "      <td>2170-11-08 17:46:57</td>\n",
       "      <td>3.2788</td>\n",
       "    </tr>\n",
       "    <tr>\n",
       "      <th>2</th>\n",
       "      <td>367</td>\n",
       "      <td>270</td>\n",
       "      <td>188028</td>\n",
       "      <td>220345</td>\n",
       "      <td>carevue</td>\n",
       "      <td>CCU</td>\n",
       "      <td>CCU</td>\n",
       "      <td>57</td>\n",
       "      <td>57</td>\n",
       "      <td>2128-06-24 15:05:20</td>\n",
       "      <td>2128-06-27 12:32:29</td>\n",
       "      <td>2.8939</td>\n",
       "    </tr>\n",
       "  </tbody>\n",
       "</table>\n",
       "</div>"
      ],
      "text/plain": [
       "   ROW_ID  SUBJECT_ID  HADM_ID  ICUSTAY_ID DBSOURCE FIRST_CAREUNIT  \\\n",
       "0     365         268   110404      280836  carevue           MICU   \n",
       "1     366         269   106296      206613  carevue           MICU   \n",
       "2     367         270   188028      220345  carevue            CCU   \n",
       "\n",
       "  LAST_CAREUNIT  FIRST_WARDID  LAST_WARDID               INTIME  \\\n",
       "0          MICU            52           52  2198-02-14 23:27:38   \n",
       "1          MICU            52           52  2170-11-05 11:05:29   \n",
       "2           CCU            57           57  2128-06-24 15:05:20   \n",
       "\n",
       "               OUTTIME     LOS  \n",
       "0  2198-02-18 05:26:11  3.2490  \n",
       "1  2170-11-08 17:46:57  3.2788  \n",
       "2  2128-06-27 12:32:29  2.8939  "
      ]
     },
     "execution_count": 105,
     "metadata": {
      "tags": []
     },
     "output_type": "execute_result"
    }
   ],
   "source": [
    "df_icu = pd.read_sql(\"SELECT * FROM icustay\",conn)\n",
    "df_icu.head(3)"
   ]
  },
  {
   "cell_type": "code",
   "execution_count": 0,
   "metadata": {
    "ExecuteTime": {
     "end_time": "2019-05-02T22:36:24.911934Z",
     "start_time": "2019-05-02T22:36:24.790963Z"
    },
    "colab": {},
    "colab_type": "code",
    "id": "tqJM2QvAvpix"
   },
   "outputs": [],
   "source": [
    "df_icu['INTIME'] = pd.to_datetime(df_icu['INTIME'])\n",
    "df_icu['OUTTIME'] = pd.to_datetime(df_icu['OUTTIME'])\n",
    "df_icu['icu_stay'] = (df_icu['OUTTIME'] - df_icu['INTIME']).dt.days"
   ]
  },
  {
   "cell_type": "code",
   "execution_count": 0,
   "metadata": {
    "ExecuteTime": {
     "end_time": "2019-05-02T22:36:25.032933Z",
     "start_time": "2019-05-02T22:36:24.915936Z"
    },
    "colab": {},
    "colab_type": "code",
    "id": "awBJcpTZvpi2",
    "outputId": "48105ca2-c75f-4650-df61-bf0a38a11a1f"
   },
   "outputs": [
    {
     "data": {
      "text/html": [
       "<div>\n",
       "<style scoped>\n",
       "    .dataframe tbody tr th:only-of-type {\n",
       "        vertical-align: middle;\n",
       "    }\n",
       "\n",
       "    .dataframe tbody tr th {\n",
       "        vertical-align: top;\n",
       "    }\n",
       "\n",
       "    .dataframe thead th {\n",
       "        text-align: right;\n",
       "    }\n",
       "</style>\n",
       "<table border=\"1\" class=\"dataframe\">\n",
       "  <thead>\n",
       "    <tr style=\"text-align: right;\">\n",
       "      <th></th>\n",
       "      <th>HADM_ID</th>\n",
       "      <th>len_stay</th>\n",
       "      <th>HOSPITAL_EXPIRE_FLAG</th>\n",
       "      <th>Count_code</th>\n",
       "      <th>icu_stay</th>\n",
       "      <th>ICUSTAY_ID</th>\n",
       "    </tr>\n",
       "  </thead>\n",
       "  <tbody>\n",
       "    <tr>\n",
       "      <th>0</th>\n",
       "      <td>165315</td>\n",
       "      <td>1</td>\n",
       "      <td>0</td>\n",
       "      <td>7</td>\n",
       "      <td>1.0</td>\n",
       "      <td>204798.0</td>\n",
       "    </tr>\n",
       "    <tr>\n",
       "      <th>1</th>\n",
       "      <td>152223</td>\n",
       "      <td>5</td>\n",
       "      <td>0</td>\n",
       "      <td>8</td>\n",
       "      <td>1.0</td>\n",
       "      <td>227807.0</td>\n",
       "    </tr>\n",
       "    <tr>\n",
       "      <th>2</th>\n",
       "      <td>124321</td>\n",
       "      <td>6</td>\n",
       "      <td>0</td>\n",
       "      <td>10</td>\n",
       "      <td>1.0</td>\n",
       "      <td>234044.0</td>\n",
       "    </tr>\n",
       "  </tbody>\n",
       "</table>\n",
       "</div>"
      ],
      "text/plain": [
       "   HADM_ID  len_stay  HOSPITAL_EXPIRE_FLAG  Count_code  icu_stay  ICUSTAY_ID\n",
       "0   165315         1                     0           7       1.0    204798.0\n",
       "1   152223         5                     0           8       1.0    227807.0\n",
       "2   124321         6                     0          10       1.0    234044.0"
      ]
     },
     "execution_count": 107,
     "metadata": {
      "tags": []
     },
     "output_type": "execute_result"
    }
   ],
   "source": [
    "icu_adm = pd.merge(df_adm,df_icu[['HADM_ID','icu_stay','ICUSTAY_ID']] , how = 'left', on = 'HADM_ID')\n",
    "icu_adm.head(3)"
   ]
  },
  {
   "cell_type": "code",
   "execution_count": 0,
   "metadata": {
    "ExecuteTime": {
     "end_time": "2019-05-02T22:36:25.062937Z",
     "start_time": "2019-05-02T22:36:25.036938Z"
    },
    "colab": {},
    "colab_type": "code",
    "id": "DDIIGREavpi6"
   },
   "outputs": [],
   "source": [
    "icu_adm = icu_adm.dropna(subset=['icu_stay'])"
   ]
  },
  {
   "cell_type": "code",
   "execution_count": 0,
   "metadata": {
    "ExecuteTime": {
     "end_time": "2019-05-02T22:36:25.083938Z",
     "start_time": "2019-05-02T22:36:25.069937Z"
    },
    "colab": {},
    "colab_type": "code",
    "id": "2VAGabiVvpi8",
    "outputId": "82b3f737-d3fc-46c9-d7a4-afe2581502a6"
   },
   "outputs": [
    {
     "data": {
      "text/plain": [
       "0"
      ]
     },
     "execution_count": 109,
     "metadata": {
      "tags": []
     },
     "output_type": "execute_result"
    }
   ],
   "source": [
    "icu_adm.icu_stay.isnull().sum()"
   ]
  },
  {
   "cell_type": "code",
   "execution_count": 0,
   "metadata": {
    "ExecuteTime": {
     "end_time": "2019-05-02T22:36:25.106937Z",
     "start_time": "2019-05-02T22:36:25.089937Z"
    },
    "colab": {},
    "colab_type": "code",
    "id": "HCo_Op0cvpi_"
   },
   "outputs": [],
   "source": [
    "icu_adm_tr= icu_adm[icu_adm['icu_stay']<=50]"
   ]
  },
  {
   "cell_type": "code",
   "execution_count": 0,
   "metadata": {
    "ExecuteTime": {
     "end_time": "2019-05-02T22:36:25.122940Z",
     "start_time": "2019-05-02T22:36:25.111938Z"
    },
    "colab": {},
    "colab_type": "code",
    "id": "CLgknIPmvpjM",
    "outputId": "aa19f0e9-41eb-4b87-c813-9345636bf826"
   },
   "outputs": [
    {
     "data": {
      "text/plain": [
       "(60979, 6)"
      ]
     },
     "execution_count": 111,
     "metadata": {
      "tags": []
     },
     "output_type": "execute_result"
    }
   ],
   "source": [
    "icu_adm_tr.shape"
   ]
  },
  {
   "cell_type": "code",
   "execution_count": 0,
   "metadata": {
    "ExecuteTime": {
     "end_time": "2019-05-02T22:36:25.710124Z",
     "start_time": "2019-05-02T22:36:25.127937Z"
    },
    "colab": {},
    "colab_type": "code",
    "id": "GnhyEmbEvpjQ",
    "outputId": "572128e9-95d4-44b3-a95f-72b009f12f68"
   },
   "outputs": [
    {
     "data": {
      "image/png": "[encoded data removed]",
      "text/plain": [
       "<Figure size 360x252 with 1 Axes>"
      ]
     },
     "metadata": {
      "needs_background": "light",
      "tags": []
     },
     "output_type": "display_data"
    }
   ],
   "source": [
    "icu_s = icu_adm_tr[icu_adm_tr['HOSPITAL_EXPIRE_FLAG']==0]['icu_stay']\n",
    "icu_d = icu_adm_tr[icu_adm_tr['HOSPITAL_EXPIRE_FLAG']==1]['icu_stay']\n",
    "plt.figure(figsize=(5,3.5))\n",
    "plt.hist([icu_s,icu_d],alpha=.8,label=['Survived: %d'%icu_s.shape[0],'Died: %d'%icu_d.shape[0]])\n",
    "plt.legend(loc=1)\n",
    "plt.grid(linestyle='dotted')\n",
    "plt.xlabel(\"ICU_Stays(/day)\")\n",
    "plt.ylabel(\"Encounter Counts\")\n",
    "plt.title(\" Survivor vs Death by ICU_Stays\")\n",
    "plt.savefig(\"image/icu_sd.svg\",bbox_inches='tight')"
   ]
  },
  {
   "cell_type": "markdown",
   "metadata": {
    "colab_type": "text",
    "id": "Avdig-C2vpjT"
   },
   "source": [
    "There were 60979 total ICU stays which are not null values, and the number is bigger than admission encounter counts since one encounter may have more ICU counts (in and out ICU multiple times). We plotted the histogram of ICU encounter count vs. length of ICU_stays. Most patients, regardless of their mortality status, were in the range of 0-5 days of ICU stay. There were also very few people who died had more than 30 days of ICU stay. "
   ]
  },
  {
   "cell_type": "markdown",
   "metadata": {
    "colab_type": "text",
    "id": "gepOVsIVvpjU"
   },
   "source": [
    "### <span style=\"color:blue\"> INPUTEVENTS_MV</span>"
   ]
  },
  {
   "cell_type": "markdown",
   "metadata": {
    "ExecuteTime": {
     "end_time": "2019-05-02T02:37:21.843146Z",
     "start_time": "2019-05-02T02:37:20.125881Z"
    },
    "colab_type": "text",
    "id": "1_EqJuZDvpjW"
   },
   "source": [
    "#### Drug Itemid Counts & ICU_Stay Length Analysis"
   ]
  },
  {
   "cell_type": "code",
   "execution_count": 0,
   "metadata": {
    "ExecuteTime": {
     "end_time": "2019-05-02T22:36:25.738125Z",
     "start_time": "2019-05-02T22:36:25.712123Z"
    },
    "colab": {},
    "colab_type": "code",
    "id": "Jtb0xativpjX",
    "outputId": "f23217ad-a1ea-4997-99db-18acb28a1a6a"
   },
   "outputs": [
    {
     "data": {
      "text/html": [
       "<div>\n",
       "<style scoped>\n",
       "    .dataframe tbody tr th:only-of-type {\n",
       "        vertical-align: middle;\n",
       "    }\n",
       "\n",
       "    .dataframe tbody tr th {\n",
       "        vertical-align: top;\n",
       "    }\n",
       "\n",
       "    .dataframe thead th {\n",
       "        text-align: right;\n",
       "    }\n",
       "</style>\n",
       "<table border=\"1\" class=\"dataframe\">\n",
       "  <thead>\n",
       "    <tr style=\"text-align: right;\">\n",
       "      <th></th>\n",
       "      <th>ROW_ID</th>\n",
       "      <th>SUBJECT_ID</th>\n",
       "      <th>HADM_ID</th>\n",
       "      <th>ICUSTAY_ID</th>\n",
       "      <th>STARTTIME</th>\n",
       "      <th>ENDTIME</th>\n",
       "      <th>ITEMID</th>\n",
       "      <th>AMOUNT</th>\n",
       "      <th>AMOUNTUOM</th>\n",
       "      <th>RATE</th>\n",
       "      <th>...</th>\n",
       "      <th>TOTALAMOUNTUOM</th>\n",
       "      <th>ISOPENBAG</th>\n",
       "      <th>CONTINUEINNEXTDEPT</th>\n",
       "      <th>CANCELREASON</th>\n",
       "      <th>STATUSDESCRIPTION</th>\n",
       "      <th>COMMENTS_EDITEDBY</th>\n",
       "      <th>COMMENTS_CANCELEDBY</th>\n",
       "      <th>COMMENTS_DATE</th>\n",
       "      <th>ORIGINALAMOUNT</th>\n",
       "      <th>ORIGINALRATE</th>\n",
       "    </tr>\n",
       "  </thead>\n",
       "  <tbody>\n",
       "    <tr>\n",
       "      <th>0</th>\n",
       "      <td>241</td>\n",
       "      <td>27063</td>\n",
       "      <td>139787</td>\n",
       "      <td>223259</td>\n",
       "      <td>2133-02-05 06:29:00</td>\n",
       "      <td>2133-02-05 08:45:00</td>\n",
       "      <td>225166</td>\n",
       "      <td>6.774532</td>\n",
       "      <td>mEq</td>\n",
       "      <td>NaN</td>\n",
       "      <td>...</td>\n",
       "      <td>ml</td>\n",
       "      <td>0</td>\n",
       "      <td>0</td>\n",
       "      <td>1</td>\n",
       "      <td>Rewritten</td>\n",
       "      <td>None</td>\n",
       "      <td>RN</td>\n",
       "      <td>2133-02-05 12:52:00</td>\n",
       "      <td>10.000000</td>\n",
       "      <td>0.050000</td>\n",
       "    </tr>\n",
       "    <tr>\n",
       "      <th>1</th>\n",
       "      <td>242</td>\n",
       "      <td>27063</td>\n",
       "      <td>139787</td>\n",
       "      <td>223259</td>\n",
       "      <td>2133-02-05 05:34:00</td>\n",
       "      <td>2133-02-05 06:30:00</td>\n",
       "      <td>225944</td>\n",
       "      <td>28.132997</td>\n",
       "      <td>ml</td>\n",
       "      <td>30.142497</td>\n",
       "      <td>...</td>\n",
       "      <td>ml</td>\n",
       "      <td>0</td>\n",
       "      <td>0</td>\n",
       "      <td>0</td>\n",
       "      <td>FinishedRunning</td>\n",
       "      <td>None</td>\n",
       "      <td>None</td>\n",
       "      <td>None</td>\n",
       "      <td>28.132998</td>\n",
       "      <td>30.255817</td>\n",
       "    </tr>\n",
       "    <tr>\n",
       "      <th>2</th>\n",
       "      <td>243</td>\n",
       "      <td>27063</td>\n",
       "      <td>139787</td>\n",
       "      <td>223259</td>\n",
       "      <td>2133-02-05 05:34:00</td>\n",
       "      <td>2133-02-05 06:30:00</td>\n",
       "      <td>225166</td>\n",
       "      <td>2.813300</td>\n",
       "      <td>mEq</td>\n",
       "      <td>NaN</td>\n",
       "      <td>...</td>\n",
       "      <td>ml</td>\n",
       "      <td>0</td>\n",
       "      <td>0</td>\n",
       "      <td>0</td>\n",
       "      <td>FinishedRunning</td>\n",
       "      <td>None</td>\n",
       "      <td>None</td>\n",
       "      <td>None</td>\n",
       "      <td>2.813300</td>\n",
       "      <td>0.050426</td>\n",
       "    </tr>\n",
       "  </tbody>\n",
       "</table>\n",
       "<p>3 rows × 31 columns</p>\n",
       "</div>"
      ],
      "text/plain": [
       "   ROW_ID  SUBJECT_ID  HADM_ID  ICUSTAY_ID            STARTTIME  \\\n",
       "0     241       27063   139787      223259  2133-02-05 06:29:00   \n",
       "1     242       27063   139787      223259  2133-02-05 05:34:00   \n",
       "2     243       27063   139787      223259  2133-02-05 05:34:00   \n",
       "\n",
       "               ENDTIME  ITEMID     AMOUNT AMOUNTUOM       RATE      ...       \\\n",
       "0  2133-02-05 08:45:00  225166   6.774532       mEq        NaN      ...        \n",
       "1  2133-02-05 06:30:00  225944  28.132997        ml  30.142497      ...        \n",
       "2  2133-02-05 06:30:00  225166   2.813300       mEq        NaN      ...        \n",
       "\n",
       "  TOTALAMOUNTUOM ISOPENBAG  CONTINUEINNEXTDEPT  CANCELREASON  \\\n",
       "0             ml         0                   0             1   \n",
       "1             ml         0                   0             0   \n",
       "2             ml         0                   0             0   \n",
       "\n",
       "   STATUSDESCRIPTION COMMENTS_EDITEDBY COMMENTS_CANCELEDBY  \\\n",
       "0          Rewritten              None                  RN   \n",
       "1    FinishedRunning              None                None   \n",
       "2    FinishedRunning              None                None   \n",
       "\n",
       "         COMMENTS_DATE ORIGINALAMOUNT  ORIGINALRATE  \n",
       "0  2133-02-05 12:52:00      10.000000      0.050000  \n",
       "1                 None      28.132998     30.255817  \n",
       "2                 None       2.813300      0.050426  \n",
       "\n",
       "[3 rows x 31 columns]"
      ]
     },
     "execution_count": 113,
     "metadata": {
      "tags": []
     },
     "output_type": "execute_result"
    }
   ],
   "source": [
    "pd.read_sql(\"SELECT * FROM inputevents_mv LIMIT 3\",conn)"
   ]
  },
  {
   "cell_type": "code",
   "execution_count": 0,
   "metadata": {
    "ExecuteTime": {
     "end_time": "2019-05-02T22:37:15.239961Z",
     "start_time": "2019-05-02T22:36:25.740122Z"
    },
    "colab": {},
    "colab_type": "code",
    "id": "JGgp-iOIvpjc"
   },
   "outputs": [],
   "source": [
    "df_imv = pd.read_sql(\"SELECT subject_id,hadm_id,icustay_id,itemid,amount,amountuom FROM inputevents_mv\",conn)"
   ]
  },
  {
   "cell_type": "code",
   "execution_count": 0,
   "metadata": {
    "ExecuteTime": {
     "end_time": "2019-05-02T22:37:15.889610Z",
     "start_time": "2019-05-02T22:37:15.416956Z"
    },
    "colab": {},
    "colab_type": "code",
    "id": "OnZWSAP7vpjf",
    "outputId": "1c587f10-0586-4c35-9bb1-9152cd5d0703"
   },
   "outputs": [
    {
     "data": {
      "text/html": [
       "<div>\n",
       "<style scoped>\n",
       "    .dataframe tbody tr th:only-of-type {\n",
       "        vertical-align: middle;\n",
       "    }\n",
       "\n",
       "    .dataframe tbody tr th {\n",
       "        vertical-align: top;\n",
       "    }\n",
       "\n",
       "    .dataframe thead th {\n",
       "        text-align: right;\n",
       "    }\n",
       "</style>\n",
       "<table border=\"1\" class=\"dataframe\">\n",
       "  <thead>\n",
       "    <tr style=\"text-align: right;\">\n",
       "      <th></th>\n",
       "      <th>SUBJECT_ID</th>\n",
       "      <th>HADM_ID</th>\n",
       "      <th>ICUSTAY_ID</th>\n",
       "      <th>ITEMID</th>\n",
       "      <th>AMOUNT</th>\n",
       "      <th>AMOUNTUOM</th>\n",
       "    </tr>\n",
       "  </thead>\n",
       "  <tbody>\n",
       "    <tr>\n",
       "      <th>0</th>\n",
       "      <td>27063</td>\n",
       "      <td>139787</td>\n",
       "      <td>223259.0</td>\n",
       "      <td>225166</td>\n",
       "      <td>6.774532</td>\n",
       "      <td>mEq</td>\n",
       "    </tr>\n",
       "    <tr>\n",
       "      <th>1</th>\n",
       "      <td>27063</td>\n",
       "      <td>139787</td>\n",
       "      <td>223259.0</td>\n",
       "      <td>225944</td>\n",
       "      <td>28.132997</td>\n",
       "      <td>ml</td>\n",
       "    </tr>\n",
       "    <tr>\n",
       "      <th>2</th>\n",
       "      <td>27063</td>\n",
       "      <td>139787</td>\n",
       "      <td>223259.0</td>\n",
       "      <td>225166</td>\n",
       "      <td>2.813300</td>\n",
       "      <td>mEq</td>\n",
       "    </tr>\n",
       "  </tbody>\n",
       "</table>\n",
       "</div>"
      ],
      "text/plain": [
       "   SUBJECT_ID  HADM_ID  ICUSTAY_ID  ITEMID     AMOUNT AMOUNTUOM\n",
       "0       27063   139787    223259.0  225166   6.774532       mEq\n",
       "1       27063   139787    223259.0  225944  28.132997        ml\n",
       "2       27063   139787    223259.0  225166   2.813300       mEq"
      ]
     },
     "execution_count": 115,
     "metadata": {
      "tags": []
     },
     "output_type": "execute_result"
    }
   ],
   "source": [
    "df_imv.head(3)"
   ]
  },
  {
   "cell_type": "code",
   "execution_count": 0,
   "metadata": {
    "ExecuteTime": {
     "end_time": "2019-05-02T22:37:16.039716Z",
     "start_time": "2019-05-02T22:37:15.893612Z"
    },
    "colab": {},
    "colab_type": "code",
    "id": "Wpr3i0Rivpji"
   },
   "outputs": [],
   "source": [
    "# As amonunt is analyzed in different units, we decidec to do analysis on drug item counts.\n",
    "item_cnt = df_imv.ICUSTAY_ID.value_counts().rename('itemidcounts')"
   ]
  },
  {
   "cell_type": "code",
   "execution_count": 0,
   "metadata": {
    "ExecuteTime": {
     "end_time": "2019-05-02T22:37:18.988088Z",
     "start_time": "2019-05-02T22:37:16.042612Z"
    },
    "colab": {},
    "colab_type": "code",
    "id": "FrYomqMevpjl"
   },
   "outputs": [],
   "source": [
    "df_imv= df_imv.merge(item_cnt.to_frame(),left_on='ICUSTAY_ID', right_index=True)"
   ]
  },
  {
   "cell_type": "code",
   "execution_count": 0,
   "metadata": {
    "ExecuteTime": {
     "end_time": "2019-05-02T22:37:27.296439Z",
     "start_time": "2019-05-02T22:37:18.990149Z"
    },
    "colab": {},
    "colab_type": "code",
    "id": "w0CdtOLBvpjm",
    "outputId": "6225327a-b027-4b7c-fa58-2e8b7340ac3b"
   },
   "outputs": [
    {
     "data": {
      "text/html": [
       "<div>\n",
       "<style scoped>\n",
       "    .dataframe tbody tr th:only-of-type {\n",
       "        vertical-align: middle;\n",
       "    }\n",
       "\n",
       "    .dataframe tbody tr th {\n",
       "        vertical-align: top;\n",
       "    }\n",
       "\n",
       "    .dataframe thead th {\n",
       "        text-align: right;\n",
       "    }\n",
       "</style>\n",
       "<table border=\"1\" class=\"dataframe\">\n",
       "  <thead>\n",
       "    <tr style=\"text-align: right;\">\n",
       "      <th></th>\n",
       "      <th>SUBJECT_ID</th>\n",
       "      <th>HADM_ID</th>\n",
       "      <th>ICUSTAY_ID</th>\n",
       "      <th>ITEMID</th>\n",
       "      <th>AMOUNT</th>\n",
       "      <th>AMOUNTUOM</th>\n",
       "      <th>itemidcounts</th>\n",
       "    </tr>\n",
       "  </thead>\n",
       "  <tbody>\n",
       "    <tr>\n",
       "      <th>442</th>\n",
       "      <td>27063</td>\n",
       "      <td>139787</td>\n",
       "      <td>223259.0</td>\n",
       "      <td>225797</td>\n",
       "      <td>200.000000</td>\n",
       "      <td>ml</td>\n",
       "      <td>106</td>\n",
       "    </tr>\n",
       "    <tr>\n",
       "      <th>350</th>\n",
       "      <td>29969</td>\n",
       "      <td>129547</td>\n",
       "      <td>248410.0</td>\n",
       "      <td>223262</td>\n",
       "      <td>8.000000</td>\n",
       "      <td>units</td>\n",
       "      <td>83</td>\n",
       "    </tr>\n",
       "    <tr>\n",
       "      <th>135</th>\n",
       "      <td>30354</td>\n",
       "      <td>120396</td>\n",
       "      <td>243526.0</td>\n",
       "      <td>221744</td>\n",
       "      <td>2.320253</td>\n",
       "      <td>mg</td>\n",
       "      <td>102</td>\n",
       "    </tr>\n",
       "  </tbody>\n",
       "</table>\n",
       "</div>"
      ],
      "text/plain": [
       "     SUBJECT_ID  HADM_ID  ICUSTAY_ID  ITEMID      AMOUNT AMOUNTUOM  \\\n",
       "442       27063   139787    223259.0  225797  200.000000        ml   \n",
       "350       29969   129547    248410.0  223262    8.000000     units   \n",
       "135       30354   120396    243526.0  221744    2.320253        mg   \n",
       "\n",
       "     itemidcounts  \n",
       "442           106  \n",
       "350            83  \n",
       "135           102  "
      ]
     },
     "execution_count": 118,
     "metadata": {
      "tags": []
     },
     "output_type": "execute_result"
    }
   ],
   "source": [
    "df_imv_icu = df_imv.drop_duplicates(subset='ICUSTAY_ID', keep=\"last\")\n",
    "df_imv_icu.head(3)"
   ]
  },
  {
   "cell_type": "code",
   "execution_count": 0,
   "metadata": {
    "ExecuteTime": {
     "end_time": "2019-05-02T22:37:31.682906Z",
     "start_time": "2019-05-02T22:37:28.242358Z"
    },
    "colab": {},
    "colab_type": "code",
    "id": "mbBtNB-Jvpjr"
   },
   "outputs": [],
   "source": [
    "df_imv_icu_adm=pd.merge(df_imv_icu[['SUBJECT_ID','HADM_ID','ICUSTAY_ID','itemidcounts']],icu_adm[['len_stay','ICUSTAY_ID','HOSPITAL_EXPIRE_FLAG','icu_stay']],how='left',on='ICUSTAY_ID')"
   ]
  },
  {
   "cell_type": "code",
   "execution_count": 0,
   "metadata": {
    "ExecuteTime": {
     "end_time": "2019-05-02T22:37:31.849291Z",
     "start_time": "2019-05-02T22:37:31.819287Z"
    },
    "colab": {},
    "colab_type": "code",
    "id": "U-AMb-ohvpju",
    "outputId": "b322328b-2832-40ff-dd36-896403a197f6"
   },
   "outputs": [
    {
     "data": {
      "text/html": [
       "<div>\n",
       "<style scoped>\n",
       "    .dataframe tbody tr th:only-of-type {\n",
       "        vertical-align: middle;\n",
       "    }\n",
       "\n",
       "    .dataframe tbody tr th {\n",
       "        vertical-align: top;\n",
       "    }\n",
       "\n",
       "    .dataframe thead th {\n",
       "        text-align: right;\n",
       "    }\n",
       "</style>\n",
       "<table border=\"1\" class=\"dataframe\">\n",
       "  <thead>\n",
       "    <tr style=\"text-align: right;\">\n",
       "      <th></th>\n",
       "      <th>SUBJECT_ID</th>\n",
       "      <th>HADM_ID</th>\n",
       "      <th>ICUSTAY_ID</th>\n",
       "      <th>itemidcounts</th>\n",
       "      <th>len_stay</th>\n",
       "      <th>HOSPITAL_EXPIRE_FLAG</th>\n",
       "      <th>icu_stay</th>\n",
       "    </tr>\n",
       "  </thead>\n",
       "  <tbody>\n",
       "    <tr>\n",
       "      <th>0</th>\n",
       "      <td>27063</td>\n",
       "      <td>139787</td>\n",
       "      <td>223259.0</td>\n",
       "      <td>106</td>\n",
       "      <td>17</td>\n",
       "      <td>0</td>\n",
       "      <td>12.0</td>\n",
       "    </tr>\n",
       "    <tr>\n",
       "      <th>1</th>\n",
       "      <td>29969</td>\n",
       "      <td>129547</td>\n",
       "      <td>248410.0</td>\n",
       "      <td>83</td>\n",
       "      <td>20</td>\n",
       "      <td>0</td>\n",
       "      <td>7.0</td>\n",
       "    </tr>\n",
       "    <tr>\n",
       "      <th>2</th>\n",
       "      <td>30354</td>\n",
       "      <td>120396</td>\n",
       "      <td>243526.0</td>\n",
       "      <td>102</td>\n",
       "      <td>14</td>\n",
       "      <td>0</td>\n",
       "      <td>14.0</td>\n",
       "    </tr>\n",
       "  </tbody>\n",
       "</table>\n",
       "</div>"
      ],
      "text/plain": [
       "   SUBJECT_ID  HADM_ID  ICUSTAY_ID  itemidcounts  len_stay  \\\n",
       "0       27063   139787    223259.0           106        17   \n",
       "1       29969   129547    248410.0            83        20   \n",
       "2       30354   120396    243526.0           102        14   \n",
       "\n",
       "   HOSPITAL_EXPIRE_FLAG  icu_stay  \n",
       "0                     0      12.0  \n",
       "1                     0       7.0  \n",
       "2                     0      14.0  "
      ]
     },
     "execution_count": 120,
     "metadata": {
      "tags": []
     },
     "output_type": "execute_result"
    }
   ],
   "source": [
    "df_imv_icu_adm.head(3)"
   ]
  },
  {
   "cell_type": "code",
   "execution_count": 0,
   "metadata": {
    "ExecuteTime": {
     "end_time": "2019-05-02T22:37:42.176287Z",
     "start_time": "2019-05-02T22:37:31.931288Z"
    },
    "colab": {},
    "colab_type": "code",
    "id": "r7rPIh_Lvpjw",
    "outputId": "b2341e76-0f3e-4ae7-e159-8f03368407c8"
   },
   "outputs": [
    {
     "data": {
      "image/png": "[encoded data removed]",
      "text/plain": [
       "<Figure size 360x252 with 1 Axes>"
      ]
     },
     "metadata": {
      "needs_background": "light",
      "tags": []
     },
     "output_type": "display_data"
    }
   ],
   "source": [
    "plt.figure(figsize=(5,3.5))\n",
    "ax = plt.subplot()\n",
    "plt.scatter(df_imv_icu_adm[df_imv_icu_adm['HOSPITAL_EXPIRE_FLAG']==0]['icu_stay'], df_imv_icu_adm[df_imv_icu_adm['HOSPITAL_EXPIRE_FLAG']==0]['itemidcounts'],label= ' Survived',c='darkblue')  \n",
    "plt.scatter(df_imv_icu_adm[df_imv_icu_adm['HOSPITAL_EXPIRE_FLAG']==1]['icu_stay'], df_imv_icu_adm[df_imv_icu_adm['HOSPITAL_EXPIRE_FLAG']==1]['itemidcounts'],label= ' Died',c='darkorange')  \n",
    "box = ax.get_position()\n",
    "ax.legend(loc=4)\n",
    "plt.xlabel('icu_stay days')\n",
    "plt.ylabel('Drug itemcounts')\n",
    "plt.title('Input Drug & ICU_Stay')\n",
    "plt.savefig('image/drug_icu.svg',bbox_inches='tight')\n",
    "plt.show()"
   ]
  },
  {
   "cell_type": "markdown",
   "metadata": {
    "ExecuteTime": {
     "end_time": "2019-05-02T21:47:53.365204Z",
     "start_time": "2019-05-02T21:47:53.357241Z"
    },
    "colab_type": "text",
    "id": "QvNB5fmyvpjz"
   },
   "source": [
    "Here a scatter plot of drug counts vs. length of ICU stay is shown, grouped by their mortality status. It illustrates a positive correlation - longer ICU stays renders more drug dispensed. The plot is also highly dense at the lower left corner, meaning that most people, regardless of whether they survivded, have short ICU stays and few drug given. "
   ]
  },
  {
   "cell_type": "code",
   "execution_count": 0,
   "metadata": {
    "ExecuteTime": {
     "end_time": "2019-05-02T22:37:42.386926Z",
     "start_time": "2019-05-02T22:37:42.198521Z"
    },
    "colab": {},
    "colab_type": "code",
    "id": "yuVcmaWPvpjz"
   },
   "outputs": [],
   "source": [
    "survived_code = df_imv_icu_adm[df_imv_icu_adm['HOSPITAL_EXPIRE_FLAG']==0]['itemidcounts']\n",
    "died_code = df_imv_icu_adm[df_imv_icu_adm['HOSPITAL_EXPIRE_FLAG']==1]['itemidcounts']"
   ]
  },
  {
   "cell_type": "code",
   "execution_count": 0,
   "metadata": {
    "ExecuteTime": {
     "end_time": "2019-05-02T22:37:44.503118Z",
     "start_time": "2019-05-02T22:37:42.389932Z"
    },
    "colab": {},
    "colab_type": "code",
    "id": "QfWZ1t75vpj1",
    "outputId": "d165ad33-bd55-40e5-d94a-c006436a1107"
   },
   "outputs": [
    {
     "name": "stderr",
     "output_type": "stream",
     "text": [
      "D:\\Software\\Anaconda3\\lib\\site-packages\\scipy\\stats\\stats.py:1713: FutureWarning: Using a non-tuple sequence for multidimensional indexing is deprecated; use `arr[tuple(seq)]` instead of `arr[seq]`. In the future this will be interpreted as an array index, `arr[np.array(seq)]`, which will result either in an error or a different result.\n",
      "  return np.add.reduce(sorted[indexer] * weights, axis=axis) / sumval\n"
     ]
    },
    {
     "data": {
      "image/png": "[encoded data removed]",
      "text/plain": [
       "<Figure size 360x252 with 1 Axes>"
      ]
     },
     "metadata": {
      "needs_background": "light",
      "tags": []
     },
     "output_type": "display_data"
    }
   ],
   "source": [
    "plt.figure(figsize=(5,3.5))\n",
    "sns.distplot(survived_code,hist=False,label='Survived',color='darkblue')\n",
    "sns.distplot(died_code,hist=False,label='Died',color='darkorange')\n",
    "plt.axvline(np.mean(survived_code), linestyle=':',c = 'darkblue', linewidth=2,label = 'Survied_mean: %d' % np.mean(survived_code))\n",
    "plt.axvline(np.mean(died_code), linestyle=':',c = 'darkorange', linewidth=2,label = 'Died_mean: %d' % np.mean(died_code))\n",
    "plt.legend(loc=1)\n",
    "plt.xlabel(\"Drug Item Counts\")\n",
    "plt.title('Kernel Density Plot of Survived vs Died')\n",
    "plt.savefig('image/kde_drug.svg',bbox_inches='tight')\n",
    "plt.show()"
   ]
  },
  {
   "cell_type": "markdown",
   "metadata": {
    "ExecuteTime": {
     "end_time": "2019-05-02T03:37:47.179427Z",
     "start_time": "2019-05-02T03:37:46.788468Z"
    },
    "colab_type": "text",
    "id": "JraPfBEKvpj3"
   },
   "source": [
    "To avoid overlapping plotting problems, another kernel density plot is shown above, showing a deeper understanding of drugs given to a patient and their mortality status. It is left skewed, corresponding to the lower left corner in the previous graph. "
   ]
  },
  {
   "cell_type": "markdown",
   "metadata": {
    "ExecuteTime": {
     "end_time": "2019-05-02T03:37:47.179427Z",
     "start_time": "2019-05-02T03:37:46.788468Z"
    },
    "colab_type": "text",
    "id": "cR1lV8oBvpj3"
   },
   "source": [
    "### <span style=\"color:blue\"> Processed Dataset with 17 Features vs 150 Features</span>"
   ]
  },
  {
   "cell_type": "markdown",
   "metadata": {
    "ExecuteTime": {
     "end_time": "2019-05-02T18:40:49.148912Z",
     "start_time": "2019-05-02T18:40:48.031702Z"
    },
    "colab_type": "text",
    "id": "vG_0gZaJvpj3"
   },
   "source": [
    "#### Dataset with 17 features"
   ]
  },
  {
   "cell_type": "code",
   "execution_count": 0,
   "metadata": {
    "ExecuteTime": {
     "end_time": "2019-05-02T22:37:45.822319Z",
     "start_time": "2019-05-02T22:37:44.518404Z"
    },
    "colab": {},
    "colab_type": "code",
    "id": "zZThC6S3vpj4",
    "outputId": "cf5127c9-8121-4333-f7c3-e9e77c0f0b4b"
   },
   "outputs": [
    {
     "data": {
      "text/html": [
       "<div>\n",
       "<style scoped>\n",
       "    .dataframe tbody tr th:only-of-type {\n",
       "        vertical-align: middle;\n",
       "    }\n",
       "\n",
       "    .dataframe tbody tr th {\n",
       "        vertical-align: top;\n",
       "    }\n",
       "\n",
       "    .dataframe thead th {\n",
       "        text-align: right;\n",
       "    }\n",
       "</style>\n",
       "<table border=\"1\" class=\"dataframe\">\n",
       "  <thead>\n",
       "    <tr style=\"text-align: right;\">\n",
       "      <th></th>\n",
       "      <th>Unnamed: 0</th>\n",
       "      <th>HADM_ID</th>\n",
       "      <th>723</th>\n",
       "      <th>454</th>\n",
       "      <th>184</th>\n",
       "      <th>223900</th>\n",
       "      <th>223901</th>\n",
       "      <th>220739</th>\n",
       "      <th>51</th>\n",
       "      <th>455</th>\n",
       "      <th>...</th>\n",
       "      <th>ADMISSION_TYPE_ELECTIVE</th>\n",
       "      <th>ADMISSION_TYPE_EMERGENCY</th>\n",
       "      <th>ADMISSION_TYPE_NEWBORN</th>\n",
       "      <th>ADMISSION_TYPE_URGENT</th>\n",
       "      <th>ADMITTIME</th>\n",
       "      <th>DOB</th>\n",
       "      <th>age</th>\n",
       "      <th>diag17_171</th>\n",
       "      <th>diag17_172</th>\n",
       "      <th>1_yr_mortality</th>\n",
       "    </tr>\n",
       "  </thead>\n",
       "  <tbody>\n",
       "    <tr>\n",
       "      <th>0</th>\n",
       "      <td>0</td>\n",
       "      <td>100006.0</td>\n",
       "      <td>5.000000</td>\n",
       "      <td>6.0</td>\n",
       "      <td>4.000000</td>\n",
       "      <td>NaN</td>\n",
       "      <td>NaN</td>\n",
       "      <td>NaN</td>\n",
       "      <td>NaN</td>\n",
       "      <td>140.509434</td>\n",
       "      <td>...</td>\n",
       "      <td>0</td>\n",
       "      <td>1</td>\n",
       "      <td>0</td>\n",
       "      <td>0</td>\n",
       "      <td>2108-04-06 15:49:00</td>\n",
       "      <td>2059-05-07 00:00:00</td>\n",
       "      <td>48.0</td>\n",
       "      <td>NaN</td>\n",
       "      <td>NaN</td>\n",
       "      <td>0</td>\n",
       "    </tr>\n",
       "    <tr>\n",
       "      <th>1</th>\n",
       "      <td>1</td>\n",
       "      <td>100007.0</td>\n",
       "      <td>4.592593</td>\n",
       "      <td>6.0</td>\n",
       "      <td>3.925926</td>\n",
       "      <td>NaN</td>\n",
       "      <td>NaN</td>\n",
       "      <td>NaN</td>\n",
       "      <td>NaN</td>\n",
       "      <td>140.746835</td>\n",
       "      <td>...</td>\n",
       "      <td>0</td>\n",
       "      <td>1</td>\n",
       "      <td>0</td>\n",
       "      <td>0</td>\n",
       "      <td>2145-03-31 05:33:00</td>\n",
       "      <td>2071-06-04 00:00:00</td>\n",
       "      <td>73.0</td>\n",
       "      <td>NaN</td>\n",
       "      <td>NaN</td>\n",
       "      <td>0</td>\n",
       "    </tr>\n",
       "    <tr>\n",
       "      <th>2</th>\n",
       "      <td>2</td>\n",
       "      <td>100021.0</td>\n",
       "      <td>3.227273</td>\n",
       "      <td>5.0</td>\n",
       "      <td>3.375000</td>\n",
       "      <td>NaN</td>\n",
       "      <td>NaN</td>\n",
       "      <td>NaN</td>\n",
       "      <td>NaN</td>\n",
       "      <td>125.000000</td>\n",
       "      <td>...</td>\n",
       "      <td>0</td>\n",
       "      <td>1</td>\n",
       "      <td>0</td>\n",
       "      <td>0</td>\n",
       "      <td>2109-08-17 10:55:00</td>\n",
       "      <td>2054-10-24 00:00:00</td>\n",
       "      <td>54.0</td>\n",
       "      <td>NaN</td>\n",
       "      <td>NaN</td>\n",
       "      <td>0</td>\n",
       "    </tr>\n",
       "  </tbody>\n",
       "</table>\n",
       "<p>3 rows × 44 columns</p>\n",
       "</div>"
      ],
      "text/plain": [
       "   Unnamed: 0   HADM_ID       723  454       184  223900  223901  220739  51  \\\n",
       "0           0  100006.0  5.000000  6.0  4.000000     NaN     NaN     NaN NaN   \n",
       "1           1  100007.0  4.592593  6.0  3.925926     NaN     NaN     NaN NaN   \n",
       "2           2  100021.0  3.227273  5.0  3.375000     NaN     NaN     NaN NaN   \n",
       "\n",
       "          455       ...        ADMISSION_TYPE_ELECTIVE  \\\n",
       "0  140.509434       ...                              0   \n",
       "1  140.746835       ...                              0   \n",
       "2  125.000000       ...                              0   \n",
       "\n",
       "   ADMISSION_TYPE_EMERGENCY  ADMISSION_TYPE_NEWBORN  ADMISSION_TYPE_URGENT  \\\n",
       "0                         1                       0                      0   \n",
       "1                         1                       0                      0   \n",
       "2                         1                       0                      0   \n",
       "\n",
       "             ADMITTIME                  DOB   age  diag17_171  diag17_172  \\\n",
       "0  2108-04-06 15:49:00  2059-05-07 00:00:00  48.0         NaN         NaN   \n",
       "1  2145-03-31 05:33:00  2071-06-04 00:00:00  73.0         NaN         NaN   \n",
       "2  2109-08-17 10:55:00  2054-10-24 00:00:00  54.0         NaN         NaN   \n",
       "\n",
       "   1_yr_mortality  \n",
       "0               0  \n",
       "1               0  \n",
       "2               0  \n",
       "\n",
       "[3 rows x 44 columns]"
      ]
     },
     "execution_count": 124,
     "metadata": {
      "tags": []
     },
     "output_type": "execute_result"
    }
   ],
   "source": [
    "df_17 = pd.read_csv(r\"D:\\Study\\mimic-code\\generated_data\\final_df17.csv\")\n",
    "df_17.head(3)"
   ]
  },
  {
   "cell_type": "code",
   "execution_count": 0,
   "metadata": {
    "ExecuteTime": {
     "end_time": "2019-05-02T22:37:45.871318Z",
     "start_time": "2019-05-02T22:37:45.832356Z"
    },
    "colab": {},
    "colab_type": "code",
    "id": "YUGaajDhvpj7",
    "outputId": "d7b75429-ddd0-4868-dc1a-b1e13e5218ba"
   },
   "outputs": [
    {
     "data": {
      "text/html": [
       "<div>\n",
       "<style scoped>\n",
       "    .dataframe tbody tr th:only-of-type {\n",
       "        vertical-align: middle;\n",
       "    }\n",
       "\n",
       "    .dataframe tbody tr th {\n",
       "        vertical-align: top;\n",
       "    }\n",
       "\n",
       "    .dataframe thead th {\n",
       "        text-align: right;\n",
       "    }\n",
       "</style>\n",
       "<table border=\"1\" class=\"dataframe\">\n",
       "  <thead>\n",
       "    <tr style=\"text-align: right;\">\n",
       "      <th></th>\n",
       "      <th>HADM_ID</th>\n",
       "      <th>723</th>\n",
       "      <th>454</th>\n",
       "      <th>184</th>\n",
       "      <th>223900</th>\n",
       "      <th>223901</th>\n",
       "      <th>220739</th>\n",
       "      <th>51</th>\n",
       "      <th>455</th>\n",
       "      <th>220179</th>\n",
       "      <th>...</th>\n",
       "      <th>ADMISSION_TYPE_ELECTIVE</th>\n",
       "      <th>ADMISSION_TYPE_EMERGENCY</th>\n",
       "      <th>ADMISSION_TYPE_NEWBORN</th>\n",
       "      <th>ADMISSION_TYPE_URGENT</th>\n",
       "      <th>ADMITTIME</th>\n",
       "      <th>DOB</th>\n",
       "      <th>age</th>\n",
       "      <th>diag17_171</th>\n",
       "      <th>diag17_172</th>\n",
       "      <th>1_yr_mortality</th>\n",
       "    </tr>\n",
       "  </thead>\n",
       "  <tbody>\n",
       "    <tr>\n",
       "      <th>0</th>\n",
       "      <td>100006.0</td>\n",
       "      <td>5.000000</td>\n",
       "      <td>6.0</td>\n",
       "      <td>4.000000</td>\n",
       "      <td>NaN</td>\n",
       "      <td>NaN</td>\n",
       "      <td>NaN</td>\n",
       "      <td>NaN</td>\n",
       "      <td>140.509434</td>\n",
       "      <td>NaN</td>\n",
       "      <td>...</td>\n",
       "      <td>0</td>\n",
       "      <td>1</td>\n",
       "      <td>0</td>\n",
       "      <td>0</td>\n",
       "      <td>2108-04-06 15:49:00</td>\n",
       "      <td>2059-05-07 00:00:00</td>\n",
       "      <td>48.0</td>\n",
       "      <td>NaN</td>\n",
       "      <td>NaN</td>\n",
       "      <td>0</td>\n",
       "    </tr>\n",
       "    <tr>\n",
       "      <th>1</th>\n",
       "      <td>100007.0</td>\n",
       "      <td>4.592593</td>\n",
       "      <td>6.0</td>\n",
       "      <td>3.925926</td>\n",
       "      <td>NaN</td>\n",
       "      <td>NaN</td>\n",
       "      <td>NaN</td>\n",
       "      <td>NaN</td>\n",
       "      <td>140.746835</td>\n",
       "      <td>NaN</td>\n",
       "      <td>...</td>\n",
       "      <td>0</td>\n",
       "      <td>1</td>\n",
       "      <td>0</td>\n",
       "      <td>0</td>\n",
       "      <td>2145-03-31 05:33:00</td>\n",
       "      <td>2071-06-04 00:00:00</td>\n",
       "      <td>73.0</td>\n",
       "      <td>NaN</td>\n",
       "      <td>NaN</td>\n",
       "      <td>0</td>\n",
       "    </tr>\n",
       "  </tbody>\n",
       "</table>\n",
       "<p>2 rows × 43 columns</p>\n",
       "</div>"
      ],
      "text/plain": [
       "    HADM_ID       723  454       184  223900  223901  220739  51         455  \\\n",
       "0  100006.0  5.000000  6.0  4.000000     NaN     NaN     NaN NaN  140.509434   \n",
       "1  100007.0  4.592593  6.0  3.925926     NaN     NaN     NaN NaN  140.746835   \n",
       "\n",
       "   220179       ...        ADMISSION_TYPE_ELECTIVE  ADMISSION_TYPE_EMERGENCY  \\\n",
       "0     NaN       ...                              0                         1   \n",
       "1     NaN       ...                              0                         1   \n",
       "\n",
       "   ADMISSION_TYPE_NEWBORN  ADMISSION_TYPE_URGENT            ADMITTIME  \\\n",
       "0                       0                      0  2108-04-06 15:49:00   \n",
       "1                       0                      0  2145-03-31 05:33:00   \n",
       "\n",
       "                   DOB   age  diag17_171  diag17_172  1_yr_mortality  \n",
       "0  2059-05-07 00:00:00  48.0         NaN         NaN               0  \n",
       "1  2071-06-04 00:00:00  73.0         NaN         NaN               0  \n",
       "\n",
       "[2 rows x 43 columns]"
      ]
     },
     "execution_count": 125,
     "metadata": {
      "tags": []
     },
     "output_type": "execute_result"
    }
   ],
   "source": [
    "df_17 = df_17.drop(['Unnamed: 0'],axis=1)\n",
    "df_17.head(2)"
   ]
  },
  {
   "cell_type": "code",
   "execution_count": 0,
   "metadata": {
    "ExecuteTime": {
     "end_time": "2019-05-02T22:37:45.903323Z",
     "start_time": "2019-05-02T22:37:45.887318Z"
    },
    "colab": {},
    "colab_type": "code",
    "id": "oplyrynGvpj_"
   },
   "outputs": [],
   "source": [
    "# For preliminary study, we simply drop catagorical columns\n",
    "df_17 = df_17.drop(['ADMITTIME','DOB'],axis=1)"
   ]
  },
  {
   "cell_type": "code",
   "execution_count": 0,
   "metadata": {
    "ExecuteTime": {
     "end_time": "2019-05-02T22:37:45.990830Z",
     "start_time": "2019-05-02T22:37:45.937883Z"
    },
    "colab": {},
    "colab_type": "code",
    "id": "h2uBpmn6vpkC"
   },
   "outputs": [],
   "source": [
    "# Drop columns which has more than 20% null values\n",
    "limitPer = df_17.shape[0] * .8\n",
    "df_17=df_17.dropna(thresh=limitPer,axis=1)"
   ]
  },
  {
   "cell_type": "code",
   "execution_count": 0,
   "metadata": {
    "ExecuteTime": {
     "end_time": "2019-05-02T22:37:46.000832Z",
     "start_time": "2019-05-02T22:37:45.994834Z"
    },
    "colab": {},
    "colab_type": "code",
    "id": "QZuioVklvpkE",
    "outputId": "1c2ac856-3e81-49a3-cbba-1001b239b95f"
   },
   "outputs": [
    {
     "data": {
      "text/plain": [
       "(56730, 12)"
      ]
     },
     "execution_count": 128,
     "metadata": {
      "tags": []
     },
     "output_type": "execute_result"
    }
   ],
   "source": [
    "df_17.shape"
   ]
  },
  {
   "cell_type": "markdown",
   "metadata": {
    "ExecuteTime": {
     "end_time": "2019-05-02T22:05:53.648891Z",
     "start_time": "2019-05-02T22:05:53.629890Z"
    },
    "colab_type": "text",
    "id": "F43dmKOgvpkI"
   },
   "source": [
    "Here we notice that after null values filtering, we left 12 columns which contains no more than 20% missing values for our dataset"
   ]
  },
  {
   "cell_type": "code",
   "execution_count": 0,
   "metadata": {
    "ExecuteTime": {
     "end_time": "2019-05-02T22:37:46.118630Z",
     "start_time": "2019-05-02T22:37:46.098601Z"
    },
    "colab": {},
    "colab_type": "code",
    "id": "ggMid0ldvpkJ",
    "outputId": "15128dfc-6ffa-4083-d477-20209f34b9c5"
   },
   "outputs": [
    {
     "data": {
      "text/plain": [
       "['50882', '50971', '50983', '51006', '51301', 'age']"
      ]
     },
     "execution_count": 129,
     "metadata": {
      "tags": []
     },
     "output_type": "execute_result"
    }
   ],
   "source": [
    "# find columns which have null values\n",
    "df_17.columns[df_17.isna().any()].tolist()"
   ]
  },
  {
   "cell_type": "code",
   "execution_count": 0,
   "metadata": {
    "ExecuteTime": {
     "end_time": "2019-05-02T22:37:46.395606Z",
     "start_time": "2019-05-02T22:37:46.134483Z"
    },
    "colab": {},
    "colab_type": "code",
    "id": "Nson9fR4vpkR"
   },
   "outputs": [],
   "source": [
    "# fill null value with its column mean\n",
    "df_17 = df_17.fillna(df_17.mean())"
   ]
  },
  {
   "cell_type": "code",
   "execution_count": 0,
   "metadata": {
    "ExecuteTime": {
     "end_time": "2019-05-02T22:37:46.436607Z",
     "start_time": "2019-05-02T22:37:46.418604Z"
    },
    "colab": {},
    "colab_type": "code",
    "id": "Ws30iXQOvpkT",
    "outputId": "f724c4bf-7c86-4b2b-b27d-5cae04eea5ed"
   },
   "outputs": [
    {
     "data": {
      "text/html": [
       "<div>\n",
       "<style scoped>\n",
       "    .dataframe tbody tr th:only-of-type {\n",
       "        vertical-align: middle;\n",
       "    }\n",
       "\n",
       "    .dataframe tbody tr th {\n",
       "        vertical-align: top;\n",
       "    }\n",
       "\n",
       "    .dataframe thead th {\n",
       "        text-align: right;\n",
       "    }\n",
       "</style>\n",
       "<table border=\"1\" class=\"dataframe\">\n",
       "  <thead>\n",
       "    <tr style=\"text-align: right;\">\n",
       "      <th></th>\n",
       "      <th>HADM_ID</th>\n",
       "      <th>50882</th>\n",
       "      <th>50971</th>\n",
       "      <th>50983</th>\n",
       "      <th>51006</th>\n",
       "      <th>51301</th>\n",
       "      <th>ADMISSION_TYPE_ELECTIVE</th>\n",
       "      <th>ADMISSION_TYPE_EMERGENCY</th>\n",
       "      <th>ADMISSION_TYPE_NEWBORN</th>\n",
       "      <th>ADMISSION_TYPE_URGENT</th>\n",
       "      <th>age</th>\n",
       "      <th>1_yr_mortality</th>\n",
       "    </tr>\n",
       "  </thead>\n",
       "  <tbody>\n",
       "    <tr>\n",
       "      <th>0</th>\n",
       "      <td>100006.0</td>\n",
       "      <td>29.384615</td>\n",
       "      <td>4.076923</td>\n",
       "      <td>131.384615</td>\n",
       "      <td>17.076923</td>\n",
       "      <td>9.700000</td>\n",
       "      <td>0</td>\n",
       "      <td>1</td>\n",
       "      <td>0</td>\n",
       "      <td>0</td>\n",
       "      <td>48.0</td>\n",
       "      <td>0</td>\n",
       "    </tr>\n",
       "    <tr>\n",
       "      <th>1</th>\n",
       "      <td>100007.0</td>\n",
       "      <td>24.888889</td>\n",
       "      <td>3.955556</td>\n",
       "      <td>139.111111</td>\n",
       "      <td>14.222222</td>\n",
       "      <td>7.375000</td>\n",
       "      <td>0</td>\n",
       "      <td>1</td>\n",
       "      <td>0</td>\n",
       "      <td>0</td>\n",
       "      <td>73.0</td>\n",
       "      <td>0</td>\n",
       "    </tr>\n",
       "    <tr>\n",
       "      <th>2</th>\n",
       "      <td>100021.0</td>\n",
       "      <td>25.431373</td>\n",
       "      <td>3.949020</td>\n",
       "      <td>138.823529</td>\n",
       "      <td>12.058824</td>\n",
       "      <td>5.685417</td>\n",
       "      <td>0</td>\n",
       "      <td>1</td>\n",
       "      <td>0</td>\n",
       "      <td>0</td>\n",
       "      <td>54.0</td>\n",
       "      <td>0</td>\n",
       "    </tr>\n",
       "  </tbody>\n",
       "</table>\n",
       "</div>"
      ],
      "text/plain": [
       "    HADM_ID      50882     50971       50983      51006     51301  \\\n",
       "0  100006.0  29.384615  4.076923  131.384615  17.076923  9.700000   \n",
       "1  100007.0  24.888889  3.955556  139.111111  14.222222  7.375000   \n",
       "2  100021.0  25.431373  3.949020  138.823529  12.058824  5.685417   \n",
       "\n",
       "   ADMISSION_TYPE_ELECTIVE  ADMISSION_TYPE_EMERGENCY  ADMISSION_TYPE_NEWBORN  \\\n",
       "0                        0                         1                       0   \n",
       "1                        0                         1                       0   \n",
       "2                        0                         1                       0   \n",
       "\n",
       "   ADMISSION_TYPE_URGENT   age  1_yr_mortality  \n",
       "0                      0  48.0               0  \n",
       "1                      0  73.0               0  \n",
       "2                      0  54.0               0  "
      ]
     },
     "execution_count": 131,
     "metadata": {
      "tags": []
     },
     "output_type": "execute_result"
    }
   ],
   "source": [
    "df_17.head(3)"
   ]
  },
  {
   "cell_type": "code",
   "execution_count": 0,
   "metadata": {
    "ExecuteTime": {
     "end_time": "2019-05-02T22:37:46.473607Z",
     "start_time": "2019-05-02T22:37:46.453610Z"
    },
    "colab": {},
    "colab_type": "code",
    "id": "1LgG-w8RvpkW",
    "outputId": "1c95f3fb-a09b-4416-8c7d-fedb7923093f"
   },
   "outputs": [
    {
     "data": {
      "text/html": [
       "<div>\n",
       "<style scoped>\n",
       "    .dataframe tbody tr th:only-of-type {\n",
       "        vertical-align: middle;\n",
       "    }\n",
       "\n",
       "    .dataframe tbody tr th {\n",
       "        vertical-align: top;\n",
       "    }\n",
       "\n",
       "    .dataframe thead th {\n",
       "        text-align: right;\n",
       "    }\n",
       "</style>\n",
       "<table border=\"1\" class=\"dataframe\">\n",
       "  <thead>\n",
       "    <tr style=\"text-align: right;\">\n",
       "      <th></th>\n",
       "      <th>HADM_ID</th>\n",
       "      <th>50882</th>\n",
       "      <th>50971</th>\n",
       "      <th>50983</th>\n",
       "      <th>51006</th>\n",
       "      <th>51301</th>\n",
       "      <th>ADMISSION_TYPE_ELECTIVE</th>\n",
       "      <th>ADMISSION_TYPE_EMERGENCY</th>\n",
       "      <th>ADMISSION_TYPE_NEWBORN</th>\n",
       "      <th>ADMISSION_TYPE_URGENT</th>\n",
       "      <th>age</th>\n",
       "      <th>1_yr_mortality</th>\n",
       "    </tr>\n",
       "  </thead>\n",
       "  <tbody>\n",
       "    <tr>\n",
       "      <th>0</th>\n",
       "      <td>100006.0</td>\n",
       "      <td>29.384615</td>\n",
       "      <td>4.076923</td>\n",
       "      <td>131.384615</td>\n",
       "      <td>17.076923</td>\n",
       "      <td>9.700000</td>\n",
       "      <td>0</td>\n",
       "      <td>1</td>\n",
       "      <td>0</td>\n",
       "      <td>0</td>\n",
       "      <td>48.0</td>\n",
       "      <td>0</td>\n",
       "    </tr>\n",
       "    <tr>\n",
       "      <th>1</th>\n",
       "      <td>100007.0</td>\n",
       "      <td>24.888889</td>\n",
       "      <td>3.955556</td>\n",
       "      <td>139.111111</td>\n",
       "      <td>14.222222</td>\n",
       "      <td>7.375000</td>\n",
       "      <td>0</td>\n",
       "      <td>1</td>\n",
       "      <td>0</td>\n",
       "      <td>0</td>\n",
       "      <td>73.0</td>\n",
       "      <td>0</td>\n",
       "    </tr>\n",
       "    <tr>\n",
       "      <th>2</th>\n",
       "      <td>100021.0</td>\n",
       "      <td>25.431373</td>\n",
       "      <td>3.949020</td>\n",
       "      <td>138.823529</td>\n",
       "      <td>12.058824</td>\n",
       "      <td>5.685417</td>\n",
       "      <td>0</td>\n",
       "      <td>1</td>\n",
       "      <td>0</td>\n",
       "      <td>0</td>\n",
       "      <td>54.0</td>\n",
       "      <td>0</td>\n",
       "    </tr>\n",
       "  </tbody>\n",
       "</table>\n",
       "</div>"
      ],
      "text/plain": [
       "    HADM_ID      50882     50971       50983      51006     51301  \\\n",
       "0  100006.0  29.384615  4.076923  131.384615  17.076923  9.700000   \n",
       "1  100007.0  24.888889  3.955556  139.111111  14.222222  7.375000   \n",
       "2  100021.0  25.431373  3.949020  138.823529  12.058824  5.685417   \n",
       "\n",
       "   ADMISSION_TYPE_ELECTIVE  ADMISSION_TYPE_EMERGENCY  ADMISSION_TYPE_NEWBORN  \\\n",
       "0                        0                         1                       0   \n",
       "1                        0                         1                       0   \n",
       "2                        0                         1                       0   \n",
       "\n",
       "   ADMISSION_TYPE_URGENT   age  1_yr_mortality  \n",
       "0                      0  48.0               0  \n",
       "1                      0  73.0               0  \n",
       "2                      0  54.0               0  "
      ]
     },
     "execution_count": 132,
     "metadata": {
      "tags": []
     },
     "output_type": "execute_result"
    }
   ],
   "source": [
    "df_17.head(3)"
   ]
  },
  {
   "cell_type": "code",
   "execution_count": 0,
   "metadata": {
    "ExecuteTime": {
     "end_time": "2019-05-02T22:37:46.517646Z",
     "start_time": "2019-05-02T22:37:46.496607Z"
    },
    "colab": {},
    "colab_type": "code",
    "id": "eRwv6a1-vpkc",
    "outputId": "26f3d838-bd34-4dac-cb0c-5d0b8d75e512"
   },
   "outputs": [
    {
     "data": {
      "text/html": [
       "<div>\n",
       "<style scoped>\n",
       "    .dataframe tbody tr th:only-of-type {\n",
       "        vertical-align: middle;\n",
       "    }\n",
       "\n",
       "    .dataframe tbody tr th {\n",
       "        vertical-align: top;\n",
       "    }\n",
       "\n",
       "    .dataframe thead th {\n",
       "        text-align: right;\n",
       "    }\n",
       "</style>\n",
       "<table border=\"1\" class=\"dataframe\">\n",
       "  <thead>\n",
       "    <tr style=\"text-align: right;\">\n",
       "      <th></th>\n",
       "      <th>50882</th>\n",
       "      <th>50971</th>\n",
       "      <th>50983</th>\n",
       "      <th>51006</th>\n",
       "      <th>51301</th>\n",
       "      <th>ADMISSION_TYPE_ELECTIVE</th>\n",
       "      <th>ADMISSION_TYPE_EMERGENCY</th>\n",
       "      <th>ADMISSION_TYPE_NEWBORN</th>\n",
       "      <th>ADMISSION_TYPE_URGENT</th>\n",
       "      <th>age</th>\n",
       "    </tr>\n",
       "  </thead>\n",
       "  <tbody>\n",
       "    <tr>\n",
       "      <th>0</th>\n",
       "      <td>29.384615</td>\n",
       "      <td>4.076923</td>\n",
       "      <td>131.384615</td>\n",
       "      <td>17.076923</td>\n",
       "      <td>9.700000</td>\n",
       "      <td>0</td>\n",
       "      <td>1</td>\n",
       "      <td>0</td>\n",
       "      <td>0</td>\n",
       "      <td>48.0</td>\n",
       "    </tr>\n",
       "    <tr>\n",
       "      <th>1</th>\n",
       "      <td>24.888889</td>\n",
       "      <td>3.955556</td>\n",
       "      <td>139.111111</td>\n",
       "      <td>14.222222</td>\n",
       "      <td>7.375000</td>\n",
       "      <td>0</td>\n",
       "      <td>1</td>\n",
       "      <td>0</td>\n",
       "      <td>0</td>\n",
       "      <td>73.0</td>\n",
       "    </tr>\n",
       "    <tr>\n",
       "      <th>2</th>\n",
       "      <td>25.431373</td>\n",
       "      <td>3.949020</td>\n",
       "      <td>138.823529</td>\n",
       "      <td>12.058824</td>\n",
       "      <td>5.685417</td>\n",
       "      <td>0</td>\n",
       "      <td>1</td>\n",
       "      <td>0</td>\n",
       "      <td>0</td>\n",
       "      <td>54.0</td>\n",
       "    </tr>\n",
       "  </tbody>\n",
       "</table>\n",
       "</div>"
      ],
      "text/plain": [
       "       50882     50971       50983      51006     51301  \\\n",
       "0  29.384615  4.076923  131.384615  17.076923  9.700000   \n",
       "1  24.888889  3.955556  139.111111  14.222222  7.375000   \n",
       "2  25.431373  3.949020  138.823529  12.058824  5.685417   \n",
       "\n",
       "   ADMISSION_TYPE_ELECTIVE  ADMISSION_TYPE_EMERGENCY  ADMISSION_TYPE_NEWBORN  \\\n",
       "0                        0                         1                       0   \n",
       "1                        0                         1                       0   \n",
       "2                        0                         1                       0   \n",
       "\n",
       "   ADMISSION_TYPE_URGENT   age  \n",
       "0                      0  48.0  \n",
       "1                      0  73.0  \n",
       "2                      0  54.0  "
      ]
     },
     "execution_count": 133,
     "metadata": {
      "tags": []
     },
     "output_type": "execute_result"
    }
   ],
   "source": [
    "X = df_17.loc[:,'50882':'age']\n",
    "X.head(3)"
   ]
  },
  {
   "cell_type": "code",
   "execution_count": 0,
   "metadata": {
    "ExecuteTime": {
     "end_time": "2019-05-02T22:37:46.526609Z",
     "start_time": "2019-05-02T22:37:46.521608Z"
    },
    "colab": {},
    "colab_type": "code",
    "id": "wiONmNewvpke"
   },
   "outputs": [],
   "source": [
    "y = df_17['1_yr_mortality']"
   ]
  },
  {
   "cell_type": "code",
   "execution_count": 0,
   "metadata": {
    "ExecuteTime": {
     "end_time": "2019-05-02T22:37:46.567608Z",
     "start_time": "2019-05-02T22:37:46.561609Z"
    },
    "colab": {},
    "colab_type": "code",
    "id": "EOjdzajvvpkh",
    "outputId": "8160cb16-546c-4ef2-f164-a8953a72430b"
   },
   "outputs": [
    {
     "data": {
      "text/plain": [
       "['50882',\n",
       " '50971',\n",
       " '50983',\n",
       " '51006',\n",
       " '51301',\n",
       " 'ADMISSION_TYPE_ELECTIVE',\n",
       " 'ADMISSION_TYPE_EMERGENCY',\n",
       " 'ADMISSION_TYPE_NEWBORN',\n",
       " 'ADMISSION_TYPE_URGENT',\n",
       " 'age']"
      ]
     },
     "execution_count": 135,
     "metadata": {
      "tags": []
     },
     "output_type": "execute_result"
    }
   ],
   "source": [
    "keys = X.columns.tolist()\n",
    "keys"
   ]
  },
  {
   "cell_type": "code",
   "execution_count": 0,
   "metadata": {
    "ExecuteTime": {
     "end_time": "2019-05-02T22:37:46.655644Z",
     "start_time": "2019-05-02T22:37:46.571606Z"
    },
    "colab": {},
    "colab_type": "code",
    "id": "bmOduwf1vpkk"
   },
   "outputs": [],
   "source": [
    "# Rename X column name\n",
    "X.columns = ['50882',\n",
    " '50971',\n",
    " '50983',\n",
    " '51006',\n",
    " '51301',\n",
    " 'ELECTIVE',\n",
    " 'EMERGENCY',\n",
    " 'NEWBORN',\n",
    " 'URGENT',\n",
    " 'age']"
   ]
  },
  {
   "cell_type": "code",
   "execution_count": 0,
   "metadata": {
    "ExecuteTime": {
     "end_time": "2019-05-02T22:37:46.683610Z",
     "start_time": "2019-05-02T22:37:46.671603Z"
    },
    "colab": {},
    "colab_type": "code",
    "id": "gjdFaBZhvpkp",
    "outputId": "f6ca4942-e745-434c-ade4-43357f7fe9fa"
   },
   "outputs": [
    {
     "data": {
      "text/html": [
       "<div>\n",
       "<style scoped>\n",
       "    .dataframe tbody tr th:only-of-type {\n",
       "        vertical-align: middle;\n",
       "    }\n",
       "\n",
       "    .dataframe tbody tr th {\n",
       "        vertical-align: top;\n",
       "    }\n",
       "\n",
       "    .dataframe thead th {\n",
       "        text-align: right;\n",
       "    }\n",
       "</style>\n",
       "<table border=\"1\" class=\"dataframe\">\n",
       "  <thead>\n",
       "    <tr style=\"text-align: right;\">\n",
       "      <th></th>\n",
       "      <th>50882</th>\n",
       "      <th>50971</th>\n",
       "      <th>50983</th>\n",
       "      <th>51006</th>\n",
       "      <th>51301</th>\n",
       "      <th>ELECTIVE</th>\n",
       "      <th>EMERGENCY</th>\n",
       "      <th>NEWBORN</th>\n",
       "      <th>URGENT</th>\n",
       "      <th>age</th>\n",
       "    </tr>\n",
       "  </thead>\n",
       "  <tbody>\n",
       "    <tr>\n",
       "      <th>0</th>\n",
       "      <td>29.384615</td>\n",
       "      <td>4.076923</td>\n",
       "      <td>131.384615</td>\n",
       "      <td>17.076923</td>\n",
       "      <td>9.700000</td>\n",
       "      <td>0</td>\n",
       "      <td>1</td>\n",
       "      <td>0</td>\n",
       "      <td>0</td>\n",
       "      <td>48.00000</td>\n",
       "    </tr>\n",
       "    <tr>\n",
       "      <th>1</th>\n",
       "      <td>24.888889</td>\n",
       "      <td>3.955556</td>\n",
       "      <td>139.111111</td>\n",
       "      <td>14.222222</td>\n",
       "      <td>7.375000</td>\n",
       "      <td>0</td>\n",
       "      <td>1</td>\n",
       "      <td>0</td>\n",
       "      <td>0</td>\n",
       "      <td>73.00000</td>\n",
       "    </tr>\n",
       "    <tr>\n",
       "      <th>2</th>\n",
       "      <td>25.431373</td>\n",
       "      <td>3.949020</td>\n",
       "      <td>138.823529</td>\n",
       "      <td>12.058824</td>\n",
       "      <td>5.685417</td>\n",
       "      <td>0</td>\n",
       "      <td>1</td>\n",
       "      <td>0</td>\n",
       "      <td>0</td>\n",
       "      <td>54.00000</td>\n",
       "    </tr>\n",
       "    <tr>\n",
       "      <th>3</th>\n",
       "      <td>25.153512</td>\n",
       "      <td>4.162772</td>\n",
       "      <td>138.742702</td>\n",
       "      <td>25.211551</td>\n",
       "      <td>11.431012</td>\n",
       "      <td>0</td>\n",
       "      <td>0</td>\n",
       "      <td>1</td>\n",
       "      <td>0</td>\n",
       "      <td>62.03666</td>\n",
       "    </tr>\n",
       "    <tr>\n",
       "      <th>4</th>\n",
       "      <td>25.153512</td>\n",
       "      <td>4.162772</td>\n",
       "      <td>138.742702</td>\n",
       "      <td>25.211551</td>\n",
       "      <td>10.100000</td>\n",
       "      <td>0</td>\n",
       "      <td>0</td>\n",
       "      <td>1</td>\n",
       "      <td>0</td>\n",
       "      <td>62.03666</td>\n",
       "    </tr>\n",
       "  </tbody>\n",
       "</table>\n",
       "</div>"
      ],
      "text/plain": [
       "       50882     50971       50983      51006      51301  ELECTIVE  EMERGENCY  \\\n",
       "0  29.384615  4.076923  131.384615  17.076923   9.700000         0          1   \n",
       "1  24.888889  3.955556  139.111111  14.222222   7.375000         0          1   \n",
       "2  25.431373  3.949020  138.823529  12.058824   5.685417         0          1   \n",
       "3  25.153512  4.162772  138.742702  25.211551  11.431012         0          0   \n",
       "4  25.153512  4.162772  138.742702  25.211551  10.100000         0          0   \n",
       "\n",
       "   NEWBORN  URGENT       age  \n",
       "0        0       0  48.00000  \n",
       "1        0       0  73.00000  \n",
       "2        0       0  54.00000  \n",
       "3        1       0  62.03666  \n",
       "4        1       0  62.03666  "
      ]
     },
     "execution_count": 137,
     "metadata": {
      "tags": []
     },
     "output_type": "execute_result"
    }
   ],
   "source": [
    "X.head()"
   ]
  },
  {
   "cell_type": "code",
   "execution_count": 0,
   "metadata": {
    "ExecuteTime": {
     "end_time": "2019-05-02T22:40:30.840925Z",
     "start_time": "2019-05-02T22:37:46.717646Z"
    },
    "colab": {},
    "colab_type": "code",
    "id": "oWt46QNVvpkv",
    "outputId": "26059deb-4312-4d5b-e056-a7a6128f4ba6"
   },
   "outputs": [
    {
     "name": "stderr",
     "output_type": "stream",
     "text": [
      "D:\\Software\\Anaconda3\\lib\\site-packages\\ipykernel_launcher.py:2: FutureWarning: pandas.scatter_matrix is deprecated, use pandas.plotting.scatter_matrix instead\n",
      "  \n"
     ]
    },
    {
     "data": {
      "image/png": "[encoded data removed]",
      "text/plain": [
       "<Figure size 792x792 with 100 Axes>"
      ]
     },
     "metadata": {
      "needs_background": "light",
      "tags": []
     },
     "output_type": "display_data"
    }
   ],
   "source": [
    "# Plot coleration of X features\n",
    "fig1 = pd.scatter_matrix(X[X.columns], alpha = 0.3, figsize = (11,11), diagonal = 'kde')\n",
    "plt.savefig('image/scatter_detail_pre.tif')"
   ]
  },
  {
   "cell_type": "markdown",
   "metadata": {
    "colab_type": "text",
    "id": "IdXW_R7Uvpkz"
   },
   "source": [
    "#### Dataset with 150 features"
   ]
  },
  {
   "cell_type": "markdown",
   "metadata": {
    "ExecuteTime": {
     "end_time": "2019-05-02T21:25:45.864995Z",
     "start_time": "2019-05-02T21:25:44.928035Z"
    },
    "colab_type": "text",
    "id": "CYnMB534vpk0"
   },
   "source": [
    "Missing value analysis"
   ]
  },
  {
   "cell_type": "code",
   "execution_count": 0,
   "metadata": {
    "ExecuteTime": {
     "end_time": "2019-05-02T22:40:34.680206Z",
     "start_time": "2019-05-02T22:40:30.843045Z"
    },
    "colab": {},
    "colab_type": "code",
    "id": "YPu9sdJlvpk2",
    "outputId": "ec627d5c-c21e-4955-d42b-973eb95e7ce2"
   },
   "outputs": [
    {
     "data": {
      "text/plain": [
       "(56730, 156)"
      ]
     },
     "execution_count": 139,
     "metadata": {
      "tags": []
     },
     "output_type": "execute_result"
    }
   ],
   "source": [
    "df_150 = pd.read_csv(r\"D:\\Study\\mimic-code\\generated_data\\final_final.csv\")\n",
    "df_150.shape"
   ]
  },
  {
   "cell_type": "code",
   "execution_count": 0,
   "metadata": {
    "ExecuteTime": {
     "end_time": "2019-05-02T22:40:34.785296Z",
     "start_time": "2019-05-02T22:40:34.753332Z"
    },
    "colab": {},
    "colab_type": "code",
    "id": "FSO0hEurvpk6",
    "outputId": "14550854-021c-4716-8387-c5525b88d100"
   },
   "outputs": [
    {
     "data": {
      "text/html": [
       "<div>\n",
       "<style scoped>\n",
       "    .dataframe tbody tr th:only-of-type {\n",
       "        vertical-align: middle;\n",
       "    }\n",
       "\n",
       "    .dataframe tbody tr th {\n",
       "        vertical-align: top;\n",
       "    }\n",
       "\n",
       "    .dataframe thead th {\n",
       "        text-align: right;\n",
       "    }\n",
       "</style>\n",
       "<table border=\"1\" class=\"dataframe\">\n",
       "  <thead>\n",
       "    <tr style=\"text-align: right;\">\n",
       "      <th></th>\n",
       "      <th>Unnamed: 0</th>\n",
       "      <th>Unnamed: 0.1</th>\n",
       "      <th>HADM_ID</th>\n",
       "      <th>30001</th>\n",
       "      <th>30005</th>\n",
       "      <th>30006</th>\n",
       "      <th>30013</th>\n",
       "      <th>30015</th>\n",
       "      <th>30018</th>\n",
       "      <th>30020</th>\n",
       "      <th>...</th>\n",
       "      <th>51301</th>\n",
       "      <th>ADMISSION_TYPE_ELECTIVE</th>\n",
       "      <th>ADMISSION_TYPE_EMERGENCY</th>\n",
       "      <th>ADMISSION_TYPE_NEWBORN</th>\n",
       "      <th>ADMISSION_TYPE_URGENT</th>\n",
       "      <th>ADMITTIME</th>\n",
       "      <th>DOB</th>\n",
       "      <th>age</th>\n",
       "      <th>diag17_171</th>\n",
       "      <th>diag17_172</th>\n",
       "    </tr>\n",
       "  </thead>\n",
       "  <tbody>\n",
       "    <tr>\n",
       "      <th>0</th>\n",
       "      <td>0</td>\n",
       "      <td>0</td>\n",
       "      <td>100006.0</td>\n",
       "      <td>NaN</td>\n",
       "      <td>NaN</td>\n",
       "      <td>NaN</td>\n",
       "      <td>21.260000</td>\n",
       "      <td>NaN</td>\n",
       "      <td>56.111111</td>\n",
       "      <td>NaN</td>\n",
       "      <td>...</td>\n",
       "      <td>9.700000</td>\n",
       "      <td>0</td>\n",
       "      <td>1</td>\n",
       "      <td>0</td>\n",
       "      <td>0</td>\n",
       "      <td>2108-04-06 15:49:00</td>\n",
       "      <td>2059-05-07 00:00:00</td>\n",
       "      <td>48.0</td>\n",
       "      <td>NaN</td>\n",
       "      <td>NaN</td>\n",
       "    </tr>\n",
       "    <tr>\n",
       "      <th>1</th>\n",
       "      <td>1</td>\n",
       "      <td>1</td>\n",
       "      <td>100007.0</td>\n",
       "      <td>NaN</td>\n",
       "      <td>NaN</td>\n",
       "      <td>NaN</td>\n",
       "      <td>104.687500</td>\n",
       "      <td>111.280488</td>\n",
       "      <td>166.666667</td>\n",
       "      <td>NaN</td>\n",
       "      <td>...</td>\n",
       "      <td>7.375000</td>\n",
       "      <td>0</td>\n",
       "      <td>1</td>\n",
       "      <td>0</td>\n",
       "      <td>0</td>\n",
       "      <td>2145-03-31 05:33:00</td>\n",
       "      <td>2071-06-04 00:00:00</td>\n",
       "      <td>73.0</td>\n",
       "      <td>NaN</td>\n",
       "      <td>NaN</td>\n",
       "    </tr>\n",
       "    <tr>\n",
       "      <th>2</th>\n",
       "      <td>2</td>\n",
       "      <td>2</td>\n",
       "      <td>100021.0</td>\n",
       "      <td>NaN</td>\n",
       "      <td>NaN</td>\n",
       "      <td>NaN</td>\n",
       "      <td>133.333333</td>\n",
       "      <td>90.869565</td>\n",
       "      <td>45.368852</td>\n",
       "      <td>NaN</td>\n",
       "      <td>...</td>\n",
       "      <td>5.685417</td>\n",
       "      <td>0</td>\n",
       "      <td>1</td>\n",
       "      <td>0</td>\n",
       "      <td>0</td>\n",
       "      <td>2109-08-17 10:55:00</td>\n",
       "      <td>2054-10-24 00:00:00</td>\n",
       "      <td>54.0</td>\n",
       "      <td>NaN</td>\n",
       "      <td>NaN</td>\n",
       "    </tr>\n",
       "  </tbody>\n",
       "</table>\n",
       "<p>3 rows × 156 columns</p>\n",
       "</div>"
      ],
      "text/plain": [
       "   Unnamed: 0  Unnamed: 0.1   HADM_ID  30001  30005  30006       30013  \\\n",
       "0           0             0  100006.0    NaN    NaN    NaN   21.260000   \n",
       "1           1             1  100007.0    NaN    NaN    NaN  104.687500   \n",
       "2           2             2  100021.0    NaN    NaN    NaN  133.333333   \n",
       "\n",
       "        30015       30018  30020     ...         51301  \\\n",
       "0         NaN   56.111111    NaN     ...      9.700000   \n",
       "1  111.280488  166.666667    NaN     ...      7.375000   \n",
       "2   90.869565   45.368852    NaN     ...      5.685417   \n",
       "\n",
       "   ADMISSION_TYPE_ELECTIVE  ADMISSION_TYPE_EMERGENCY  ADMISSION_TYPE_NEWBORN  \\\n",
       "0                        0                         1                       0   \n",
       "1                        0                         1                       0   \n",
       "2                        0                         1                       0   \n",
       "\n",
       "   ADMISSION_TYPE_URGENT            ADMITTIME                  DOB   age  \\\n",
       "0                      0  2108-04-06 15:49:00  2059-05-07 00:00:00  48.0   \n",
       "1                      0  2145-03-31 05:33:00  2071-06-04 00:00:00  73.0   \n",
       "2                      0  2109-08-17 10:55:00  2054-10-24 00:00:00  54.0   \n",
       "\n",
       "   diag17_171  diag17_172  \n",
       "0         NaN         NaN  \n",
       "1         NaN         NaN  \n",
       "2         NaN         NaN  \n",
       "\n",
       "[3 rows x 156 columns]"
      ]
     },
     "execution_count": 140,
     "metadata": {
      "tags": []
     },
     "output_type": "execute_result"
    }
   ],
   "source": [
    "df_150.head(3)"
   ]
  },
  {
   "cell_type": "code",
   "execution_count": 0,
   "metadata": {
    "ExecuteTime": {
     "end_time": "2019-05-02T22:40:34.854295Z",
     "start_time": "2019-05-02T22:40:34.790295Z"
    },
    "colab": {},
    "colab_type": "code",
    "id": "q6ufekF-vpk-",
    "outputId": "fbbabbee-874b-4b68-dcba-000dc54aae97"
   },
   "outputs": [
    {
     "data": {
      "text/html": [
       "<div>\n",
       "<style scoped>\n",
       "    .dataframe tbody tr th:only-of-type {\n",
       "        vertical-align: middle;\n",
       "    }\n",
       "\n",
       "    .dataframe tbody tr th {\n",
       "        vertical-align: top;\n",
       "    }\n",
       "\n",
       "    .dataframe thead th {\n",
       "        text-align: right;\n",
       "    }\n",
       "</style>\n",
       "<table border=\"1\" class=\"dataframe\">\n",
       "  <thead>\n",
       "    <tr style=\"text-align: right;\">\n",
       "      <th></th>\n",
       "      <th>HADM_ID</th>\n",
       "      <th>30001</th>\n",
       "      <th>30005</th>\n",
       "      <th>30006</th>\n",
       "      <th>30013</th>\n",
       "      <th>30015</th>\n",
       "      <th>30018</th>\n",
       "      <th>30020</th>\n",
       "      <th>30021</th>\n",
       "      <th>30025</th>\n",
       "      <th>...</th>\n",
       "      <th>51301</th>\n",
       "      <th>ADMISSION_TYPE_ELECTIVE</th>\n",
       "      <th>ADMISSION_TYPE_EMERGENCY</th>\n",
       "      <th>ADMISSION_TYPE_NEWBORN</th>\n",
       "      <th>ADMISSION_TYPE_URGENT</th>\n",
       "      <th>ADMITTIME</th>\n",
       "      <th>DOB</th>\n",
       "      <th>age</th>\n",
       "      <th>diag17_171</th>\n",
       "      <th>diag17_172</th>\n",
       "    </tr>\n",
       "  </thead>\n",
       "  <tbody>\n",
       "    <tr>\n",
       "      <th>0</th>\n",
       "      <td>100006.0</td>\n",
       "      <td>NaN</td>\n",
       "      <td>NaN</td>\n",
       "      <td>NaN</td>\n",
       "      <td>21.2600</td>\n",
       "      <td>NaN</td>\n",
       "      <td>56.111111</td>\n",
       "      <td>NaN</td>\n",
       "      <td>NaN</td>\n",
       "      <td>825.0</td>\n",
       "      <td>...</td>\n",
       "      <td>9.700</td>\n",
       "      <td>0</td>\n",
       "      <td>1</td>\n",
       "      <td>0</td>\n",
       "      <td>0</td>\n",
       "      <td>2108-04-06 15:49:00</td>\n",
       "      <td>2059-05-07 00:00:00</td>\n",
       "      <td>48.0</td>\n",
       "      <td>NaN</td>\n",
       "      <td>NaN</td>\n",
       "    </tr>\n",
       "    <tr>\n",
       "      <th>1</th>\n",
       "      <td>100007.0</td>\n",
       "      <td>NaN</td>\n",
       "      <td>NaN</td>\n",
       "      <td>NaN</td>\n",
       "      <td>104.6875</td>\n",
       "      <td>111.280488</td>\n",
       "      <td>166.666667</td>\n",
       "      <td>NaN</td>\n",
       "      <td>NaN</td>\n",
       "      <td>NaN</td>\n",
       "      <td>...</td>\n",
       "      <td>7.375</td>\n",
       "      <td>0</td>\n",
       "      <td>1</td>\n",
       "      <td>0</td>\n",
       "      <td>0</td>\n",
       "      <td>2145-03-31 05:33:00</td>\n",
       "      <td>2071-06-04 00:00:00</td>\n",
       "      <td>73.0</td>\n",
       "      <td>NaN</td>\n",
       "      <td>NaN</td>\n",
       "    </tr>\n",
       "  </tbody>\n",
       "</table>\n",
       "<p>2 rows × 154 columns</p>\n",
       "</div>"
      ],
      "text/plain": [
       "    HADM_ID  30001  30005  30006     30013       30015       30018  30020  \\\n",
       "0  100006.0    NaN    NaN    NaN   21.2600         NaN   56.111111    NaN   \n",
       "1  100007.0    NaN    NaN    NaN  104.6875  111.280488  166.666667    NaN   \n",
       "\n",
       "   30021  30025     ...      51301  ADMISSION_TYPE_ELECTIVE  \\\n",
       "0    NaN  825.0     ...      9.700                        0   \n",
       "1    NaN    NaN     ...      7.375                        0   \n",
       "\n",
       "   ADMISSION_TYPE_EMERGENCY  ADMISSION_TYPE_NEWBORN  ADMISSION_TYPE_URGENT  \\\n",
       "0                         1                       0                      0   \n",
       "1                         1                       0                      0   \n",
       "\n",
       "             ADMITTIME                  DOB   age  diag17_171  diag17_172  \n",
       "0  2108-04-06 15:49:00  2059-05-07 00:00:00  48.0         NaN         NaN  \n",
       "1  2145-03-31 05:33:00  2071-06-04 00:00:00  73.0         NaN         NaN  \n",
       "\n",
       "[2 rows x 154 columns]"
      ]
     },
     "execution_count": 141,
     "metadata": {
      "tags": []
     },
     "output_type": "execute_result"
    }
   ],
   "source": [
    "df_150 = df_150.drop(['Unnamed: 0','Unnamed: 0.1'],axis=1)\n",
    "df_150.head(2)"
   ]
  },
  {
   "cell_type": "code",
   "execution_count": 0,
   "metadata": {
    "ExecuteTime": {
     "end_time": "2019-05-02T22:40:35.699991Z",
     "start_time": "2019-05-02T22:40:34.857318Z"
    },
    "colab": {},
    "colab_type": "code",
    "id": "TtV3qtA9vplB"
   },
   "outputs": [],
   "source": [
    "df_17 = pd.read_csv(r\"D:\\Study\\mimic-code\\generated_data\\final_df17.csv\")"
   ]
  },
  {
   "cell_type": "code",
   "execution_count": 0,
   "metadata": {
    "ExecuteTime": {
     "end_time": "2019-05-02T22:40:35.751602Z",
     "start_time": "2019-05-02T22:40:35.699991Z"
    },
    "colab": {},
    "colab_type": "code",
    "id": "rf-ybp8rvplC",
    "outputId": "0dc357d5-9a96-4e4a-aafc-7cee1258a3c2"
   },
   "outputs": [
    {
     "data": {
      "text/html": [
       "<div>\n",
       "<style scoped>\n",
       "    .dataframe tbody tr th:only-of-type {\n",
       "        vertical-align: middle;\n",
       "    }\n",
       "\n",
       "    .dataframe tbody tr th {\n",
       "        vertical-align: top;\n",
       "    }\n",
       "\n",
       "    .dataframe thead th {\n",
       "        text-align: right;\n",
       "    }\n",
       "</style>\n",
       "<table border=\"1\" class=\"dataframe\">\n",
       "  <thead>\n",
       "    <tr style=\"text-align: right;\">\n",
       "      <th></th>\n",
       "      <th>HADM_ID</th>\n",
       "      <th>723</th>\n",
       "      <th>454</th>\n",
       "      <th>184</th>\n",
       "      <th>223900</th>\n",
       "      <th>223901</th>\n",
       "      <th>220739</th>\n",
       "      <th>51</th>\n",
       "      <th>455</th>\n",
       "      <th>220179</th>\n",
       "      <th>...</th>\n",
       "      <th>ADMISSION_TYPE_ELECTIVE</th>\n",
       "      <th>ADMISSION_TYPE_EMERGENCY</th>\n",
       "      <th>ADMISSION_TYPE_NEWBORN</th>\n",
       "      <th>ADMISSION_TYPE_URGENT</th>\n",
       "      <th>ADMITTIME</th>\n",
       "      <th>DOB</th>\n",
       "      <th>age</th>\n",
       "      <th>diag17_171</th>\n",
       "      <th>diag17_172</th>\n",
       "      <th>1_yr_mortality</th>\n",
       "    </tr>\n",
       "  </thead>\n",
       "  <tbody>\n",
       "    <tr>\n",
       "      <th>0</th>\n",
       "      <td>100006.0</td>\n",
       "      <td>5.000000</td>\n",
       "      <td>6.0</td>\n",
       "      <td>4.000000</td>\n",
       "      <td>NaN</td>\n",
       "      <td>NaN</td>\n",
       "      <td>NaN</td>\n",
       "      <td>NaN</td>\n",
       "      <td>140.509434</td>\n",
       "      <td>NaN</td>\n",
       "      <td>...</td>\n",
       "      <td>0</td>\n",
       "      <td>1</td>\n",
       "      <td>0</td>\n",
       "      <td>0</td>\n",
       "      <td>2108-04-06 15:49:00</td>\n",
       "      <td>2059-05-07 00:00:00</td>\n",
       "      <td>48.0</td>\n",
       "      <td>NaN</td>\n",
       "      <td>NaN</td>\n",
       "      <td>0</td>\n",
       "    </tr>\n",
       "    <tr>\n",
       "      <th>1</th>\n",
       "      <td>100007.0</td>\n",
       "      <td>4.592593</td>\n",
       "      <td>6.0</td>\n",
       "      <td>3.925926</td>\n",
       "      <td>NaN</td>\n",
       "      <td>NaN</td>\n",
       "      <td>NaN</td>\n",
       "      <td>NaN</td>\n",
       "      <td>140.746835</td>\n",
       "      <td>NaN</td>\n",
       "      <td>...</td>\n",
       "      <td>0</td>\n",
       "      <td>1</td>\n",
       "      <td>0</td>\n",
       "      <td>0</td>\n",
       "      <td>2145-03-31 05:33:00</td>\n",
       "      <td>2071-06-04 00:00:00</td>\n",
       "      <td>73.0</td>\n",
       "      <td>NaN</td>\n",
       "      <td>NaN</td>\n",
       "      <td>0</td>\n",
       "    </tr>\n",
       "    <tr>\n",
       "      <th>2</th>\n",
       "      <td>100021.0</td>\n",
       "      <td>3.227273</td>\n",
       "      <td>5.0</td>\n",
       "      <td>3.375000</td>\n",
       "      <td>NaN</td>\n",
       "      <td>NaN</td>\n",
       "      <td>NaN</td>\n",
       "      <td>NaN</td>\n",
       "      <td>125.000000</td>\n",
       "      <td>NaN</td>\n",
       "      <td>...</td>\n",
       "      <td>0</td>\n",
       "      <td>1</td>\n",
       "      <td>0</td>\n",
       "      <td>0</td>\n",
       "      <td>2109-08-17 10:55:00</td>\n",
       "      <td>2054-10-24 00:00:00</td>\n",
       "      <td>54.0</td>\n",
       "      <td>NaN</td>\n",
       "      <td>NaN</td>\n",
       "      <td>0</td>\n",
       "    </tr>\n",
       "  </tbody>\n",
       "</table>\n",
       "<p>3 rows × 43 columns</p>\n",
       "</div>"
      ],
      "text/plain": [
       "    HADM_ID       723  454       184  223900  223901  220739  51         455  \\\n",
       "0  100006.0  5.000000  6.0  4.000000     NaN     NaN     NaN NaN  140.509434   \n",
       "1  100007.0  4.592593  6.0  3.925926     NaN     NaN     NaN NaN  140.746835   \n",
       "2  100021.0  3.227273  5.0  3.375000     NaN     NaN     NaN NaN  125.000000   \n",
       "\n",
       "   220179       ...        ADMISSION_TYPE_ELECTIVE  ADMISSION_TYPE_EMERGENCY  \\\n",
       "0     NaN       ...                              0                         1   \n",
       "1     NaN       ...                              0                         1   \n",
       "2     NaN       ...                              0                         1   \n",
       "\n",
       "   ADMISSION_TYPE_NEWBORN  ADMISSION_TYPE_URGENT            ADMITTIME  \\\n",
       "0                       0                      0  2108-04-06 15:49:00   \n",
       "1                       0                      0  2145-03-31 05:33:00   \n",
       "2                       0                      0  2109-08-17 10:55:00   \n",
       "\n",
       "                   DOB   age  diag17_171  diag17_172  1_yr_mortality  \n",
       "0  2059-05-07 00:00:00  48.0         NaN         NaN               0  \n",
       "1  2071-06-04 00:00:00  73.0         NaN         NaN               0  \n",
       "2  2054-10-24 00:00:00  54.0         NaN         NaN               0  \n",
       "\n",
       "[3 rows x 43 columns]"
      ]
     },
     "execution_count": 143,
     "metadata": {
      "tags": []
     },
     "output_type": "execute_result"
    }
   ],
   "source": [
    "df_17 = df_17.drop(['Unnamed: 0'],axis=1)\n",
    "df_17.head(3)"
   ]
  },
  {
   "cell_type": "code",
   "execution_count": 0,
   "metadata": {
    "ExecuteTime": {
     "end_time": "2019-05-02T22:40:47.212783Z",
     "start_time": "2019-05-02T22:40:35.768602Z"
    },
    "colab": {},
    "colab_type": "code",
    "id": "0JFtvNg4vplE",
    "outputId": "3ccd003a-430e-4d5d-8b57-e4b9122a60da"
   },
   "outputs": [
    {
     "data": {
      "image/png": "[encoded data removed]",
      "text/plain": [
       "<Figure size 1080x576 with 1 Axes>"
      ]
     },
     "metadata": {
      "needs_background": "light",
      "tags": []
     },
     "output_type": "display_data"
    }
   ],
   "source": [
    "fig,ax = plt.subplots(figsize=(15,8))\n",
    "sns.heatmap(df_17.isnull(),cbar = False, ax =ax)\n",
    "plt.title(\"Heatmap of Missing Values of Dataset with 17 Features\")\n",
    "plt.savefig('image/df_17_missing.tif',bbox_inches='tight')"
   ]
  },
  {
   "cell_type": "code",
   "execution_count": 0,
   "metadata": {
    "ExecuteTime": {
     "end_time": "2019-05-02T22:41:09.012691Z",
     "start_time": "2019-05-02T22:40:47.212783Z"
    },
    "colab": {},
    "colab_type": "code",
    "id": "hd00m48uvplF",
    "outputId": "83adf01b-9b00-4fb5-8c52-7e4d8f60d5c6"
   },
   "outputs": [
    {
     "data": {
      "image/png": "[encoded data removed]",
      "text/plain": [
       "<Figure size 1080x576 with 1 Axes>"
      ]
     },
     "metadata": {
      "needs_background": "light",
      "tags": []
     },
     "output_type": "display_data"
    }
   ],
   "source": [
    "fig,ax = plt.subplots(figsize=(15,8))\n",
    "sns.heatmap(df_150.isnull(),cbar = False, ax =ax)\n",
    "plt.title(\"Heatmap of Missing Values of Dataset with 150 Features\")\n",
    "plt.savefig('image/df_150_missing.tif',bbox_inches='tight')"
   ]
  },
  {
   "cell_type": "code",
   "execution_count": 0,
   "metadata": {
    "ExecuteTime": {
     "end_time": "2019-05-02T22:41:09.270539Z",
     "start_time": "2019-05-02T22:41:09.028328Z"
    },
    "colab": {},
    "colab_type": "code",
    "id": "ZFAKK4jLvplH",
    "outputId": "8b564b89-bea8-46f8-fa21-d5acbaf115d0"
   },
   "outputs": [
    {
     "data": {
      "text/plain": [
       "HADM_ID    0.000000\n",
       "723        0.520800\n",
       "454        0.520853\n",
       "184        0.520747\n",
       "223900     0.614490\n",
       "223901     0.614543\n",
       "220739     0.614437\n",
       "51         0.715565\n",
       "455        0.534127\n",
       "220179     0.617751\n",
       "dtype: float64"
      ]
     },
     "execution_count": 146,
     "metadata": {
      "tags": []
     },
     "output_type": "execute_result"
    }
   ],
   "source": [
    "# Show missing value proportion of each columns\n",
    "null_list_17 = df_17.isnull().sum()/len(df_17)\n",
    "null_list_17[:10]"
   ]
  },
  {
   "cell_type": "code",
   "execution_count": 0,
   "metadata": {
    "ExecuteTime": {
     "end_time": "2019-05-02T22:41:09.377909Z",
     "start_time": "2019-05-02T22:41:09.272453Z"
    },
    "colab": {},
    "colab_type": "code",
    "id": "i7DzDKJ2vplK",
    "outputId": "a0167bcf-ec7a-4b71-ee27-a8472ca8e3ac"
   },
   "outputs": [
    {
     "data": {
      "text/plain": [
       "(56730, 14)"
      ]
     },
     "execution_count": 147,
     "metadata": {
      "tags": []
     },
     "output_type": "execute_result"
    }
   ],
   "source": [
    "# Drop columns which contains more than 0.2 missing values \n",
    "limitPer = df_17.shape[0] * .8\n",
    "df_17_dn=df_17.dropna(thresh=limitPer,axis=1)\n",
    "df_17_dn.shape"
   ]
  },
  {
   "cell_type": "code",
   "execution_count": 0,
   "metadata": {
    "ExecuteTime": {
     "end_time": "2019-05-02T22:41:09.413879Z",
     "start_time": "2019-05-02T22:41:09.397872Z"
    },
    "colab": {},
    "colab_type": "code",
    "id": "umzQgPAZvplL",
    "outputId": "fada7438-5da3-416a-a4b9-a0fe0b2c3ab2"
   },
   "outputs": [
    {
     "data": {
      "text/plain": [
       "(56730, 154)"
      ]
     },
     "execution_count": 148,
     "metadata": {
      "tags": []
     },
     "output_type": "execute_result"
    }
   ],
   "source": [
    "df_150.shape"
   ]
  },
  {
   "cell_type": "code",
   "execution_count": 0,
   "metadata": {
    "ExecuteTime": {
     "end_time": "2019-05-02T22:41:09.611517Z",
     "start_time": "2019-05-02T22:41:09.417908Z"
    },
    "colab": {},
    "colab_type": "code",
    "id": "OGHFB4aZvplO",
    "outputId": "f3ef7747-b49c-4210-bdd5-f95585569cfa"
   },
   "outputs": [
    {
     "data": {
      "text/plain": [
       "HADM_ID    0.000000\n",
       "30001      0.871743\n",
       "30005      0.953763\n",
       "30006      0.973189\n",
       "30013      0.682426\n",
       "30015      0.913203\n",
       "30018      0.729825\n",
       "30020      0.964040\n",
       "30021      0.876326\n",
       "30025      0.931465\n",
       "dtype: float64"
      ]
     },
     "execution_count": 149,
     "metadata": {
      "tags": []
     },
     "output_type": "execute_result"
    }
   ],
   "source": [
    "# # Show missing value proportion of each columns\n",
    "null_list_150 = df_150.isnull().sum()/len(df_150)\n",
    "null_list_150[:10]"
   ]
  },
  {
   "cell_type": "code",
   "execution_count": 0,
   "metadata": {
    "ExecuteTime": {
     "end_time": "2019-05-02T22:41:09.808512Z",
     "start_time": "2019-05-02T22:41:09.614512Z"
    },
    "colab": {},
    "colab_type": "code",
    "id": "yUxYvV28vplQ",
    "outputId": "3d72b445-9c7a-4169-d78e-7781cfc7201b"
   },
   "outputs": [
    {
     "data": {
      "text/plain": [
       "(56730, 14)"
      ]
     },
     "execution_count": 150,
     "metadata": {
      "tags": []
     },
     "output_type": "execute_result"
    }
   ],
   "source": [
    "# Drop columns which contains more than 0.2 missing values \n",
    "limitPer = df_150.shape[0] * .8\n",
    "df_150=df_150.dropna(thresh=limitPer,axis=1)\n",
    "df_150.shape"
   ]
  },
  {
   "cell_type": "markdown",
   "metadata": {
    "ExecuteTime": {
     "start_time": "2019-05-02T21:31:25.223Z"
    },
    "colab_type": "text",
    "id": "-66iiRlpvplS"
   },
   "source": [
    "From above we could see that if we exclude columns which contains more than 20% missing values for both datasets, we observed that for dataset which contained 17 features it finally has 14 columns, and for dataset which contained 150 features it finally has 14 columns as well.\n",
    "This means that the second data set added a lot of nonvaluable features, which brings us both dataset generated similar model performance."
   ]
  },
  {
   "cell_type": "code",
   "execution_count": 0,
   "metadata": {
    "colab": {},
    "colab_type": "code",
    "id": "yoaAghZHvplT"
   },
   "outputs": [],
   "source": []
  },
  {
   "cell_type": "code",
   "execution_count": 0,
   "metadata": {
    "colab": {},
    "colab_type": "code",
    "id": "UTM3xqXbvplU"
   },
   "outputs": [],
   "source": []
  }
 ],
 "metadata": {
  "colab": {
   "name": "Data_Exploration.ipynb",
   "provenance": [],
   "version": "0.3.2"
  },
  "kernelspec": {
   "display_name": "Python 3",
   "language": "python",
   "name": "python3"
  },
  "language_info": {
   "codemirror_mode": {
    "name": "ipython",
    "version": 3
   },
   "file_extension": ".py",
   "mimetype": "text/x-python",
   "name": "python",
   "nbconvert_exporter": "python",
   "pygments_lexer": "ipython3",
   "version": "3.5.6"
  },
  "varInspector": {
   "cols": {
    "lenName": 16,
    "lenType": 16,
    "lenVar": 40
   },
   "kernels_config": {
    "python": {
     "delete_cmd_postfix": "",
     "delete_cmd_prefix": "del ",
     "library": "var_list.py",
     "varRefreshCmd": "print(var_dic_list())"
    },
    "r": {
     "delete_cmd_postfix": ") ",
     "delete_cmd_prefix": "rm(",
     "library": "var_list.r",
     "varRefreshCmd": "cat(var_dic_list()) "
    }
   },
   "types_to_exclude": [
    "module",
    "function",
    "builtin_function_or_method",
    "instance",
    "_Feature"
   ],
   "window_display": false
  }
 },
 "nbformat": 4,
 "nbformat_minor": 1
}
