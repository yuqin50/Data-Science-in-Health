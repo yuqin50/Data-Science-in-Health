{
 "cells": [
  {
   "cell_type": "markdown",
   "metadata": {},
   "source": [
    "# HW1 - Python and Probability"
   ]
  },
  {
   "cell_type": "markdown",
   "metadata": {},
   "source": [
    "In this module, we will be using what you learned in class about python and probability and practice using the git workflow to submit assignments in this class. "
   ]
  },
  {
   "cell_type": "code",
   "execution_count": 48,
   "metadata": {},
   "outputs": [],
   "source": [
    "import numpy as np\n",
    "from scipy import stats\n",
    "import matplotlib.pyplot as plt\n",
    "import math\n",
    "%matplotlib inline\n",
    "import string"
   ]
  },
  {
   "cell_type": "markdown",
   "metadata": {},
   "source": [
    "### 1. Create a list of 1000 normally-distributed numbers with mean 10 and variance 5 and assign it to a variable\n",
    "\n",
    "$$ X \\sim N(10, 5) $$\n",
    "\n",
    "For this, you can use the `scipy.stats.norm` function. You can find the documentation [here](https://docs.scipy.org/doc/scipy/reference/generated/scipy.stats.norm.html). Look for the example that tells you how to generate random numbers!\n",
    "\n",
    "Also, be careful about your `scale` parameter -- remember, you want a *variance* of 5 here. Another thing to watch out here is that we've imported the entire `scipy.stats` module. Keep that in mind when trying to figure out how to access functions within a module."
   ]
  },
  {
   "cell_type": "markdown",
   "metadata": {},
   "source": [
    "##### [10] pts"
   ]
  },
  {
   "cell_type": "code",
   "execution_count": 49,
   "metadata": {},
   "outputs": [],
   "source": [
    "## Your code here:\n",
    "norm_list = stats.norm.rvs(loc = 10, scale = math.sqrt(5),size = 1000 )\n"
   ]
  },
  {
   "cell_type": "markdown",
   "metadata": {},
   "source": [
    "### 2. Check the *empirical* mean and variance of this distribution by using the `mean` and `std` functions from the `numpy` library on your list."
   ]
  },
  {
   "cell_type": "markdown",
   "metadata": {},
   "source": [
    "##### [5] pts"
   ]
  },
  {
   "cell_type": "code",
   "execution_count": 50,
   "metadata": {},
   "outputs": [
    {
     "data": {
      "text/plain": [
       "9.976931646982713"
      ]
     },
     "execution_count": 50,
     "metadata": {},
     "output_type": "execute_result"
    }
   ],
   "source": [
    "## Mean:\n",
    "m = np.mean(norm_list)\n",
    "m"
   ]
  },
  {
   "cell_type": "markdown",
   "metadata": {},
   "source": [
    "##### [5] pts"
   ]
  },
  {
   "cell_type": "code",
   "execution_count": 51,
   "metadata": {},
   "outputs": [
    {
     "data": {
      "text/plain": [
       "4.790706965820482"
      ]
     },
     "execution_count": 51,
     "metadata": {},
     "output_type": "execute_result"
    }
   ],
   "source": [
    "## Variance:\n",
    "v = np.var(norm_list)\n",
    "# or use std function => v = math.pow(np.std(norm_list),2)\n",
    "v"
   ]
  },
  {
   "cell_type": "markdown",
   "metadata": {},
   "source": [
    "### 3. The Multivariate Normal"
   ]
  },
  {
   "cell_type": "markdown",
   "metadata": {},
   "source": [
    "For this step, we're going to emulate draws from a bivariate normal distribution (a 2-dimensional normal distribution). As you remember from class, the multivariate normal distribution can be expressed by a mean vector and a covariance matrix. However, we can also build our *own* bivariate normal by generating correlated values to the values that you generated above.\n",
    "\n",
    "The random normal values that you generated before were distributed\n",
    "\n",
    "$$X \\sim N(10, 5)$$ \n",
    "(This notation means the random variable X is distributed Normally with mean 10, and variance 5)\n",
    "\n",
    "Let's say that we want to generate another set of 1000 Normal random variables. However, we want them to be *correlated* with your current list. At the end, we would like the *joint* distribution of the two lists to have some non-zero *covariance*. To read more about the difference between a correlation and a covariance, click [here](http://ci.columbia.edu/ci/premba_test/c0331/s7/s7_5.html)\n",
    "\n",
    "At the end, we would like the *joint* distribution of the two lists to follow the following:\n",
    "\n",
    "$$ \\begin{bmatrix}X\\\\Y\\end{bmatrix} \\sim N(\\begin{bmatrix}10 \\\\50 \\end{bmatrix}, \\begin{bmatrix}  5&8\\\\8&20\\end{bmatrix})$$\n",
    "\n",
    "which follows the following structure:\n",
    "\n",
    "$$ \\begin{bmatrix}X\\\\Y\\end{bmatrix} \\sim N(\\begin{bmatrix} \\mu_x \\\\ \\mu_y \\end{bmatrix}, \\begin{bmatrix} \\sigma_x^2 & \\rho\\sigma_x\\sigma_y \\\\ \\rho\\sigma_y\\sigma_x & \\sigma_y^2 \\end{bmatrix})$$\n",
    "\n",
    "The diagonals of the covariance matrix are the respective variances of the two normal distributions that make up the bivariate normal. The diagonal elements represent the covariance between the two (this generalizes in *k* dimensions).\n",
    "\n",
    "The covariance in this case is 8. However, we will need to convert this to a correlation for later. The relationship between the covariance and the correlation is given as follows:\n",
    "\n",
    "$$ Cov_{xy} = \\rho_{xy}\\sigma_x\\sigma_y $$\n",
    "\n",
    "where $\\rho_{xy}$ is the correlation between $x$ and $y$"
   ]
  },
  {
   "cell_type": "markdown",
   "metadata": {},
   "source": [
    "##### [5] pts"
   ]
  },
  {
   "cell_type": "code",
   "execution_count": 52,
   "metadata": {},
   "outputs": [
    {
     "name": "stdout",
     "output_type": "stream",
     "text": [
      "0.7999999999999998\n"
     ]
    }
   ],
   "source": [
    "# Compute the correlation between X and Y in the \n",
    "# multivariate normal distribution above and print it here:\n",
    "x_var = 5\n",
    "y_var = 20\n",
    "x_std = math.sqrt(x_var)\n",
    "y_std = math.sqrt(y_var)\n",
    "cov = 8\n",
    "corr = cov / (x_std * y_std)\n",
    "print(corr)"
   ]
  },
  {
   "cell_type": "markdown",
   "metadata": {},
   "source": [
    "We now want to generate a new set of 1000 normally distributed variables. However, we want to generate them based on the values of our old list. For each number $x$ generated in your old list, generate a new number which is drawn from the following distribution:\n",
    "\n",
    "$$ y \\sim N((\\mu_y + \\rho(\\frac{\\sigma_y}{\\sigma_x})(x-\\mu_x)), \\sigma^2_y (1-\\rho^2)) $$\n",
    "\n",
    "where $\\rho$ is the *correlation* between the two normal distributions that you calculated above, $\\mu_y$ is the mean of Y, and $\\sigma$ represents the standard deviation. Store the results in another list of 1000 numbers. We will do this in two different ways: Please complete the boilerplate code below"
   ]
  },
  {
   "cell_type": "markdown",
   "metadata": {},
   "source": [
    "#### Method 1 -- build a list iteratively [10 pts]"
   ]
  },
  {
   "cell_type": "code",
   "execution_count": 53,
   "metadata": {},
   "outputs": [
    {
     "data": {
      "text/plain": [
       "7.200000000000006"
      ]
     },
     "execution_count": 53,
     "metadata": {},
     "output_type": "execute_result"
    }
   ],
   "source": [
    "## This first method will involve constructing \n",
    "## an array iteratively using a for loop:\n",
    "\n",
    "cond_normal_array1 = []\n",
    "x_mean = 10\n",
    "y_mean = 50\n",
    "Y_var = y_var * (1 - math.pow(corr, 2))\n",
    "Y_std = math.sqrt(Y_var)\n",
    "for v in norm_list:\n",
    "    \"\"\"\n",
    "    Compute a new number depending on the value in normlist\n",
    "    and append it to cond_normal_array1\n",
    "    \"\"\"\n",
    "    # Your code here\n",
    "    Y_mean = y_mean + corr * (y_std / x_std) * (v - x_mean)\n",
    "    y = stats.norm.rvs(loc = Y_mean, scale = Y_std)\n",
    "    cond_normal_array1.append(y)\n",
    "Y_var    "
   ]
  },
  {
   "cell_type": "markdown",
   "metadata": {},
   "source": [
    "Verify that the mean and variance of the numbers that you generated match the expected distribution of $Y$"
   ]
  },
  {
   "cell_type": "code",
   "execution_count": 54,
   "metadata": {},
   "outputs": [
    {
     "data": {
      "text/plain": [
       "49.972647159430025"
      ]
     },
     "execution_count": 54,
     "metadata": {},
     "output_type": "execute_result"
    }
   ],
   "source": [
    "# Find the mean \n",
    "Ymean = np.mean(cond_normal_array1)\n",
    "Ymean"
   ]
  },
  {
   "cell_type": "code",
   "execution_count": 55,
   "metadata": {},
   "outputs": [
    {
     "data": {
      "text/plain": [
       "19.24713920480252"
      ]
     },
     "execution_count": 55,
     "metadata": {},
     "output_type": "execute_result"
    }
   ],
   "source": [
    "# And variance\n",
    "Yvar = np.var(cond_normal_array1)\n",
    "Yvar"
   ]
  },
  {
   "cell_type": "markdown",
   "metadata": {},
   "source": [
    "#### Method 2 - List Comprehension [10 pts]"
   ]
  },
  {
   "cell_type": "markdown",
   "metadata": {},
   "source": [
    "This method will involve writing a function that operates on a single value, and then we will apply that in a list comprehension to generate the new list\n"
   ]
  },
  {
   "cell_type": "code",
   "execution_count": 56,
   "metadata": {},
   "outputs": [],
   "source": [
    "def gen_cond_normal_val(x, y_mean, x_mean, y_std, x_std, rho):\n",
    "    \"\"\"\n",
    "    This function returns a draw from a conditional normal distribution with the specified parameters\n",
    "    Args: (all Args numeric)\n",
    "        x: Observed value\n",
    "        y_mean: mean of Y distribution\n",
    "        x_mean: mean of X distribution\n",
    "        y_std: standard deviation of Y distribution\n",
    "        x_std: standard deviation of X distribution\n",
    "        rho: correlation between X and Y\n",
    "    Returns: \n",
    "        \n",
    "    \"\"\"\n",
    "    y_var = math.pow(y_std, 2)\n",
    "    Y_var = y_var * (1 - math.pow(rho, 2))\n",
    "    Y_std = math.sqrt(Y_var)\n",
    "    for v in norm_list:\n",
    "        Y_mean = y_mean + rho * (y_std / x_std) * (x - x_mean)\n",
    "        y = stats.norm.rvs(loc = Y_mean, scale = Y_std)\n",
    "     #replace this with a return \n",
    "    return y"
   ]
  },
  {
   "cell_type": "code",
   "execution_count": 57,
   "metadata": {},
   "outputs": [
    {
     "name": "stdout",
     "output_type": "stream",
     "text": [
      "19.898417809772894\n"
     ]
    }
   ],
   "source": [
    "cond_normal_array2 = [gen_cond_normal_val(x, y_mean, x_mean, y_std, x_std, corr) for x in norm_list] # replace the ... with your parameter values\n",
    "print(np.var(cond_normal_array2))"
   ]
  },
  {
   "cell_type": "markdown",
   "metadata": {},
   "source": [
    "### 4. Strings and Discrete Distributions\n",
    "\n",
    "In this section, we will use strings and dictionaries to create a draw from a discrete distribution. "
   ]
  },
  {
   "cell_type": "markdown",
   "metadata": {},
   "source": [
    "First, take the following string and perform the following operations and save it back to the same variable:\n",
    "\n",
    " 1. Remove all whitespace (spaces)\n",
    " 2. Remove all periods `.` and commas `,`\n",
    " 3. Make every letter lowercase\n",
    " "
   ]
  },
  {
   "cell_type": "markdown",
   "metadata": {},
   "source": [
    "##### [5] pts"
   ]
  },
  {
   "cell_type": "code",
   "execution_count": 58,
   "metadata": {},
   "outputs": [],
   "source": [
    "lorem_string = \"Lorem ipsum dolor sit amet, consectetur adipiscing elit, sed do eiusmod tempor incididunt ut labore et dolore magna aliqua. Ut enim ad minim veniam, quis nostrud exercitation ullamco laboris nisi ut aliquip ex ea commodo consequat. Duis aute irure dolor in reprehenderit in voluptate velit esse cillum dolore eu fugiat nulla pariatur. Excepteur sint occaecat cupidatat non proident, sunt in culpa qui officia deserunt mollit anim id est laborum.\""
   ]
  },
  {
   "cell_type": "code",
   "execution_count": 59,
   "metadata": {},
   "outputs": [
    {
     "name": "stdout",
     "output_type": "stream",
     "text": [
      "369\n"
     ]
    }
   ],
   "source": [
    "# Perform the operations listed above and save it back to lorem_string\n",
    "def stroperation(str):\n",
    "    str = str.replace(\" \",\"\")\n",
    "    str = str.replace(\".\",\"\")\n",
    "    str = str.replace(\",\",\"\")\n",
    "    str = str.lower()\n",
    "    return str\n",
    "lorem_string = stroperation(lorem_string)\n",
    "lorem_string\n",
    "print(len(lorem_string))"
   ]
  },
  {
   "cell_type": "markdown",
   "metadata": {},
   "source": [
    "Next, create a dictionary where the `keys` are each of the letters of the english alphabet and the `values` are the number of times it appears in the following string. Assign this to a variable called `result_dict`:"
   ]
  },
  {
   "cell_type": "markdown",
   "metadata": {},
   "source": [
    "##### [10 pts]"
   ]
  },
  {
   "cell_type": "code",
   "execution_count": 60,
   "metadata": {},
   "outputs": [
    {
     "name": "stdout",
     "output_type": "stream",
     "text": [
      "369\n"
     ]
    }
   ],
   "source": [
    "result_dict = {}\n",
    "# Your code here:\n",
    "total = 0 # to verify total count = len(lorem_string)\n",
    "for char in lorem_string:\n",
    "    if char not in result_dict:\n",
    "        cnt = lorem_string.count(char)\n",
    "        result_dict[char] = cnt\n",
    "        total += cnt\n",
    "print(total)"
   ]
  },
  {
   "cell_type": "markdown",
   "metadata": {},
   "source": [
    "if you did everything correctly, this should output a plot!"
   ]
  },
  {
   "cell_type": "code",
   "execution_count": 61,
   "metadata": {},
   "outputs": [
    {
     "data": {
      "text/plain": [
       "<BarContainer object of 21 artists>"
      ]
     },
     "execution_count": 61,
     "metadata": {},
     "output_type": "execute_result"
    },
    {
     "data": {
      "image/png": "[encoded data removed]",
      "text/plain": [
       "<Figure size 432x288 with 1 Axes>"
      ]
     },
     "metadata": {
      "needs_background": "light"
     },
     "output_type": "display_data"
    }
   ],
   "source": [
    "# Run this line to plot the counts\n",
    "plt.bar(list(result_dict.keys()), list(result_dict.values()))"
   ]
  },
  {
   "cell_type": "markdown",
   "metadata": {},
   "source": [
    "Next, we're going to create a discrete distribution from what you saw in `result_dict`. We will take the counts of values as you observed as defining the distribution. In order to make it look more like a distribution, we need to *normalize* the counts. Recall that probability distributions must sum up to 1. So, we need to make the values in `result_dict` sum up to 1, but to keep the ratio between each of the values. To do this, simply divide every element by the sum of all of the elements. Return this new dictionary as `normalized_dict`"
   ]
  },
  {
   "cell_type": "markdown",
   "metadata": {},
   "source": [
    "##### [10] pts"
   ]
  },
  {
   "cell_type": "code",
   "execution_count": 62,
   "metadata": {},
   "outputs": [],
   "source": [
    "# Your code here\n",
    "normalized_dict ={}\n",
    "for char in result_dict:\n",
    "    normalized_dict[char] = result_dict[char]/total   "
   ]
  },
  {
   "cell_type": "code",
   "execution_count": 63,
   "metadata": {},
   "outputs": [
    {
     "data": {
      "text/plain": [
       "<BarContainer object of 21 artists>"
      ]
     },
     "execution_count": 63,
     "metadata": {},
     "output_type": "execute_result"
    },
    {
     "data": {
      "image/png": "[encoded data removed]",
      "text/plain": [
       "<Figure size 432x288 with 1 Axes>"
      ]
     },
     "metadata": {
      "needs_background": "light"
     },
     "output_type": "display_data"
    }
   ],
   "source": [
    "plt.bar(list(normalized_dict.keys()), list(normalized_dict.values()))"
   ]
  },
  {
   "cell_type": "markdown",
   "metadata": {},
   "source": [
    "Next, recall that a Random Variable is a function that maps events from the sample space (here, this is the letters) to real numbers. We're going to define a random variable $X$ that takes on the values as defined by the following dictionary (any letter which does not show up in our `normalized_dict` you can ignore."
   ]
  },
  {
   "cell_type": "code",
   "execution_count": 64,
   "metadata": {},
   "outputs": [
    {
     "data": {
      "text/plain": [
       "{'a': 1,\n",
       " 'b': 2,\n",
       " 'c': 3,\n",
       " 'd': 4,\n",
       " 'e': 5,\n",
       " 'f': 6,\n",
       " 'g': 7,\n",
       " 'h': 8,\n",
       " 'i': 9,\n",
       " 'j': 10,\n",
       " 'k': 11,\n",
       " 'l': 12,\n",
       " 'm': 13,\n",
       " 'n': 14,\n",
       " 'o': 15,\n",
       " 'p': 16,\n",
       " 'q': 17,\n",
       " 'r': 18,\n",
       " 's': 19,\n",
       " 't': 20,\n",
       " 'u': 21,\n",
       " 'v': 22,\n",
       " 'w': 23,\n",
       " 'x': 24,\n",
       " 'y': 25,\n",
       " 'z': 26}"
      ]
     },
     "execution_count": 64,
     "metadata": {},
     "output_type": "execute_result"
    }
   ],
   "source": [
    "letter_dict = dict(zip(string.ascii_lowercase, range(1, len(string.ascii_lowercase)+1)))\n",
    "letter_dict"
   ]
  },
  {
   "cell_type": "markdown",
   "metadata": {},
   "source": [
    "Assume that the probabilities that you see in `normalized_dict` are the result of evaluating a probability mass function for drawing letters. Each of the letter draws is now represented by a number according to `letter_dict`. Using this information, compute the Expected Value of the distribution. In addition, write code the implements both forms of the variance formula below and verify that they are indeed equivalent.\n",
    "$$ E(X) = \\sum_ix_iP(x_i) $$\n",
    "$$ Var(X) = \\sum_i(x_i-E(X))^2P(x_i)$$\n",
    "$$ or $$\n",
    "$$Var(X)= E(X^2) - E(X)^2 $$"
   ]
  },
  {
   "cell_type": "markdown",
   "metadata": {},
   "source": [
    "##### [10] pts each"
   ]
  },
  {
   "cell_type": "code",
   "execution_count": 65,
   "metadata": {},
   "outputs": [
    {
     "name": "stdout",
     "output_type": "stream",
     "text": [
      "11.96747967479675\n"
     ]
    }
   ],
   "source": [
    "# Expectation - Your code here\n",
    "EX = 0\n",
    "for char in normalized_dict:\n",
    "    EX += letter_dict[char] * normalized_dict[char]\n",
    "print(EX)"
   ]
  },
  {
   "cell_type": "code",
   "execution_count": 66,
   "metadata": {},
   "outputs": [
    {
     "name": "stdout",
     "output_type": "stream",
     "text": [
      "44.00436248264922\n"
     ]
    }
   ],
   "source": [
    "# Variance Equation # 1 - Your code here\n",
    "VarX1 = 0\n",
    "for char in normalized_dict:\n",
    "    VarX1 += math.pow(letter_dict[char] - EX, 2) * normalized_dict[char]\n",
    "print(VarX1)"
   ]
  },
  {
   "cell_type": "code",
   "execution_count": 67,
   "metadata": {},
   "outputs": [
    {
     "name": "stdout",
     "output_type": "stream",
     "text": [
      "44.004362482649185\n"
     ]
    }
   ],
   "source": [
    "# Variance Equation # 2 - Your code here\n",
    "EX2 = 0\n",
    "for char in normalized_dict:\n",
    "    EX2 += math.pow(letter_dict[char], 2) * normalized_dict[char]\n",
    "VarX2 = EX2 - EX * EX\n",
    "print (VarX2)"
   ]
  },
  {
   "cell_type": "code",
   "execution_count": null,
   "metadata": {},
   "outputs": [],
   "source": []
  }
 ],
 "metadata": {
  "kernelspec": {
   "display_name": "Python 3",
   "language": "python",
   "name": "python3"
  },
  "language_info": {
   "codemirror_mode": {
    "name": "ipython",
    "version": 3
   },
   "file_extension": ".py",
   "mimetype": "text/x-python",
   "name": "python",
   "nbconvert_exporter": "python",
   "pygments_lexer": "ipython3",
   "version": "3.7.0"
  }
 },
 "nbformat": 4,
 "nbformat_minor": 2
}
